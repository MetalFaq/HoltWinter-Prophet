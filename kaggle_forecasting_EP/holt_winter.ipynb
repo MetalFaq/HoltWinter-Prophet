{
 "cells": [
  {
   "cell_type": "code",
   "execution_count": null,
   "id": "2c3da4dc-af36-472b-898e-dd890ed4bee8",
   "metadata": {},
   "outputs": [],
   "source": [
    "import numpy as np\n",
    "\n",
    "# Para tratamiento y e/s de datos\n",
    "import pandas as pd\n",
    "# from pandas_profiling import ProfileReport\n",
    "\n",
    "# Gráficos de datos\n",
    "import matplotlib.pyplot as plt\n",
    "import plotly.express as px\n",
    "import plotly.graph_objects as go"
   ]
  },
  {
   "cell_type": "code",
   "execution_count": null,
   "id": "36a0ec2e-30ae-43c8-bfb4-2081d4acbd8f",
   "metadata": {},
   "outputs": [],
   "source": [
    "# Conversión .ipynb ---> .py :\n",
    "# Tener instalado: ipython, nbconvert\n",
    "# En la terminal de anaconda: jupyter nbconvert [archivo].ipynb --to python"
   ]
  },
  {
   "cell_type": "markdown",
   "id": "f4a515bf-c3c9-40bf-9983-77433f320f57",
   "metadata": {},
   "source": [
    "# Forecasting Demanda de Energía (Holt-Winters)"
   ]
  },
  {
   "cell_type": "markdown",
   "id": "0696f08a",
   "metadata": {},
   "source": [
    "### Leemos los datos que tenemos"
   ]
  },
  {
   "cell_type": "code",
   "execution_count": null,
   "id": "1a19b82a",
   "metadata": {},
   "outputs": [],
   "source": [
    "# Importo el archivos de datos de consumo de energia en la zona este de EE.UU.\n",
    "df = pd.read_csv(r'\\kaggle_forecasting_EP\\PJME_hourly.csv')"
   ]
  },
  {
   "cell_type": "code",
   "execution_count": null,
   "id": "d915052c",
   "metadata": {},
   "outputs": [],
   "source": [
    "df.head()"
   ]
  },
  {
   "cell_type": "markdown",
   "id": "32eb1b87-b3df-40bf-9625-5a8453cb61b7",
   "metadata": {},
   "source": [
    "<b>Target_values: \"PJME_MW\"</b>"
   ]
  },
  {
   "cell_type": "code",
   "execution_count": null,
   "id": "44207bf0",
   "metadata": {},
   "outputs": [],
   "source": [
    "#Convierto el index en DateTimeIndex\n",
    "df['Datetime'] = pd.to_datetime(df['Datetime'])\n",
    "df.sort_values(by=['Datetime'], axis = 0, ascending = True, inplace = True)\n",
    "df.reset_index(inplace = True, drop = True)\n",
    "\n",
    "# La variable objetivo (y) se renombra a: demand_in_MW\n",
    "df.rename(columns={'PJME_MW':'demand_in_MW'}, inplace = True)\n",
    "\n",
    "df.head()"
   ]
  },
  {
   "cell_type": "code",
   "execution_count": null,
   "id": "9ab496e3",
   "metadata": {},
   "outputs": [],
   "source": [
    "df.shape"
   ]
  },
  {
   "cell_type": "markdown",
   "id": "de07122a",
   "metadata": {},
   "source": [
    "## Limpieza de datos"
   ]
  },
  {
   "cell_type": "markdown",
   "id": "0b3b4875",
   "metadata": {},
   "source": [
    "### Eliminación de datos duplicados"
   ]
  },
  {
   "cell_type": "code",
   "execution_count": null,
   "id": "7d12c8e6",
   "metadata": {},
   "outputs": [],
   "source": [
    "# De datos duplicados, solo se mantiene la medición más reciente. \n",
    "df.drop_duplicates(subset = 'Datetime', keep = 'last', inplace = True)\n",
    "df.shape"
   ]
  },
  {
   "cell_type": "markdown",
   "id": "5eef61d2",
   "metadata": {},
   "source": [
    "### Tratando los espacios vacios"
   ]
  },
  {
   "cell_type": "markdown",
   "id": "d58e98eb-25da-482c-b007-da1fb0ed3269",
   "metadata": {},
   "source": [
    "<blockquote> \n",
    "El tratamiento se hace para tener\n",
    "un grupo de datos continuos. \n",
    "</blockquote>"
   ]
  },
  {
   "cell_type": "code",
   "execution_count": null,
   "id": "37ff03c8",
   "metadata": {},
   "outputs": [],
   "source": [
    "df_2 = df.set_index('Datetime')\n",
    "# print(f'df.index.freq is set to: {df.index.freq}')"
   ]
  },
  {
   "cell_type": "code",
   "execution_count": null,
   "id": "99b153ca",
   "metadata": {},
   "outputs": [],
   "source": [
    "print(f'df_2.index.freq is set to: {df_2.index.freq}')"
   ]
  },
  {
   "cell_type": "markdown",
   "id": "8b6a2fbe-3d72-464d-aac1-55eb2fe361c8",
   "metadata": {},
   "source": [
    "<i>\n",
    "Tener un dataset con frecuencia en \"None\" indica \n",
    "que existen datos que perdidos (missing). <br>\n",
    "Para verificar lo dicho, podemos comparar con un rango de datos\n",
    "custom e ininterrumpido\n",
    "</i>"
   ]
  },
  {
   "cell_type": "code",
   "execution_count": null,
   "id": "07f785c6",
   "metadata": {},
   "outputs": [],
   "source": [
    "# Custom range\n",
    "data_range = pd.date_range(start = min(df_2.index),\n",
    "                          end = max(df_2.index),\n",
    "                          freq = 'H') \n",
    "#freq = 'H' indica frecuencia por hora.\n",
    "#Explicación: genero un dataframe con una frecuencia horaria desde el valor minimo del index (datetime)\n",
    "#del dataframe original, y con el valor máximo del index. Con esto lo que obtengo es TODO EL CALENDARIO\n",
    "#sin datos perdidos. \n",
    "#Al hacer mas adelante la diferencia entre ambos dataframe, voy a obtener los \"días perdidos\" del dataframe original. \n",
    "# https://pandas.pydata.org/docs/user_guide/timeseries.html#timeseries-offset-aliases\n",
    "data_range"
   ]
  },
  {
   "cell_type": "code",
   "execution_count": null,
   "id": "4496858f",
   "metadata": {},
   "outputs": [],
   "source": [
    "print(f'La diferencia de longitud entre el rango customizado de datos y nuestro dataset es {(len(data_range)-len(df_2))}:')\n",
    "print(data_range.difference(df_2.index))\n",
    "#la diferencia entre ambos df indica la cantidad de valores perdidos en el df_original"
   ]
  },
  {
   "cell_type": "markdown",
   "id": "cf9d1b82-c2e0-4ee5-b87a-046a8e3791db",
   "metadata": {},
   "source": [
    "<i>\n",
    "Re-indexamos los valores al dataset original\n",
    "</i>"
   ]
  },
  {
   "cell_type": "code",
   "execution_count": null,
   "id": "217b5d61-d307-40ad-9d6c-16d73c886124",
   "metadata": {},
   "outputs": [],
   "source": [
    "# El siguiente comando adjunta los datos \"datetime\" perdidos (missing) al dataset original\n",
    "# pero va a generar valores NaN para la variable Target (Demand_in_MW)\n",
    "df_3 = df_2.reindex(data_range)\n",
    "\n",
    "# Llenamos estos valores blancos con valores que se encuentran en una curva lineal entre \n",
    "# puntos de datos existentes\n",
    "df_3['demand_in_MW'].interpolate(method='linear', inplace=True)\n",
    "\n",
    "# Con la interpolación se tiene un datetime (set de hora y dias) continuo\n",
    "print(f'La df.index.freq ahora es: {df_3.index.freq}, indicando que ya no tenemos valores perdidos')"
   ]
  },
  {
   "cell_type": "markdown",
   "id": "07680fa0-17a2-47e3-be3b-cfd5c570b5cf",
   "metadata": {},
   "source": [
    "## Extraemos características de la variable Tiempo\n",
    "<i>\n",
    "Podemos dividir la columna de Datetime en sus diferentes componentes. <br>\n",
    "Esto nos permite encontrar patrones para diferentes grupos.\n",
    "</i>"
   ]
  },
  {
   "cell_type": "code",
   "execution_count": null,
   "id": "51933939-0985-4e4e-9cf5-f36319b40df8",
   "metadata": {},
   "outputs": [],
   "source": [
    "df_3['dow'] = df_3.index.day_of_week\n",
    "df_3['doy'] = df_3.index.day_of_year\n",
    "df_3['year'] = df_3.index.year\n",
    "df_3['month'] = df_3.index.month\n",
    "df_3['quarter'] = df_3.index.quarter\n",
    "df_3['hour'] = df_3.index.hour\n",
    "df_3['weekday'] = df_3.index.day_name()\n",
    "df_3['woy'] = df_3.index.isocalendar().week #week of year\n",
    "df_3['dom'] = df_3.index.day # Day of Month\n",
    "df_3['date'] = df_3.index.date \n",
    "\n",
    "# número de estación del año\n",
    "df_3['season'] = df_3['month'].apply(lambda month_number: (month_number%12 + 3)//3) \n",
    "# el operador aritmético // solo devuelve a parte entera de la división."
   ]
  },
  {
   "cell_type": "code",
   "execution_count": null,
   "id": "7166af89-876c-46a2-be3a-712e8701f421",
   "metadata": {},
   "outputs": [],
   "source": [
    "df_3.index.year"
   ]
  },
  {
   "cell_type": "markdown",
   "id": "636af770-1f1b-44ca-ad0f-0b59dfec1f0a",
   "metadata": {},
   "source": [
    "## EDA (Exploratory data analysis)"
   ]
  },
  {
   "cell_type": "code",
   "execution_count": null,
   "id": "9ea10651-e3d6-49f2-9b88-d9cd0c6e7ef7",
   "metadata": {},
   "outputs": [],
   "source": [
    "# ProfileReport(df_3)"
   ]
  },
  {
   "cell_type": "markdown",
   "id": "3f3be870-f7ef-4e62-b562-1e77d8c69b9a",
   "metadata": {},
   "source": [
    "### Gráficos\n",
    "<br>\n",
    "<b>Graficando el consumo de energía a lo largo del tiempo</b>"
   ]
  },
  {
   "cell_type": "code",
   "execution_count": null,
   "id": "ba124115-0ec7-4790-b87d-6027d494062e",
   "metadata": {},
   "outputs": [],
   "source": [
    "#Plotyle no permite acceso directo a los index del df. \n",
    "df_3['date_and_time'] = df_3.index \n",
    "\n",
    "#Plotting\n",
    "fig = px.line(df_3, x=['date_and_time'], y='demand_in_MW', title=f'Demanda MW por tiempo [{min(df_3.year)} - {max(df_3.year)}]')\n",
    "fig.update_traces(line=dict(width=0.05))\n",
    "fig.update_layout(xaxis_title='Date & Time', yaxis_title='Demanda Energía [MW]')\n",
    "fig.show()"
   ]
  },
  {
   "cell_type": "markdown",
   "id": "f1a18058-c2af-4d55-b741-0e759361a4c0",
   "metadata": {},
   "source": [
    "Estudiando la gráfica se observa un comportamiento con patron en temporadas (estación del año). "
   ]
  },
  {
   "cell_type": "markdown",
   "id": "dcb6a3e4-03f3-4647-b270-dc404bc7a36e",
   "metadata": {
    "tags": []
   },
   "source": [
    "### Patrones de fecha y hora. \n",
    "\n",
    "Podemos usar nuestras funciones de fecha y hora extraídas previamente <br>\n",
    "para ver si surgen patrones recurrentes de los datos agregados. <br>\n",
    "Tomemos, por ejemplo, la demanda de energía a lo largo del día para cada día de la semana:"
   ]
  },
  {
   "cell_type": "code",
   "execution_count": null,
   "id": "1aa1ae0e-77a6-4b62-9bf9-0e0b9395d2a7",
   "metadata": {},
   "outputs": [],
   "source": [
    "df_3.columns"
   ]
  },
  {
   "cell_type": "code",
   "execution_count": null,
   "id": "759648f9-9d72-47b2-b9eb-e9b0e199ee26",
   "metadata": {},
   "outputs": [],
   "source": [
    "# Dataframe definido para reflejar el consumo por hora en la semana, usando la mediana de energia. \n",
    "patron_1 = df_3.groupby(['hour', 'weekday'], as_index=False).agg({'demand_in_MW':'median'})\n",
    "patron_1"
   ]
  },
  {
   "cell_type": "code",
   "execution_count": null,
   "id": "21228e08-e817-4ee5-8a88-a6a454f6f325",
   "metadata": {},
   "outputs": [],
   "source": [
    "fig = px.line(patron_1, \n",
    "              x = 'hour',\n",
    "              y = 'demand_in_MW', \n",
    "              color='weekday', \n",
    "              title='Mediana de consumo de energia por hs por día de semana ')\n",
    "\n",
    "fig.update_layout(xaxis_title='Hour', yaxis_title='Energy Demand[MW]')\n",
    "\n",
    "fig.show()"
   ]
  },
  {
   "cell_type": "markdown",
   "id": "ee23cba9-3a5a-4a33-b8f3-13128df3c41c",
   "metadata": {},
   "source": [
    "El consumo de energía es más elevado los días de semana en comparación con los findes. "
   ]
  },
  {
   "cell_type": "code",
   "execution_count": null,
   "id": "a6ab6d86-c61a-4d94-8aac-ed0c297e590d",
   "metadata": {},
   "outputs": [],
   "source": [
    "# Dataframe definido para graficar el consumo horario por temporada del año. Mediana de la energía. \n",
    "patron_2 = df_3.groupby(['hour', 'season'], as_index=False).agg({'demand_in_MW':'median'})"
   ]
  },
  {
   "cell_type": "code",
   "execution_count": null,
   "id": "0700bd18-7c5d-4c20-8f4f-2914266a9fc5",
   "metadata": {},
   "outputs": [],
   "source": [
    "fig_2 = px.line(patron_2, \n",
    "                x = 'hour',\n",
    "                y = 'demand_in_MW', \n",
    "                color='season', \n",
    "                title='Mediana de consumo de energia por hs por estación')\n",
    "\n",
    "fig_2.update_layout(xaxis_title='Hour', yaxis_title='Energy Demand[MW]')\n",
    "\n",
    "fig_2.show()"
   ]
  },
  {
   "cell_type": "markdown",
   "id": "42f750f0-80a1-49db-954e-4dd0f88e20d2",
   "metadata": {},
   "source": [
    "Durante el verano le dan duro al aire acondicionado. "
   ]
  },
  {
   "cell_type": "markdown",
   "id": "c1e00884-9e12-4a79-a708-cc1906d16496",
   "metadata": {
    "tags": []
   },
   "source": [
    "## Descompoción de la serie de tiempo\n",
    "\n",
    "Los puntos que representan datos a lo largo de una serie de tiempo pueden ser interesantes <br>\n",
    "en cuanto sus patrones se complementes con tendencias de subida/bajada y/o estacionalidad. <br>\n",
    "Según la info adquirida en el EDA esto parece ser así. <br>\n",
    "<br>\n",
    "Debido a que la variación por estaciones del año parece constante a lo largo del tiempo, <br>\n",
    "usaremos el <b> modelo de sumas por descomposición </b> a diferencia del <br>\n",
    "<b>modelo multiplicativo</b> que es útil para casos donde la variación incrementa en el tiempo.\n",
    "<br>\n",
    "Extracto de texto sacado de: __[PennState](https://online.stat.psu.edu/stat510/lesson/5/5.1)__\n",
    "<br>\n",
    "<blockquote>\n",
    "The following two structures are considered for basic decomposition models:\n",
    "<ol>\n",
    "<li>Additive:  = Trend + Seasonal + Random</li>\n",
    "<li>Multiplicative:  = Trend * Seasonal * Random</li>\n",
    "</ol>\n",
    "</blockquote>"
   ]
  },
  {
   "cell_type": "code",
   "execution_count": null,
   "id": "2dcbcb19-5a83-40c1-8211-a84e72ab886a",
   "metadata": {},
   "outputs": [],
   "source": [
    "from statsmodels.tsa.seasonal import seasonal_decompose\n",
    "\n",
    "# seasonal_decompose necesita un dataframe con un index en formato datatime\n",
    "series = df_3[['demand_in_MW']] #devuelve un dataframe. Si fuese df_3['demand_in_MW'] devuelve una serie\n",
    "#Añadido: la season (patrón de movimiento) es anual, con un periodo(fre) igual a la cantidad de hs por año.\n",
    "frequency = 24*365\n",
    "\n",
    "# Descomposición de la serie de tiempo, con una freq (hs)= 24 hs por 365 días. \n",
    "# El modelo aditivo parace ser el mças acertado dado que no poseo una tendencia de \n",
    "# incremento/decremento en la gráfica. \n",
    "decomposed = seasonal_decompose(series, model='additive', period=frequency)\n",
    "#obtengo un objeto con los siguientes atributos: temporada, tendencia y residuo:\n",
    "# ------------- atributos = [[decomposed.seasonal], [decomposed.trend], [decomposed.resid]] -------------"
   ]
  },
  {
   "cell_type": "code",
   "execution_count": null,
   "id": "c9cc55dc-707a-4184-b96c-38efe29a7172",
   "metadata": {},
   "outputs": [],
   "source": [
    "df_4 = df_3.copy()"
   ]
  },
  {
   "cell_type": "code",
   "execution_count": null,
   "id": "0d7a1725-c59d-4122-a28f-75d66755202b",
   "metadata": {},
   "outputs": [],
   "source": [
    "# df_trend = pd.DataFrame(decomposed.trend)\n",
    "# df_seasonal = pd.DataFrame(decomposed.seasonal)\n",
    "# df_resid = pd.DataFrame(decomposed.resid)\n",
    "# df_4 = pd.concat([df_3, df_trend, df_seasonal, df_resid], axis=0)\n",
    "df_4['Trend'] = decomposed.trend\n",
    "df_4['Seasonal'] = decomposed.seasonal\n",
    "df_4['Residuos'] = decomposed.resid"
   ]
  },
  {
   "cell_type": "code",
   "execution_count": null,
   "id": "796d9aa2-347f-4eb5-9f37-c7ae423c13b1",
   "metadata": {},
   "outputs": [],
   "source": [
    "df_4.columns"
   ]
  },
  {
   "cell_type": "code",
   "execution_count": null,
   "id": "ffed654d-b379-44ee-a9fe-9fce53c89a34",
   "metadata": {},
   "outputs": [],
   "source": [
    "fig_t = px.line(df_4,\n",
    "                y = 'Trend',\n",
    "                title='Trend')\n",
    "\n",
    "# adjust line width\n",
    "fig_t.update_traces(line=dict(width=2))\n",
    "        \n",
    "# change layout of axes and the figure's margins \n",
    "# to emulate tight_layout\n",
    "fig_t.update_layout(\n",
    "                xaxis=dict(showticklabels=False, linewidth=1),\n",
    "                yaxis=dict(title=''),\n",
    "                margin=go.layout.Margin(l=40, r=40, b=0, t=40, pad=0)\n",
    ")\n",
    "\n",
    "fig_t.show()"
   ]
  },
  {
   "cell_type": "code",
   "execution_count": null,
   "id": "46f6a918-42cb-4e4e-a670-236c3f4ff438",
   "metadata": {},
   "outputs": [],
   "source": [
    "fig_s = px.line(df_4,\n",
    "                y = 'Seasonal',\n",
    "                title='Seasonality')\n",
    "\n",
    "# adjust line width\n",
    "fig_s.update_traces(line=dict(width=0.025))\n",
    "        \n",
    "# change layout of axes and the figure's margins \n",
    "# to emulate tight_layout\n",
    "fig_s.update_layout(\n",
    "                xaxis=dict(showticklabels=False, linewidth=1),\n",
    "                yaxis=dict(title=''),\n",
    "                margin=go.layout.Margin(l=40, r=40, b=0, t=40, pad=0)\n",
    ")\n",
    "\n",
    "fig_s.show()"
   ]
  },
  {
   "cell_type": "code",
   "execution_count": null,
   "id": "f1fa9893-e344-4a9c-a37a-627f2e37224e",
   "metadata": {},
   "outputs": [],
   "source": [
    "fig_r = px.line(df_4,\n",
    "                y = 'Residuos',\n",
    "                title='Residuos')\n",
    "\n",
    "# adjust line width\n",
    "fig_r.update_traces(line=dict(width=0.05))\n",
    "        \n",
    "# change layout of axes and the figure's margins \n",
    "# to emulate tight_layout\n",
    "fig_r.update_layout(\n",
    "                xaxis=dict(showticklabels=False, linewidth=1),\n",
    "                yaxis=dict(title=''),\n",
    "                margin=go.layout.Margin(l=40, r=40, b=0, t=40, pad=0)\n",
    ")\n",
    "\n",
    "fig_r.show()"
   ]
  },
  {
   "cell_type": "markdown",
   "id": "c0b79ffc-fc31-4cac-8aaf-1daf5e633b14",
   "metadata": {
    "jp-MarkdownHeadingCollapsed": true,
    "tags": []
   },
   "source": [
    "#### Función en desuso\n",
    "\n",
    "<i>\n",
    "El siguiente código fue escrito por quienes desarrollaron el proyecto, <br>\n",
    "sin embargo contenía errores que me llevaron a resolver los gráficos de otra manera. <br>\n",
    "No obstante me tome el tiempo de corregir y actualizar el bloque para que también corrieses. \n",
    "</i>\n",
    "\n",
    "<br>\n",
    "\n",
    "<blockquote>\n",
    "def plot_decompositions(decompositions, titles, line_widths):\n",
    "    for d, t, lw in zip(decompositions, titles, line_widths):\n",
    "      \n",
    "        \n",
    "        fig = px.line(df_4, \n",
    "                      y=d,\n",
    "                      title = t,\n",
    "                      height=300)\n",
    "        \n",
    "        \n",
    "        fig.update_traces(line=dict(width=lw))\n",
    "        \n",
    "        \n",
    "        fig.update_layout(\n",
    "            xaxis=dict(\n",
    "                    showticklabels=False,\n",
    "                    linewidth=1\n",
    "            ),\n",
    "            yaxis=dict(title=''),\n",
    "            margin=go.layout.Margin(\n",
    "                l=40, r=40, b=0, t=40, pad=0\n",
    "            )\n",
    "        )\n",
    "              \n",
    "        fig.show()\n",
    "\n",
    "\n",
    "plot_decompositions([df_3.Trend, df_3.Seasonal, df_3.Residuos], ['Trend','Seasonality','Residuos'],[2, 0.025, 0.05])\n",
    "</blockquote>"
   ]
  },
  {
   "cell_type": "markdown",
   "id": "f3798189-8313-42b4-92ea-669a36eeeced",
   "metadata": {},
   "source": [
    "# Modelos de estimación (Forecasting)\n",
    "\n",
    "Se tendrán en cuenta los siguientes modelos:\n",
    "    <ol>\n",
    "    <li> Triple Exponential Smoothing: Holt-Winters </li>\n",
    "    <li> Explicit Multi-Seasonality: Prophet </li>\n",
    "    </ol>"
   ]
  },
  {
   "cell_type": "markdown",
   "id": "2f37f30d-d1e7-4a7c-8b28-903eb566baf7",
   "metadata": {},
   "source": [
    "## Train/Test\n",
    "<b>Objetivo</b>: Estimación precisa de la demanda de los proximos 12 meses. <br>\n",
    "Para lograr el objetivo, restringimos los datos de \"entrenamiento\" a algunos años antes de la fecha max.<br>\n",
    "Esto lo hacemos para evitar tendencias que jodan al modelo (por lo analizado, no parece ser el caso)"
   ]
  },
  {
   "cell_type": "code",
   "execution_count": null,
   "id": "4fa4eb60-29cb-44e8-bebb-393d938dddcd",
   "metadata": {},
   "outputs": [],
   "source": [
    "# Opción alternativa\n",
    "# Agrego esta libreria como opción alternativa al proyecto \n",
    "# para configurar los datos de train/test \n",
    "# from sklearn.model_selection import train_test_split"
   ]
  },
  {
   "cell_type": "code",
   "execution_count": null,
   "id": "a15b9588-c90d-41c7-83b8-4b5ab137ba9b",
   "metadata": {},
   "outputs": [],
   "source": [
    "print(f'El primer punto de medicion fecha/hs es: {min(df_3.index)}')\n",
    "print(f'El último punto de medicion fecha/hs es: {max(df_3.index)}')"
   ]
  },
  {
   "cell_type": "code",
   "execution_count": null,
   "id": "3d8715b3-bd5e-45d8-9846-a999974877d7",
   "metadata": {},
   "outputs": [],
   "source": [
    "# Dataframe de recort\n",
    "CUTOFF_DATE = pd.to_datetime('2017-08-01')\n",
    "TIME_DELTA = pd.DateOffset(years=8)\n",
    "\n",
    "# Separo df p/ test y df p/ train\n",
    "train = df_3.loc[(df_3.index < CUTOFF_DATE) & (df_3.index >= CUTOFF_DATE - TIME_DELTA)].copy()\n",
    "test = df_3.loc[df_3.index >= CUTOFF_DATE].copy()"
   ]
  },
  {
   "cell_type": "code",
   "execution_count": null,
   "id": "f76a4b53-1ec2-4632-b5cf-afdcff07638a",
   "metadata": {},
   "outputs": [],
   "source": [
    "#Se permite recortar varias fechas porque:\n",
    "#1- El comportamiento es constante en el tiempo.\n",
    "#2- Alivia la carga de procesamiento en la PC.\n",
    "print(f'Training shape: {train.shape}\\n Testing shape: {test.shape}\\n')\n",
    "print(f'Las fechas de entrenamiento son: {min(train.index)} & {max(train.index)}')\n",
    "print(f'Las fechas de test son: {min(test.index)} & {max(test.index)}')"
   ]
  },
  {
   "cell_type": "markdown",
   "id": "6c5ad801-0ce0-42ad-9dfd-b88e1d293400",
   "metadata": {},
   "source": [
    "# Holt-Winter: Suavizado exponencial triple -> valores, tendencias y temporada. \n",
    "\n",
    "Teoría: __[Suavización exponencial](https://economipedia.com/definiciones/suavizacion-exponencial.html)__ <br>\n",
    "Teoría: __[Holt Winter](http://cienciauanl.uanl.mx/?p=7948#:~:text=El%20m%C3%A9todo%20Holt%2DWinters%20es,de%20pron%C3%B3sticos%20a%20corto%20plazo.)__ <br>\n",
    "Teoría: __[+ Holt Winter (excelente)](https://orangematter.solarwinds.com/2019/12/15/holt-winters-forecasting-simplified/#:~:text=Holt%2DWinters%20is%20a%20model,cyclical%20repeating%20pattern%20(seasonality).)__\n",
    "<br>\n",
    "<i>Este metodo es una ampliación perfeccionada del enfoque de la <b>suavización exponencial</b>:</i>\n",
    "<blockquote>\n",
    "El método de suavización exponencial utiliza los promedios históricos de una <b>variable</b> en un \n",
    "período para intentar predecir su comportamiento futuro.<br>\n",
    "Para estimar lo que va a suceder con la variable necesita suavizar su <b>Serie temporal</b>, es decir, al conjunto de datos\n",
    "que describen a la variable ordenados cronológicamente (vital). <br>\n",
    "El objetivo de la suavización es reducir las fluctuaciones y conseguir observar una tendencia que a veces no está\n",
    "clara a simple vista. <br>\n",
    "<b>Método de suavización exponencial:</b><br>\n",
    "Ejemplo en la ecuación: \"predicción de demanda\" -> <br>Do: demanda real; Po: pronóstico; alfa: factor de suavización<br>\n",
    "<b><i>P1 = Po + alfa(Do-Po)</i></b><br>\n",
    "Métodos que usan esta tecnica: Box-Jenkins y Holt-Winter<br>\n",
    "</blockquote>"
   ]
  },
  {
   "cell_type": "code",
   "execution_count": null,
   "id": "cdcbe525-ab1b-4ef9-9060-01392deb58d1",
   "metadata": {},
   "outputs": [],
   "source": [
    "import statsmodels.api as sm\n",
    "# from statsmodels.tools.sm_exceptions import ConvergenceWarning\n",
    "# import warnings\n",
    "# warnings.simplefilter('ignore', ConvergenceWarning)\n",
    "# El método de suavizadoo exponencial triple solo considera patrones dentro de la variable objetivo (demanda)\n",
    "\n",
    "# Defino los argumentos que va a tomar el modelo Holt-Winter:\n",
    "# endog: La serie de tiempo a modelar (exp_smooth_train)\n",
    "# la serie para testear el resultado: exp_smooth_test\n",
    "\n",
    "exp_smooth_train, exp_smooth_test = train['demand_in_MW'], test['demand_in_MW']\n",
    "\n",
    "# Predicción\n",
    "holt_winter = sm.tsa.ExponentialSmoothing(exp_smooth_train,\n",
    "                                          seasonal_periods=24*365,\n",
    "                                          seasonal = 'add').fit() \n"
   ]
  },
  {
   "cell_type": "markdown",
   "id": "ce458ae5-0f39-40e0-b342-8cfcc34083e9",
   "metadata": {},
   "source": [
    "The fit() function will return an instance of the HoltWintersResults class that contains the learned coefficients. \n",
    "The forecast() or the predict() function on the result object can be called to make a forecast."
   ]
  },
  {
   "cell_type": "code",
   "execution_count": null,
   "id": "6c0ec58c-2bca-48b4-98c5-f4e248891ee8",
   "metadata": {},
   "outputs": [],
   "source": [
    "print(len(exp_smooth_test))"
   ]
  },
  {
   "cell_type": "code",
   "execution_count": null,
   "id": "f4607785-9905-4ec8-b55f-26aca359c8d9",
   "metadata": {},
   "outputs": [],
   "source": [
    "periodo_prueba = len(exp_smooth_test)*4 #estiro el periodo de test a 4 años, donde los ultimos 3 no tienen datos. \n",
    "y_hat_holt_winter = holt_winter.forecast(periodo_prueba)\n",
    "# y_hat_holt_winter[-8809:]"
   ]
  },
  {
   "cell_type": "markdown",
   "id": "a06f60ca-e633-442d-a710-c2f5dacbeb50",
   "metadata": {},
   "source": [
    "## Guardo los datos obtenidos en un archivo .csv"
   ]
  },
  {
   "cell_type": "code",
   "execution_count": null,
   "id": "06321ff2-ac51-46bb-8634-d67561584698",
   "metadata": {},
   "outputs": [],
   "source": [
    "df_y = pd.DataFrame(y_hat_holt_winter)\n",
    "df_y.rename(columns={0:'Demanda [MW]'}, inplace = True)\n",
    "df_y.index.names = ['DateTime']\n",
    "df_y"
   ]
  },
  {
   "cell_type": "code",
   "execution_count": null,
   "id": "08a4cfb2-3159-4893-8f61-51603b5af2db",
   "metadata": {},
   "outputs": [],
   "source": [
    "df_y.to_csv('forecasting_holtwinter.csv', encoding='utf-8')"
   ]
  },
  {
   "cell_type": "code",
   "execution_count": null,
   "id": "102709ef-0606-4cf7-8542-df8e1dc03971",
   "metadata": {},
   "outputs": [],
   "source": [
    "# Gráfica\n",
    "fig_hw = go.Figure()\n",
    "fig_hw.add_trace(go.Scatter(x=exp_smooth_train.index, y=exp_smooth_train,\n",
    "                         mode='lines',\n",
    "                         name='Train'))\n",
    "fig_hw.add_trace(go.Scatter(x=exp_smooth_test.index, y=exp_smooth_test,\n",
    "                         mode='lines',\n",
    "                         name='Test - Ground Truth'))\n",
    "fig_hw.add_trace(go.Scatter(x=y_hat_holt_winter.index, y=y_hat_holt_winter,\n",
    "                         mode='lines', \n",
    "                         name='Test - Prediction'))\n",
    "\n",
    "# adjust layout\n",
    "fig_hw.update_traces(line=dict(width=0.5))\n",
    "fig_hw.update_layout(title='Holt-Winter Forecast of Hourly Energy Demand',\n",
    "                  xaxis_title='Date & Time (yyyy/mm/dd hh:MM)',\n",
    "                  yaxis_title='Energy Demand [MW]')"
   ]
  },
  {
   "cell_type": "markdown",
   "id": "4115e5d5-26d9-401e-b0e4-5bf6592a808b",
   "metadata": {},
   "source": [
    "## ConvergenceWarning <br>\n",
    "Link: __[Wiki](https://es.wikipedia.org/wiki/Convergencia)__ <br>\n",
    "<blockquote>\n",
    "En matemática, la convergencia es una propiedad de las sucesiones que tienden a un límite. <br>\n",
    "En estadística convergencia en probabilidad es la aparición de patrones en la probabilidad de una variable aleatoria según aumenta la muestra.<br>\n",
    "</blockquote>\n",
    "Ignore la advertencia (warning) sobre el error de convergencia ---> investigar sobre la cantidad de datos\n",
    "que necesito para tener una aproximación mas certera"
   ]
  },
  {
   "cell_type": "markdown",
   "id": "14d52f1d-d032-45af-a58c-6df5af202c37",
   "metadata": {},
   "source": [
    "En comparación con un dataset de test/train con muchos mas valores para \"train\", la gráfica anterior parece ser más precisa. <br>\n",
    "<b>Tengo que entender porqué el error de convergencia</b>"
   ]
  },
  {
   "cell_type": "markdown",
   "id": "5ad71b0d-b5a3-4b37-b403-21c2cc56abef",
   "metadata": {},
   "source": [
    "## Análisis de lo obtenido con Holt-Winters"
   ]
  },
  {
   "cell_type": "markdown",
   "id": "cd30ff93-6892-4bc7-a5cc-1eb519457f74",
   "metadata": {},
   "source": [
    "Reconoce el patrón de los datos que tenemos, pero durante la época de invierno (enero/2018) y los ultimos \n",
    "meses de verano (sep/2017) se queda algo corto"
   ]
  },
  {
   "cell_type": "markdown",
   "id": "b4e0e38c-a948-41e8-8ce6-652f35cc8bc4",
   "metadata": {},
   "source": [
    "### Evaluación de métricas"
   ]
  },
  {
   "cell_type": "markdown",
   "id": "c1eea523-5093-4389-9b6b-7f58d867cd17",
   "metadata": {},
   "source": [
    "Cuantificamos el rendimiento del método (se hace como paso natural del proceso)"
   ]
  },
  {
   "cell_type": "markdown",
   "id": "458974cb-96b1-4ab5-9848-2a4cf23cefcf",
   "metadata": {},
   "source": [
    "Un análisis de error basado en tres medidas estadísticas se emplea para estimar el rendimiento y la confiabilidad del modelo:<br>\n",
    "<ol>\n",
    "<li>error de porcentaje absoluto medio (MAPE),</li>\n",
    "<li>desviación absoluta media (MAD),</li>\n",
    "<li>y error cuadrático medio ó desviación cuadrática media (MSD)</li>\n",
    "</ol>"
   ]
  },
  {
   "cell_type": "code",
   "execution_count": null,
   "id": "b9df19a8-5fea-451d-9e64-ac2651d4f326",
   "metadata": {},
   "outputs": [],
   "source": [
    "def mape(y_true, y_pred):\n",
    "    \"\"\"Error de porcentaje absoluto medio\"\"\"\n",
    "    \n",
    "    # conversión a vectores numpy\n",
    "    y_true, y_pred = np.array(y_true), np.array(y_pred)\n",
    "    \n",
    "    # Porcentaje de error\n",
    "    pe = (y_true - y_pred) / y_true\n",
    "    \n",
    "    # valor absolutos\n",
    "    ape = np.abs(pe)\n",
    "    \n",
    "    # Cuantificación del rendimiento en un solo nº\n",
    "    mape = np.mean(ape)\n",
    "    \n",
    "    return f'{mape*100:.2f}%'"
   ]
  },
  {
   "cell_type": "code",
   "execution_count": null,
   "id": "2b9bc176-8afb-41b7-b7a6-1f3f9aa26a50",
   "metadata": {},
   "outputs": [],
   "source": [
    "print(f'Error del: {mape(exp_smooth_test, y_hat_holt_winter[:8809])}')"
   ]
  },
  {
   "cell_type": "markdown",
   "id": "db2ce185-9fd0-4775-8fba-958f0fab1cfd",
   "metadata": {},
   "source": [
    "<i><b>Bajó un 5.98% de error respecto al proyecto</b></i>"
   ]
  },
  {
   "cell_type": "markdown",
   "id": "66e794c4-79dc-4f15-a299-b3511edc4a2e",
   "metadata": {},
   "source": [
    "Predicciones diarias al principio y final del periodo de predicción: "
   ]
  },
  {
   "cell_type": "code",
   "execution_count": null,
   "id": "dd4d0eff-700b-4865-a341-d74cad616574",
   "metadata": {},
   "outputs": [],
   "source": [
    "# Longitud de intervalo\n",
    "interval = 24*7\n",
    "\n",
    "# Necesitamos adaptar al intervalo las variables a usarse, \n",
    "# dado que la predicción se hizo por intervalos de 24*365\n",
    "x_true, y_true = exp_smooth_test.iloc[:interval].index, exp_smooth_test.iloc[:interval]\n",
    "x_pred, y_pred = y_hat_holt_winter.iloc[:interval].index, y_hat_holt_winter.iloc[:interval]\n",
    "\n",
    "# Grafica\n",
    "fig = go.Figure()\n",
    "fig.add_trace(go.Scatter(x=x_true, y=y_true,\n",
    "                         mode = 'lines',\n",
    "                         name = 'Test - Ground Truth'))\n",
    "fig.add_trace(go.Scatter(x=x_pred, y=y_pred,\n",
    "                         mode = 'lines',\n",
    "                         name = 'Test - Prediction'))\n",
    "# Ajustes varios sobre la grafica\n",
    "fig.update_traces(line=dict(width=0.9))\n",
    "fig.update_layout(title=f'Holt-Winter Predicción diaria de las primeras {interval} hs de demanda',\n",
    "                  xaxis_title='Date & Time (yyyy/mm/dd hh:MM)',\n",
    "                  yaxis_title='Energy Demand [MW]')\n",
    "fig.show()\n",
    "\n",
    "# Eficacia \n",
    "print(f'MAPE para el intervalo en las primeras {interval} horas: {mape(y_true, y_pred)}')"
   ]
  },
  {
   "cell_type": "markdown",
   "id": "becea5e5-afb3-439d-8e68-45c00cac2ec5",
   "metadata": {},
   "source": [
    "<i><b>Subió un 0.15% de error respecto al proyecto</b></i>"
   ]
  },
  {
   "cell_type": "code",
   "execution_count": null,
   "id": "bafe20ed-bf25-4548-948c-b7ceab107671",
   "metadata": {},
   "outputs": [],
   "source": [
    "# Longitud de intervalo\n",
    "interval = -24*7\n",
    "\n",
    "# Necesitamos adaptar al intervalo las variables a usarse, \n",
    "# dado que la predicción se hizo por intervalos de 24*365\n",
    "x_true, y_true = exp_smooth_test.iloc[interval:].index, exp_smooth_test.iloc[interval:]\n",
    "x_pred, y_pred = y_hat_holt_winter[:-8809].iloc[interval:].index, y_hat_holt_winter[:-8809].iloc[interval:]\n",
    "\n",
    "# Grafica\n",
    "fig = go.Figure()\n",
    "fig.add_trace(go.Scatter(x=x_true, y=y_true,\n",
    "                         mode = 'lines',\n",
    "                         name = 'Test - Ground Truth'))\n",
    "fig.add_trace(go.Scatter(x=x_pred, y=y_pred,\n",
    "                         mode = 'lines',\n",
    "                         name = 'Test - Prediction'))\n",
    "# Ajustes varios sobre la grafica\n",
    "fig.update_traces(line=dict(width=0.9))\n",
    "fig.update_layout(title=f'Holt-Winter Predicción diaria de las ultimas {abs(interval)} hs de demanda',\n",
    "                  xaxis_title='Fecha (mm dd, yyyy, hh, MM)',\n",
    "                  yaxis_title='Demanda [MW]')\n",
    "fig.show()\n",
    "\n",
    "# Eficacia \n",
    "print(f'MAPE para el intervalo en las ultimas {abs(interval)} horas: {mape(y_true, y_pred)}')"
   ]
  },
  {
   "cell_type": "markdown",
   "id": "cce69dfd-700b-4c5d-8bea-113c799b65d4",
   "metadata": {},
   "source": [
    "<i><b>Bajó un 3.52% de error respecto al proyecto</b></i>"
   ]
  },
  {
   "cell_type": "markdown",
   "id": "03af6e62-4413-4b06-a2ba-3ca50b56c255",
   "metadata": {},
   "source": [
    "### Auto-correlograma & Auto-correlograma parcial"
   ]
  },
  {
   "cell_type": "code",
   "execution_count": null,
   "id": "ce1ea5c5-ab5b-4175-abda-428ecdf3d331",
   "metadata": {},
   "outputs": [],
   "source": [
    "# fig,ax = plt.subplots(2,1,figsize=(20,10))\n",
    "# fig = sm.graphics.tsa.plot_acf( train['demand_in_MW'].diff().dropna(), lags=72, ax=ax[0])\n",
    "# fig = sm.graphics.tsa.plot_pacf(train['demand_in_MW'].diff().dropna(), lags=72, ax=ax[1])\n",
    "# plt.show()"
   ]
  }
 ],
 "metadata": {
  "kernelspec": {
   "display_name": "Python 3 (ipykernel)",
   "language": "python",
   "name": "python3"
  },
  "language_info": {
   "codemirror_mode": {
    "name": "ipython",
    "version": 3
   },
   "file_extension": ".py",
   "mimetype": "text/x-python",
   "name": "python",
   "nbconvert_exporter": "python",
   "pygments_lexer": "ipython3",
   "version": "3.7.13"
  },
  "toc-autonumbering": false,
  "toc-showmarkdowntxt": false
 },
 "nbformat": 4,
 "nbformat_minor": 5
}
