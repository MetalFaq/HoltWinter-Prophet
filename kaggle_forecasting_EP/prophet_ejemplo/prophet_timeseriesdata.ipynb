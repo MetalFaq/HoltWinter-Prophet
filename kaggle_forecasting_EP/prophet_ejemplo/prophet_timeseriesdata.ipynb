{
 "cells": [
  {
   "cell_type": "markdown",
   "id": "2888049f-7001-468e-ab2b-b2f5fb10461b",
   "metadata": {},
   "source": [
    "# Part I"
   ]
  },
  {
   "cell_type": "markdown",
   "id": "49f7d1e9-225a-45f3-bd43-2162ed2f392b",
   "metadata": {},
   "source": [
    "## Getting Started"
   ]
  },
  {
   "cell_type": "code",
   "execution_count": null,
   "id": "5901160e-3c34-4360-a8aa-e461a55c30a0",
   "metadata": {},
   "outputs": [],
   "source": [
    "import pandas as pd\n",
    "import numpy as np\n",
    "from fbprophet import Prophet\n",
    "import matplotlib.pyplot as plt\n",
    "\n",
    "plt.rcParams['figure.figsize'] = (20,10)\n",
    "plt.style.use('ggplot')\n",
    "\n",
    "# Matplotlib debe registrarse manualmente debido a un conflicto entre Pandas y Prophet\n",
    "pd.plotting.register_matplotlib_converters()"
   ]
  },
  {
   "cell_type": "markdown",
   "id": "a1cc8c81-414a-4804-aa60-20af37cf2c75",
   "metadata": {},
   "source": [
    "## Lectura de datos"
   ]
  },
  {
   "cell_type": "code",
   "execution_count": null,
   "id": "981c8691-fa9e-4bbd-aaa8-5bdf1e9a7cc3",
   "metadata": {},
   "outputs": [],
   "source": [
    "sales_df = pd.read_csv(r'\\prophet_ejemplo/retail_sales.csv', index_col='date', parse_dates=True)\n",
    "sales_df.head()"
   ]
  },
  {
   "cell_type": "markdown",
   "id": "3917406c-3eb2-45f3-946c-d2c0a2bf7e43",
   "metadata": {},
   "source": [
    "## Preparar los datos para Prophet"
   ]
  },
  {
   "cell_type": "markdown",
   "id": "8462a0ef-aa46-434b-ab91-5c65027b7e94",
   "metadata": {},
   "source": [
    "Para que prophet funcione, los nombres de las columnas deben ser cambiados a \"ds\" & \"y\". "
   ]
  },
  {
   "cell_type": "code",
   "execution_count": null,
   "id": "6b8ce0c6-6dca-4492-a9d1-baf788708f9d",
   "metadata": {},
   "outputs": [],
   "source": [
    "df = sales_df.reset_index()\n",
    "df.head()"
   ]
  },
  {
   "cell_type": "markdown",
   "id": "f1b8a4c9-59ba-47c7-91ff-98cdfa58888c",
   "metadata": {},
   "source": [
    "Renombramos las columnas como lo requiere \"Prophet\" y aclaración:<br>\n",
    "No le va mucho que el index sea de tipo \"DateTime\", le parece mejor que \"ds\" sea una columna y \n",
    "el index queda con los enteros que indican cada fila"
   ]
  },
  {
   "cell_type": "code",
   "execution_count": null,
   "id": "155021e5-d4b8-45c6-8b06-e19e5dd67b8e",
   "metadata": {},
   "outputs": [],
   "source": [
    "df.rename(columns={'date':'ds', 'sales':'y'}, inplace=True)\n",
    "df.head()"
   ]
  },
  {
   "cell_type": "markdown",
   "id": "f7325df5-3e31-48bf-b1bd-bd4c98f69a83",
   "metadata": {},
   "source": [
    "Graficamos"
   ]
  },
  {
   "cell_type": "code",
   "execution_count": null,
   "id": "8492f1b7-ef4b-4565-8baa-78a374738c6d",
   "metadata": {},
   "outputs": [],
   "source": [
    "df.set_index('ds').y.plot().get_figure();"
   ]
  },
  {
   "cell_type": "markdown",
   "id": "31e0b53d-f0db-43cd-a39b-2123b9b06a78",
   "metadata": {},
   "source": [
    "<b>Análisis:</b><br>\n",
    "Se observa un efecto de estacionalidad con tendencia a crecimiento positivo (modelo aditivo: si bien hay crecimiento, las magnitudes son en esencia las mismas)."
   ]
  },
  {
   "cell_type": "markdown",
   "id": "2a660b22-cc6d-4ba5-b6f6-59e3130086d3",
   "metadata": {},
   "source": [
    "Facebook usa, para limpiar datos anómalos/outliers, la transformada logarítmica sobre el set de datos que tenemos disponible. \n",
    "Esta es una serie de datos para ejemplo y como tal es muy simple, pero este no es el mejor método (Para eso existe el EDA)."
   ]
  },
  {
   "cell_type": "code",
   "execution_count": null,
   "id": "9521602e-c148-461a-a8bc-db29a352d88f",
   "metadata": {},
   "outputs": [],
   "source": [
    "df['y'] = np.log(df['y'])\n",
    "df.head()"
   ]
  },
  {
   "cell_type": "code",
   "execution_count": null,
   "id": "b21b005b-1913-4ca6-900b-7ada55b1bf4e",
   "metadata": {},
   "outputs": [],
   "source": [
    "df.set_index('ds').y.plot().get_figure();"
   ]
  },
  {
   "cell_type": "markdown",
   "id": "9ba0e94f-9989-4420-8438-3f7ebe39a3fc",
   "metadata": {},
   "source": [
    "mismo gráfico pero con escala distinta"
   ]
  },
  {
   "cell_type": "markdown",
   "id": "046bbea2-b3ad-449b-a697-74486754adfc",
   "metadata": {},
   "source": [
    "# Parte II"
   ]
  },
  {
   "cell_type": "markdown",
   "id": "2612623f-fd3a-4e33-b9ef-5063a8490ba4",
   "metadata": {},
   "source": [
    "## Ejecutar Prophet"
   ]
  },
  {
   "cell_type": "markdown",
   "id": "2e2f5c2c-215d-4bd9-80f0-6d45311f0c55",
   "metadata": {},
   "source": [
    "Nota: La frecuencia de datos es mensual, por lo tanto puede aparecer un mensaje de aviso de Prophet indicando:\n",
    "    Disabling weekly seasonality. Run prophet with weekly_seasonality=True to override this.\n",
    "No pasa nada, dado que como los datos son mensuales. "
   ]
  },
  {
   "cell_type": "code",
   "execution_count": null,
   "id": "7e31da03-666b-4621-8dce-9002fcc1b76a",
   "metadata": {},
   "outputs": [],
   "source": [
    "model = Prophet()\n",
    "model.fit(df)"
   ]
  },
  {
   "cell_type": "markdown",
   "id": "f7a4de5a-80da-4312-96ba-cc1d51b46c3c",
   "metadata": {},
   "source": [
    "Para el ejemplo, se quieren conocer los valores futuros a dos años. <br>\n",
    "Dado que el periodo es de 1 mes, se agrega al conjunto de datos una cantidad de periodos igual a 24. "
   ]
  },
  {
   "cell_type": "code",
   "execution_count": null,
   "id": "631ffab4-3148-4ce5-910b-b4af62694774",
   "metadata": {},
   "outputs": [],
   "source": [
    "future = model.make_future_dataframe(periods=24, freq='m') \n",
    "future.tail()"
   ]
  },
  {
   "cell_type": "markdown",
   "id": "4f57d0a8-c195-46d2-a206-85c7eb335f09",
   "metadata": {},
   "source": [
    "Forecasting"
   ]
  },
  {
   "cell_type": "code",
   "execution_count": null,
   "id": "f4cd17b0-5313-42cd-8235-8cd6ba21b917",
   "metadata": {},
   "outputs": [],
   "source": [
    "forecast = model.predict(future) #devuelve un dataframe"
   ]
  },
  {
   "cell_type": "markdown",
   "id": "fc998731-e63e-4bf6-ac3e-c7caf46075a5",
   "metadata": {},
   "source": [
    "El dataframe obtenido contiene las siguientes columnas"
   ]
  },
  {
   "cell_type": "code",
   "execution_count": null,
   "id": "577f403f-3028-4e3d-a220-55771af5ef9e",
   "metadata": {},
   "outputs": [],
   "source": [
    "forecast.head()"
   ]
  },
  {
   "cell_type": "markdown",
   "id": "ecd2dd7b-2d9d-42be-8937-b86c9ac96abd",
   "metadata": {},
   "source": [
    "De estas columnas solo nos interesan algunas:"
   ]
  },
  {
   "cell_type": "code",
   "execution_count": null,
   "id": "0c4385db-e378-4660-98d6-9a99e6ca4dc4",
   "metadata": {},
   "outputs": [],
   "source": [
    "forecast[['ds', 'yhat', 'yhat_lower', 'yhat_upper']].tail()"
   ]
  },
  {
   "cell_type": "markdown",
   "id": "ae4ee242-2e07-437e-bb83-7c83d84f2218",
   "metadata": {},
   "source": [
    "## Graficando los resultados de Prophet"
   ]
  },
  {
   "cell_type": "markdown",
   "id": "1165b9de-ce57-4509-8de4-9a5aeb77caac",
   "metadata": {},
   "source": [
    "Prophet tiene el método para graficar: .plot().<br>\n",
    "<ul>\n",
    "<li>Datos originales: puntos negros</li>\n",
    "<li>Modelo: linea azul</li>\n",
    "<li>Error del pronóstico: Área azul sombreada</li>\n",
    "</ul>"
   ]
  },
  {
   "cell_type": "code",
   "execution_count": null,
   "id": "22f68de0-8030-4ddb-9c11-5056d6604b34",
   "metadata": {},
   "outputs": [],
   "source": [
    "model.plot(forecast);"
   ]
  },
  {
   "cell_type": "markdown",
   "id": "bdf2ab0c-4d03-40ad-ad2b-7a78dfc39d27",
   "metadata": {},
   "source": [
    "## Visualizacion de los modelos de Prophet"
   ]
  },
  {
   "cell_type": "markdown",
   "id": "b9c80c3f-8d39-4c6a-95ac-64c577785723",
   "metadata": {},
   "source": [
    "En orden de crear un dataframe útil para poder visualizarlo con el conjunto original de datos, \n",
    "necesitamos combinar la salida del modelo de Prophet con el data set original, y luego construir manualmente\n",
    "un grafico (chart) usando pandas y matplotlib."
   ]
  },
  {
   "cell_type": "markdown",
   "id": "54cf4d07-5466-4d08-a76f-35f12f2d0c94",
   "metadata": {},
   "source": [
    "Primero, que ambos tengan el mismo index:"
   ]
  },
  {
   "cell_type": "code",
   "execution_count": null,
   "id": "858244ab-77ed-436c-bdad-7ea423612b16",
   "metadata": {},
   "outputs": [],
   "source": [
    "df.set_index('ds', inplace=True)\n",
    "forecast.set_index('ds', inplace=True)"
   ]
  },
  {
   "cell_type": "markdown",
   "id": "7c495267-b0a2-47a1-a986-b3dd4a083898",
   "metadata": {},
   "source": [
    "RECORDAR QUE LA ESCALAS DE LOS DATASET ES DISTINTA: df sin log, forecast esta en escala logaritmica"
   ]
  },
  {
   "cell_type": "markdown",
   "id": "e0684431-8d58-4a98-9d56-33685f6aff4e",
   "metadata": {},
   "source": [
    "Ahora combinamos los datos originales con el modelo de pronostico"
   ]
  },
  {
   "cell_type": "code",
   "execution_count": null,
   "id": "a0121180-bef4-4313-90ec-31cd6c31aeb7",
   "metadata": {},
   "outputs": [],
   "source": [
    "viz_df = sales_df.join(forecast[['yhat', 'yhat_lower', 'yhat_upper']], how = 'outer')"
   ]
  },
  {
   "cell_type": "code",
   "execution_count": null,
   "id": "d0567738-270f-48cc-97bf-82fccaeb8eec",
   "metadata": {},
   "outputs": [],
   "source": [
    "viz_df.head()"
   ]
  },
  {
   "cell_type": "code",
   "execution_count": null,
   "id": "6f780320-8696-4619-ae55-17b3f19f93b9",
   "metadata": {},
   "outputs": [],
   "source": [
    "viz_df['yhat_rescaled'] = np.exp(viz_df['yhat'])\n",
    "viz_df.head()"
   ]
  },
  {
   "cell_type": "code",
   "execution_count": null,
   "id": "8fb71dd2-98e0-4341-bced-565d21a09312",
   "metadata": {},
   "outputs": [],
   "source": [
    "viz_df[['sales','yhat_rescaled']].plot().get_figure();"
   ]
  },
  {
   "cell_type": "code",
   "execution_count": null,
   "id": "969a69b8-32b1-4043-9a0e-e4930d4fca3f",
   "metadata": {},
   "outputs": [],
   "source": [
    "sales_df.index = pd.to_datetime(sales_df.index) # nos aseguramos que el index es un datetime object.\n",
    "connect_date = sales_df.index[-2] #seleccion desde la segunda fecha hasta la última. "
   ]
  },
  {
   "cell_type": "code",
   "execution_count": null,
   "id": "27303724-5808-4877-b931-b70e18667b3f",
   "metadata": {},
   "outputs": [],
   "source": [
    "mask = (forecast.index > connect_date)\n",
    "predict_df = forecast.loc[mask]\n",
    "predict_df.head()"
   ]
  },
  {
   "cell_type": "markdown",
   "id": "c9b722f3-ff1f-47e0-91fa-580a13ec809d",
   "metadata": {},
   "source": [
    "Construimos un dataframe para usar en la visualización"
   ]
  },
  {
   "cell_type": "code",
   "execution_count": null,
   "id": "1e6aa50a-6ce5-4646-bf4a-9bff41c4a7db",
   "metadata": {},
   "outputs": [],
   "source": [
    "viz_df = sales_df.join(predict_df[['yhat', 'yhat_lower', 'yhat_upper']], how = 'outer')\n",
    "viz_df['yhat_scaled'] = np.exp(viz_df['yhat'])"
   ]
  },
  {
   "cell_type": "code",
   "execution_count": null,
   "id": "8f31df1c-1fe2-4c69-bef7-b124f1630165",
   "metadata": {},
   "outputs": [],
   "source": [
    "viz_df.head()"
   ]
  },
  {
   "cell_type": "code",
   "execution_count": null,
   "id": "b92a219e-db37-498c-aaac-5a159002330e",
   "metadata": {},
   "outputs": [],
   "source": [
    "viz_df.tail()"
   ]
  },
  {
   "cell_type": "markdown",
   "id": "f9c4358b-04c6-451b-ad6e-fe726f398ef1",
   "metadata": {},
   "source": [
    "Graficamos"
   ]
  },
  {
   "cell_type": "code",
   "execution_count": null,
   "id": "74a83045-3c23-4404-9971-f50dd208315a",
   "metadata": {},
   "outputs": [],
   "source": [
    "fig, ax1 = plt.subplots()\n",
    "ax1.plot(viz_df.sales)\n",
    "ax1.plot(viz_df.yhat_scaled, color='black', linestyle=':')\n",
    "ax1.fill_between(viz_df.index, np.exp(viz_df['yhat_upper']), np.exp(viz_df['yhat_lower']), alpha=0.5, color='darkgray')\n",
    "ax1.set_title('Sales (Orange) vs Sales Forecast (Black)')\n",
    "ax1.set_ylabel('Dollar Sales')\n",
    "ax1.set_xlabel('Date')\n",
    "\n",
    "L=ax1.legend() #get the legend\n",
    "L.get_texts()[0].set_text('Actual Sales') #change the legend text for 1st plot\n",
    "L.get_texts()[1].set_text('Forecasted Sales') #change the legend text for 2nd plot\n",
    "fig"
   ]
  },
  {
   "cell_type": "code",
   "execution_count": null,
   "id": "81893f1a-f3d4-4a1b-819c-ee9c5933d24c",
   "metadata": {},
   "outputs": [],
   "source": []
  }
 ],
 "metadata": {
  "kernelspec": {
   "display_name": "Python 3 (ipykernel)",
   "language": "python",
   "name": "python3"
  },
  "language_info": {
   "codemirror_mode": {
    "name": "ipython",
    "version": 3
   },
   "file_extension": ".py",
   "mimetype": "text/x-python",
   "name": "python",
   "nbconvert_exporter": "python",
   "pygments_lexer": "ipython3",
   "version": "3.7.13"
  }
 },
 "nbformat": 4,
 "nbformat_minor": 5
}
