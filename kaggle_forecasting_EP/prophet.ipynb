{
 "cells": [
  {
   "cell_type": "code",
   "execution_count": null,
   "id": "5163a18e-20a8-499a-9388-cce51b5dda10",
   "metadata": {},
   "outputs": [],
   "source": [
    "import numpy as np\n",
    "\n",
    "# Para tratamiento y e/s de datos\n",
    "import pandas as pd\n",
    "\n",
    "# Gráficos de datos\n",
    "import matplotlib.pyplot as plt\n",
    "import plotly.express as px\n",
    "import plotly.graph_objects as go"
   ]
  },
  {
   "cell_type": "code",
   "execution_count": null,
   "id": "4c595540-7054-47ad-ad91-8e94b596ec99",
   "metadata": {},
   "outputs": [],
   "source": [
    "from fbprophet import Prophet\n",
    "# from fbprophet.deagnostics import cross_validation"
   ]
  },
  {
   "cell_type": "markdown",
   "id": "7114e332-77b6-4185-8385-8b6898065f78",
   "metadata": {},
   "source": [
    "# Forecasting Demanda Energía (Prophet)"
   ]
  },
  {
   "cell_type": "code",
   "execution_count": null,
   "id": "eb62e6cc-4172-4b77-ae12-f364eec9f4ce",
   "metadata": {},
   "outputs": [],
   "source": [
    "# Importo el archivos de datos de consumo de energia en la zona este de EE.UU.\n",
    "df = pd.read_csv(r'\\kaggle_forecasting_EP\\PJME_hourly.csv')\n",
    "df.head()"
   ]
  },
  {
   "cell_type": "markdown",
   "id": "22b0a3ed-ca08-41e5-ab5e-39fb49405a69",
   "metadata": {},
   "source": [
    "<b>Target_value: \"PJME_MW\"</b>"
   ]
  },
  {
   "cell_type": "code",
   "execution_count": null,
   "id": "670e2c83-e7d2-409f-abab-eab29b635e0d",
   "metadata": {},
   "outputs": [],
   "source": [
    "#Convierto el index en DateTimeIndex\n",
    "df['Datetime'] = pd.to_datetime(df['Datetime'])\n",
    "df.sort_values(by=['Datetime'], axis = 0, ascending = True, inplace = True)\n",
    "df.reset_index(inplace = True, drop = True)\n",
    "\n",
    "# La variable objetivo (y) se renombra a: demand_in_MW\n",
    "df.rename(columns={'PJME_MW':'demand_in_MW'}, inplace = True)\n",
    "\n",
    "df.head()"
   ]
  },
  {
   "cell_type": "code",
   "execution_count": null,
   "id": "4cb77983-ec3c-49e4-bc5a-c9c03b05c9f1",
   "metadata": {},
   "outputs": [],
   "source": [
    "df.shape"
   ]
  },
  {
   "cell_type": "markdown",
   "id": "8a5be113-2392-4ecc-ba2f-174f42fba28e",
   "metadata": {},
   "source": [
    "## Limpieza de datos"
   ]
  },
  {
   "cell_type": "markdown",
   "id": "1215f9c9-33d8-49de-88a8-9a7b3a7b73d0",
   "metadata": {},
   "source": [
    "### Eliminación de datos duplicados"
   ]
  },
  {
   "cell_type": "code",
   "execution_count": null,
   "id": "8a571629-98eb-4ab4-9d9e-a731f2ae7c96",
   "metadata": {},
   "outputs": [],
   "source": [
    "# De datos duplicados, solo se mantiene la medición más reciente. \n",
    "df.drop_duplicates(subset = 'Datetime', keep = 'last', inplace = True)\n",
    "df.shape"
   ]
  },
  {
   "cell_type": "markdown",
   "id": "747fc020-3f1a-4f3e-bbcd-1d92505357f6",
   "metadata": {},
   "source": [
    "### Tratamiento de espacios vacios para un grupo de datos continuos"
   ]
  },
  {
   "cell_type": "code",
   "execution_count": null,
   "id": "7872fe0c-cec6-4604-a4d1-21820c4e724d",
   "metadata": {},
   "outputs": [],
   "source": [
    "df_2 = df.set_index('Datetime')\n",
    "# print(f'df.index.freq is set to: {df.index.freq}')\n",
    "df_2"
   ]
  },
  {
   "cell_type": "code",
   "execution_count": null,
   "id": "19c29c58-8959-418e-a29f-df9b00824c41",
   "metadata": {},
   "outputs": [],
   "source": [
    "print(f'df_2.index.freq is set to: {df_2.index.freq}')"
   ]
  },
  {
   "cell_type": "markdown",
   "id": "4c9ce291-e6ff-46b0-9d3f-5a3e6b42d525",
   "metadata": {},
   "source": [
    "<i>\n",
    "Tener un dataset con frecuencia en \"None\" indica \n",
    "que existen datos que perdidos (missing). <br>\n",
    "Para verificar lo dicho, podemos comparar con un rango de datos\n",
    "custom e ininterrumpido\n",
    "</i>"
   ]
  },
  {
   "cell_type": "code",
   "execution_count": null,
   "id": "b1f6b6f9-9738-454d-aecd-0320020c98a2",
   "metadata": {},
   "outputs": [],
   "source": [
    "# Custom range\n",
    "data_range = pd.date_range(start = min(df_2.index),\n",
    "                          end = max(df_2.index),\n",
    "                          freq = 'H') \n",
    "\n",
    "data_range #NO ES UN DATAFRAME, ES UN DATETIMEINDEX (un index basicamente.) \n",
    "#freq = 'H' indica frecuencia por hora.\n",
    "#Explicación: genero un dataframe con una frecuencia horaria desde el valor minimo del index (datetime)\n",
    "#del dataframe original, y con el valor máximo del index. Con esto lo que obtengo es TODO EL CALENDARIO\n",
    "#sin datos perdidos. \n",
    "#Al hacer mas adelante la diferencia entre ambos dataframe, voy a obtener los \"días perdidos\" del dataframe original. \n",
    "# https://pandas.pydata.org/docs/user_guide/timeseries.html#timeseries-offset-aliases"
   ]
  },
  {
   "cell_type": "code",
   "execution_count": null,
   "id": "af2b1474-f528-45c0-a3ce-7dc200fc9e11",
   "metadata": {},
   "outputs": [],
   "source": [
    "print(f'La diferencia de longitud entre el rango customizado de datos y nuestro dataset es {(len(data_range)-len(df_2))}:')\n",
    "print(data_range.difference(df_2.index))\n",
    "#la diferencia entre ambos df indica la cantidad de valores perdidos en el df_original"
   ]
  },
  {
   "cell_type": "markdown",
   "id": "a1bebf1c-a02c-48d6-ac1e-19935247345e",
   "metadata": {},
   "source": [
    "<i>Re-indexamos los valores nuevos al dataset</i>"
   ]
  },
  {
   "cell_type": "code",
   "execution_count": null,
   "id": "113db5a3-8413-4ff3-949a-1fcdaedba5f9",
   "metadata": {},
   "outputs": [],
   "source": [
    "# El siguiente comando adjunta los datos \"datetime\" perdidos (missing) al dataset original\n",
    "# pero va a generar valores NaN para la variable Target (Demand_in_MW)\n",
    "\n",
    "df_3 = df_2.reindex(data_range)\n",
    "\n",
    "# Llenamos estos valores blancos con valores que se encuentran en una curva lineal entre \n",
    "# puntos de datos existentes\n",
    "df_3['demand_in_MW'].interpolate(method='linear', inplace=True)\n",
    "\n",
    "# Con la interpolación se tiene un datetime (set de hora y dias) continuo\n",
    "print(f'La df.index.freq ahora es: {df_3.index.freq}, indicando que ya no tenemos valores perdidos')"
   ]
  },
  {
   "cell_type": "code",
   "execution_count": null,
   "id": "37d239df-c0dc-40cd-bfad-2057cc08ee3f",
   "metadata": {},
   "outputs": [],
   "source": [
    "df_3.head(5)"
   ]
  },
  {
   "cell_type": "markdown",
   "id": "21c69082-5e7f-41d3-8d8a-1abc20487fdf",
   "metadata": {},
   "source": [
    "### Extraemos características de la variable Tiempo"
   ]
  },
  {
   "cell_type": "markdown",
   "id": "372756e7-72c7-481e-93e9-52ad3c291f69",
   "metadata": {},
   "source": [
    "<i>\n",
    "Podemos dividir la columna de Datetime en sus diferentes componentes. <br>\n",
    "Esto nos permite encontrar patrones para diferentes grupos.\n",
    "</i>"
   ]
  },
  {
   "cell_type": "code",
   "execution_count": null,
   "id": "1c0d91e3-8760-415f-9ff9-94755bd80299",
   "metadata": {},
   "outputs": [],
   "source": [
    "df_3['dow'] = df_3.index.day_of_week\n",
    "df_3['doy'] = df_3.index.day_of_year\n",
    "df_3['year'] = df_3.index.year\n",
    "df_3['month'] = df_3.index.month\n",
    "df_3['quarter'] = df_3.index.quarter\n",
    "df_3['hour'] = df_3.index.hour\n",
    "df_3['weekday'] = df_3.index.day_name()\n",
    "df_3['woy'] = df_3.index.isocalendar().week #week of year\n",
    "df_3['dom'] = df_3.index.day # Day of Month\n",
    "df_3['date'] = df_3.index.date \n",
    "\n",
    "# número de estación del año\n",
    "df_3['season'] = df_3['month'].apply(lambda month_number: (month_number%12 + 3)//3) \n",
    "# el operador aritmético // solo devuelve a parte entera de la división."
   ]
  },
  {
   "cell_type": "code",
   "execution_count": null,
   "id": "ac4faaa2-f41f-4f99-ba9d-858be6f2c4e2",
   "metadata": {},
   "outputs": [],
   "source": [
    "df_3.index.year"
   ]
  },
  {
   "cell_type": "markdown",
   "id": "54771169-c376-444e-a0f4-1f98d5f5bf83",
   "metadata": {},
   "source": [
    "## EDA"
   ]
  },
  {
   "cell_type": "markdown",
   "id": "8870d024-010b-4cb7-84b7-b3e27cf4630a",
   "metadata": {},
   "source": [
    "### Graficando el consumo de energía a lo largo del tiempo"
   ]
  },
  {
   "cell_type": "code",
   "execution_count": null,
   "id": "9a64a9da-de0d-4d60-bc5e-d45e66dc34bb",
   "metadata": {},
   "outputs": [],
   "source": [
    "#Plotyle no permite acceso directo a los index del df. ?????\n",
    "df_3['date_and_time'] = df_3.index \n",
    "\n",
    "#Plotting\n",
    "fig = px.line(df_3, x=['date_and_time'], y='demand_in_MW', title=f'Demanda MW por tiempo [{min(df_3.year)} - {max(df_3.year)}]')\n",
    "fig.update_traces(line=dict(width=0.05))\n",
    "fig.update_layout(xaxis_title='Date & Time', yaxis_title='Demanda Energía [MW]')\n",
    "fig.show()"
   ]
  },
  {
   "cell_type": "markdown",
   "id": "810ce8e1-a2fa-4389-804d-902f10329ee5",
   "metadata": {},
   "source": [
    "Estudiando la gráfica se observa un comportamiento con patron en temporadas (estación del año). "
   ]
  },
  {
   "cell_type": "markdown",
   "id": "11367f3a-fc04-4bfe-a5cb-e3ca0fe169ee",
   "metadata": {},
   "source": [
    "### Patrones de fecha y hora"
   ]
  },
  {
   "cell_type": "markdown",
   "id": "67438c53-b943-4c8a-984f-313d569937f1",
   "metadata": {},
   "source": [
    "Podemos usar nuestras funciones de fecha y hora extraídas previamente <br>\n",
    "para ver si surgen patrones recurrentes de los datos agregados. <br>\n",
    "Tomemos, por ejemplo, la demanda de energía a lo largo del día para cada día de la semana:"
   ]
  },
  {
   "cell_type": "code",
   "execution_count": null,
   "id": "4268f81e-55b9-4a6a-8fd8-687ecc6c7b17",
   "metadata": {},
   "outputs": [],
   "source": [
    "df_3.columns"
   ]
  },
  {
   "cell_type": "code",
   "execution_count": null,
   "id": "9e199981-ce7b-424b-a14f-b6cf55aa6746",
   "metadata": {},
   "outputs": [],
   "source": [
    "# Dataframe definido para reflejar el consumo por hora en la semana, usando la mediana de energia. \n",
    "patron_1 = df_3.groupby(['hour', 'weekday'], as_index=False).agg({'demand_in_MW':'median'})\n",
    "patron_1"
   ]
  },
  {
   "cell_type": "code",
   "execution_count": null,
   "id": "d487f958-0259-4143-b9e0-2c416141babb",
   "metadata": {},
   "outputs": [],
   "source": [
    "fig = px.line(patron_1, \n",
    "              x = 'hour',\n",
    "              y = 'demand_in_MW', \n",
    "              color='weekday', \n",
    "              title='Mediana de consumo de energia por hs por día de semana ')\n",
    "\n",
    "fig.update_layout(xaxis_title='Hour', yaxis_title='Energy Demand[MW]')\n",
    "\n",
    "fig.show()"
   ]
  },
  {
   "cell_type": "code",
   "execution_count": null,
   "id": "f3fa793b-c960-4f67-af55-1f3db6035c8e",
   "metadata": {},
   "outputs": [],
   "source": [
    "# Dataframe definido para graficar el consumo horario por temporada del año. Mediana de la energía. \n",
    "patron_2 = df_3.groupby(['hour', 'season'], as_index=False).agg({'demand_in_MW':'median'})"
   ]
  },
  {
   "cell_type": "code",
   "execution_count": null,
   "id": "706d644a-f3b5-4f2d-80c6-784f2d9a92b6",
   "metadata": {},
   "outputs": [],
   "source": [
    "fig_2 = px.line(patron_2, \n",
    "                x = 'hour',\n",
    "                y = 'demand_in_MW', \n",
    "                color='season', \n",
    "                title='Mediana de consumo de energia por hs por estación')\n",
    "\n",
    "fig_2.update_layout(xaxis_title='Hour', yaxis_title='Energy Demand[MW]')\n",
    "\n",
    "fig_2.show()"
   ]
  },
  {
   "cell_type": "markdown",
   "id": "c1d87645-3abe-422e-a3d5-2d6d204ef9a8",
   "metadata": {},
   "source": [
    "## Descompoción de la serie de tiempo\n",
    "\n",
    "Los puntos que representan datos a lo largo de una serie de tiempo pueden ser interesantes <br>\n",
    "en cuanto sus patrones se complementes con tendencias de subida/bajada y/o estacionalidad. <br>\n",
    "Según la info adquirida en el EDA esto parece ser así."
   ]
  },
  {
   "cell_type": "code",
   "execution_count": null,
   "id": "85e3464b-5952-4602-aa13-a03da2dbee34",
   "metadata": {},
   "outputs": [],
   "source": [
    "print(f'El primer punto de medicion fecha/hs es: {min(df_3.index)}')\n",
    "print(f'El último punto de medicion fecha/hs es: {max(df_3.index)}')"
   ]
  },
  {
   "cell_type": "code",
   "execution_count": null,
   "id": "0d5df11f-99e2-4880-b7b4-301ef12a4b24",
   "metadata": {},
   "outputs": [],
   "source": [
    "# Dataframe de recort\n",
    "CUTOFF_DATE = pd.to_datetime('2017-08-01')\n",
    "TIME_DELTA = pd.DateOffset(years=8)\n",
    "\n",
    "# Separo df p/ test y df p/ train\n",
    "train = df_3.loc[(df_3.index < CUTOFF_DATE) & (df_3.index >= CUTOFF_DATE - TIME_DELTA)].copy()\n",
    "test = df_3.loc[df_3.index >= CUTOFF_DATE].copy()"
   ]
  },
  {
   "cell_type": "code",
   "execution_count": null,
   "id": "b69d092e-9c78-44c7-93bc-6e2048a66d14",
   "metadata": {},
   "outputs": [],
   "source": [
    "#Se permite recortar varias fechas porque:\n",
    "#1- El comportamiento es constante en el tiempo.\n",
    "#2- Alivia la carga de procesamiento en la PC.\n",
    "print(f'Training shape: {train.shape}\\n Testing shape: {test.shape}\\n')\n",
    "print(f'Las fechas de entrenamiento son: {min(train.index)} & {max(train.index)}')\n",
    "print(f'Las fechas de test son: {min(test.index)} & {max(test.index)}')"
   ]
  },
  {
   "cell_type": "markdown",
   "id": "6e19487b-566b-4f6b-ac98-88c8ca9cf3c0",
   "metadata": {},
   "source": [
    "# Prophet\n",
    "\n",
    "Es un modelo de pronóstico de series de tiempo, diseñado para manejar las características comunes\n",
    "en las series de tiempo implementadas hoy en día. <br>\n",
    "La idea del modelo Prophet es ser accesible y ajustable sin necesitar tener conocimientos de lo que pasa\n",
    "detrás del telón respecto al funcionamiento matemático de la serie de tiempo. <br>\n",
    "Tecnicamente hablando, es una serie de tiempo descompuesta en tres términos:\n",
    "<i>y(t) = g(t)+s(t)+h(t)+et</i>\n",
    "<ul>\n",
    "<li>g(t): trend\n",
    "    <blockquote> \n",
    "        Función de tendencia que modela cambios no-periodicos en los valores de la serie de tiempo.\n",
    "    </blockquote>\n",
    "    </li> \n",
    "<li>s(t): seasonality\n",
    "    <blockquote>   \n",
    "        Función que representa cambios periodicos. \n",
    "    </blockquote>\n",
    "    </li> \n",
    "<li>h(t): holidays\n",
    "    <blockquote>  \n",
    "        Función que representa los efectos de los días de vacaciones/feriados/findes.\n",
    "    </blockquote>\n",
    "    </li>\n",
    "<li>et: Término de error. \n",
    "    <blockquote>  \n",
    "        Representa cualquier cambio idiosincracico (herencia). Se supone normalmente distribuido. \n",
    "    </blockquote>\n",
    "    </li>\n",
    "</ul>"
   ]
  },
  {
   "cell_type": "markdown",
   "id": "f71198c4-d53d-47a1-943f-3a3df08a8dc1",
   "metadata": {},
   "source": [
    "Docs Oficiales (muy utiles): __[PROPHET_DOCS](https://facebook.github.io/prophet/docs/quick_start.html)__<BR>\n",
    "Teoría: __[Forecasting at Scale(pdf)](https://www.kaggle.com/robinteuwens/forecasting-energy-demand/notebook)__ <br>\n",
    "Practica: __[Forecasting con Prophet](https://nextjournal.com/eric-brown/forecasting-with-prophet)__ "
   ]
  },
  {
   "cell_type": "code",
   "execution_count": null,
   "id": "cf8d5464-56a4-4ad8-8f06-650a38e01f5e",
   "metadata": {},
   "outputs": [],
   "source": [
    "# Formato de datos para el modelo de Prophet \n",
    "train_prophet = train[['demand_in_MW']].reset_index().rename(columns = {'index': 'ds', 'demand_in_MW': 'y'})\n",
    "test_prophet = test[['demand_in_MW']].reset_index().rename(columns = {'index': 'ds', 'demand_in_MW': 'y'})\n",
    "test_prophet.info()"
   ]
  },
  {
   "cell_type": "code",
   "execution_count": null,
   "id": "f2687f6c-b718-4fea-ab3a-e1ab9b02bdb6",
   "metadata": {},
   "outputs": [],
   "source": []
  },
  {
   "cell_type": "markdown",
   "id": "05d2945f-26a2-415b-aeab-aa2d5fd2bd7c",
   "metadata": {},
   "source": [
    "<b>Los dos bloques que siguen me sirven para agregar fechas extras al DataFrame</b>"
   ]
  },
  {
   "cell_type": "code",
   "execution_count": null,
   "id": "37be0ff5-c01c-4f46-a83e-a791a4c683d6",
   "metadata": {},
   "outputs": [],
   "source": [
    "from datetime import datetime, timedelta\n",
    "\n",
    "inicio = datetime(2018,8,3) \n",
    "fin = datetime(2020,1,1)\n",
    "\n",
    "lista_fechas = [(inicio + timedelta(hours=h)) for h in range(((fin-inicio).days + 1)*24)]\n",
    "\n",
    "print(f'Se agregarán: {(max(lista_fechas)-min(lista_fechas))*24}')\n",
    "print(min(lista_fechas))\n",
    "print(max(lista_fechas))"
   ]
  },
  {
   "cell_type": "code",
   "execution_count": null,
   "id": "854221ad-9f6b-4540-a43e-f11e4e4ddb41",
   "metadata": {},
   "outputs": [],
   "source": [
    "fechas_extras = pd.DataFrame(lista_fechas).rename(columns = {0: 'ds'})\n",
    "fechas_extras.head()"
   ]
  },
  {
   "cell_type": "code",
   "execution_count": null,
   "id": "91e6cbe2-fe03-4acd-b184-b6800a40f4be",
   "metadata": {},
   "outputs": [],
   "source": [
    "test_prophet_2 = pd.concat([test_prophet, fechas_extras])\n",
    "test_prophet_2.reset_index(inplace = True, drop = True)\n",
    "# De datos duplicados, solo se mantiene la medición más reciente. \n",
    "test_prophet_2.drop_duplicates(subset = 'ds', keep = 'last', inplace = True)\n",
    "test_prophet_2.info()"
   ]
  },
  {
   "cell_type": "markdown",
   "id": "2f42bbc5-ec5c-4419-8b7f-94545328b496",
   "metadata": {},
   "source": [
    "## Conditional Seasonalities"
   ]
  },
  {
   "cell_type": "markdown",
   "id": "6d400a70-ee83-473f-904a-ffc818ea8b55",
   "metadata": {},
   "source": [
    "<blockquote>\n",
    "In some instances the seasonality may depend on other factors, such as a weekly seasonal pattern that is different during the summer than it is during the rest of the year, or a daily seasonal pattern that is different on weekends vs. on weekdays. These types of seasonalities can be modeled using conditional seasonalities.\n",
    "</blockquote>"
   ]
  },
  {
   "cell_type": "markdown",
   "id": "6c7d1340-f76f-46c7-995b-acbc3c6ab54b",
   "metadata": {},
   "source": [
    "Del EDA podemos observar que la variación diaria en estaciones es mayor en Verano e Invierno (obviamente). <br>\n",
    "Destripemos los patrones de los datos para tener en cuenta la interdependencia de estas variables."
   ]
  },
  {
   "cell_type": "code",
   "execution_count": null,
   "id": "f0aaa9b9-11e5-4b82-b429-e2adb4270f58",
   "metadata": {},
   "outputs": [],
   "source": [
    "# Condiciones\n",
    "def is_spring(ds): \n",
    "    date = pd.to_datetime(ds)    \n",
    "    return (date.month >= 3) & (date.month <=5)\n",
    "\n",
    "def is_summer(ds): \n",
    "    date = pd.to_datetime(ds)\n",
    "    return (date.month >= 6) & (date.month <=8)\n",
    "\n",
    "def is_autumn(ds): \n",
    "    date = pd.to_datetime(ds)\n",
    "    return (date.month >= 9) & (date.month <=11)\n",
    "\n",
    "# La lógica fallaba, tuve que corregir. \n",
    "def is_winter(ds): \n",
    "    date = pd.to_datetime(ds)\n",
    "    return (date.month == 12) | (date.month <=2)\n",
    "\n",
    "# A esta función la hice de una forma distinta para que ande bien.\n",
    "def is_weekend(ds):     \n",
    "    return ds.dayofweek in (5, 6)"
   ]
  },
  {
   "cell_type": "code",
   "execution_count": null,
   "id": "ad069cad-1ce1-42c0-9876-5493359dbf29",
   "metadata": {},
   "outputs": [],
   "source": [
    "# agregamos al set de entrenamiento\n",
    "train_prophet['is_spring'] = train_prophet['ds'].apply(is_spring)\n",
    "train_prophet['is_summer'] = train_prophet['ds'].apply(is_summer)\n",
    "train_prophet['is_autumn'] = train_prophet['ds'].apply(is_autumn)\n",
    "train_prophet['is_winter'] = train_prophet['ds'].apply(is_winter)\n",
    "train_prophet['is_weekend'] = train_prophet['ds'].apply(is_weekend)\n",
    "train_prophet['is_weekday'] = ~train_prophet['ds'].apply(is_weekend) "
   ]
  },
  {
   "cell_type": "code",
   "execution_count": null,
   "id": "c9232036-2f0a-4682-84e0-c2a35fbeb310",
   "metadata": {},
   "outputs": [],
   "source": [
    "# is_winter & is_weekend no tienen valores True...porque? RESUELTO. \n",
    "# train_prophet[train_prophet[\"is_weekday\"]==True][0:5]\n",
    "train_prophet.shape"
   ]
  },
  {
   "cell_type": "code",
   "execution_count": null,
   "id": "3c34a5b8-3fde-40bc-baec-f3ee4492c907",
   "metadata": {},
   "outputs": [],
   "source": [
    "# agregamos al set de testeo\n",
    "test_prophet_2['is_spring'] = test_prophet_2['ds'].apply(is_spring)\n",
    "test_prophet_2['is_summer'] = test_prophet_2['ds'].apply(is_summer)\n",
    "test_prophet_2['is_autumn'] = test_prophet_2['ds'].apply(is_autumn)\n",
    "test_prophet_2['is_winter'] = test_prophet_2['ds'].apply(is_winter)\n",
    "test_prophet_2['is_weekend'] = test_prophet_2['ds'].apply(is_weekend)\n",
    "test_prophet_2['is_weekday'] = ~test_prophet_2['ds'].apply(is_weekend)"
   ]
  },
  {
   "cell_type": "code",
   "execution_count": null,
   "id": "37527cc8-d08b-4ed8-9994-b66a05d0cbb5",
   "metadata": {},
   "outputs": [],
   "source": [
    "# test_prophet_2[test_prophet_2[\"is_spring\"]==False][0:100]\n",
    "test_prophet_2.info()"
   ]
  },
  {
   "cell_type": "markdown",
   "id": "8d397d7c-8f13-4270-9ddc-99e0db716d6a",
   "metadata": {},
   "source": [
    "Instanciamos la clase con parámetros configurados"
   ]
  },
  {
   "cell_type": "code",
   "execution_count": null,
   "id": "7a276a5b-3316-4833-a177-644efdae022a",
   "metadata": {},
   "outputs": [],
   "source": [
    "prophet = Prophet(\n",
    "    daily_seasonality = False,\n",
    "    weekly_seasonality = False,\n",
    "    yearly_seasonality = False\n",
    ")\n",
    "\n",
    "# Estacionalidades personalizadas para tener en cuenta las variaciones condicionales\n",
    "# Tendencias extremas en extremas temporadas\n",
    "prophet.add_seasonality(name='yearly', period=365.25, fourier_order = 10)\n",
    "prophet.add_seasonality(name='weekly_spring', \n",
    "                        period=7,\n",
    "                        fourier_order = 5,\n",
    "                        condition_name='is_spring')\n",
    "prophet.add_seasonality(name='weekly_summer', \n",
    "                        period=7,\n",
    "                        fourier_order=5, \n",
    "                        condition_name='is_summer')\n",
    "prophet.add_seasonality(name='weekly_autumn', \n",
    "                        period=7,\n",
    "                        fourier_order=5, \n",
    "                        condition_name='is_autumn')\n",
    "prophet.add_seasonality(name='weekly_winter', \n",
    "                        period=7,\n",
    "                        fourier_order=5, \n",
    "                        condition_name='is_winter')\n",
    "prophet.add_seasonality(name='daily_spring',  \n",
    "                        period=1,\n",
    "                        fourier_order=5, \n",
    "                        condition_name='is_spring')\n",
    "prophet.add_seasonality(name='daily_summer',  \n",
    "                        period=1,\n",
    "                        fourier_order=5, \n",
    "                        condition_name='is_summer')\n",
    "prophet.add_seasonality(name='daily_autumn',  \n",
    "                        period=1,\n",
    "                        fourier_order=5, \n",
    "                        condition_name='is_autumn')\n",
    "prophet.add_seasonality(name='daily_winter',  \n",
    "                        period=1,\n",
    "                        fourier_order=5, \n",
    "                        condition_name='is_winter')\n",
    "prophet.add_seasonality(name='daily_weekend',  \n",
    "                        period=1,\n",
    "                        fourier_order=5, \n",
    "                        condition_name='is_weekend')\n",
    "prophet.add_seasonality(name='daily_weekday',  \n",
    "                        period=1,\n",
    "                        fourier_order=5, \n",
    "                        condition_name='is_weekday')\n",
    "\n",
    "# Feriados/días festivos\n",
    "# prophet.add_country_holidays(country_name = 'AR')\n",
    "\n",
    "# fitting el modelo\n",
    "prophet.fit(train_prophet);\n",
    "\n",
    "#parte del dataframe en el que queremos hacer la prediccion\n",
    "future = test_prophet_2.drop(['y'], axis=1)\n",
    "\n",
    "# Prediciendo valores\n",
    "forecast = prophet.predict(future)\n",
    "\n",
    "pd.plotting.register_matplotlib_converters()\n",
    "\n",
    "#graficando el componente de estacionalidad encontrado\n",
    "_ = prophet.plot_components(forecast)"
   ]
  },
  {
   "cell_type": "code",
   "execution_count": null,
   "id": "f60bb23f-4065-4d90-8f14-b4fffe338847",
   "metadata": {},
   "outputs": [],
   "source": [
    "forecast.tail()"
   ]
  },
  {
   "cell_type": "markdown",
   "id": "e9ee883f-4ab2-47b8-a6ec-1ba2719d153b",
   "metadata": {},
   "source": [
    "## Guardo los datos obtenidos en un archivo .csv"
   ]
  },
  {
   "cell_type": "code",
   "execution_count": null,
   "id": "9441c720-95c7-450c-8a03-d66d690643c4",
   "metadata": {},
   "outputs": [],
   "source": [
    "df_y = pd.DataFrame(forecast)\n",
    "df_y.rename(columns={'ds':'DateTime', 'y':'Demanda en [MW]', 'yhat': 'Demanda pronosticada en [MW]'}, inplace = True)\n",
    "df_y.set_index('DateTime')"
   ]
  },
  {
   "cell_type": "code",
   "execution_count": null,
   "id": "c8b3e595-125a-4955-bf32-e57982696656",
   "metadata": {},
   "outputs": [],
   "source": [
    "df_y.to_csv('forecasting_prophet.csv', columns=['Demanda pronosticada en [MW]'], encoding='utf-8')"
   ]
  },
  {
   "cell_type": "markdown",
   "id": "495702c5-57c0-446f-ad2e-20971995166a",
   "metadata": {},
   "source": [
    "Definimos función MAPE: error de porcentaje absoluto medio"
   ]
  },
  {
   "cell_type": "code",
   "execution_count": null,
   "id": "d87c7d45-2406-4fce-9502-6291ee368390",
   "metadata": {},
   "outputs": [],
   "source": [
    "def mape(y_true, y_pred):\n",
    "    \"\"\"Error de porcentaje absoluto medio\"\"\"\n",
    "    \n",
    "    # conversión a vectores numpy\n",
    "    y_true, y_pred = np.array(y_true), np.array(y_pred)\n",
    "    \n",
    "    # Porcentaje de error\n",
    "    pe = (y_true - y_pred) / y_true\n",
    "    \n",
    "    # valor absolutos\n",
    "    ape = np.abs(pe)\n",
    "    \n",
    "    # Cuantificación del rendimiento en un solo nº\n",
    "    mape = np.mean(ape)\n",
    "    \n",
    "    return f'{mape*100:.2f}%'"
   ]
  },
  {
   "cell_type": "markdown",
   "id": "f0dee388-a31d-4626-9506-12d39184b3b0",
   "metadata": {},
   "source": [
    "Graficamos los resultados obtenidos: Curva de test y curva de valores predecidos"
   ]
  },
  {
   "cell_type": "code",
   "execution_count": null,
   "id": "dcbda6ca-de68-41bb-9e6b-26ff87ad44b7",
   "metadata": {},
   "outputs": [],
   "source": [
    "# create figure\n",
    "fig = go.Figure()\n",
    "fig.add_trace(go.Scatter(x=test_prophet.ds, y=test_prophet.y,\n",
    "                         mode='lines',\n",
    "                         name='Test - Ground Truth'))\n",
    "fig.add_trace(go.Scatter(x=forecast.ds, y=forecast.yhat,\n",
    "                         mode='lines', \n",
    "                         name='Test - Prediction'))\n",
    "\n",
    "# adjust layout\n",
    "fig.update_traces(line=dict(width=0.5))\n",
    "fig.update_layout(title='Prophet Forecast of Hourly Energy Demand',\n",
    "                  xaxis_title='Date & Time (yyyy/mm/dd hh:MM)',\n",
    "                  yaxis_title='Energy Demand [MW]')\n",
    "fig.show()\n",
    "\n",
    "# quantify accuracy\n",
    "print(f'MAPE for Prophet\\'s predictions: {mape(test_prophet.y, forecast.yhat[0:8809])}')"
   ]
  },
  {
   "cell_type": "markdown",
   "id": "e5594dcb-9079-4c4a-a5f2-f0ca171f2aa2",
   "metadata": {},
   "source": [
    "<b><i>El error es de 0% respecto al proyecto</i></b>"
   ]
  },
  {
   "cell_type": "markdown",
   "id": "dd55d5be-8bee-473a-9da3-24815431ab0a",
   "metadata": {},
   "source": [
    "## Visualización de la primer y última semana de pronostico"
   ]
  },
  {
   "cell_type": "code",
   "execution_count": null,
   "id": "ad3442b8-1ef0-475b-a95a-89fa2a569b73",
   "metadata": {},
   "outputs": [],
   "source": [
    "test_prophet_2[:168].index"
   ]
  },
  {
   "cell_type": "code",
   "execution_count": null,
   "id": "f1bfc32c-1ada-4795-8d72-7af4530b816f",
   "metadata": {},
   "outputs": [],
   "source": [
    "# Longitud de intervalo\n",
    "interval = 24*7\n",
    "\n",
    "# Necesitamos adaptar al intervalo las variables a usarse, \n",
    "# dado que la predicción se hizo por intervalos de 24*365\n",
    "x_true, y_true = test_prophet_2.iloc[:interval].ds, test_prophet_2.iloc[:interval].y\n",
    "x_pred, y_pred = forecast.iloc[:interval].ds, forecast.iloc[:interval].yhat\n",
    "\n",
    "# Grafica\n",
    "fig = go.Figure()\n",
    "fig.add_trace(go.Scatter(x=x_true, y=y_true,\n",
    "                         mode = 'lines',\n",
    "                         name = 'Test - Ground Truth'))\n",
    "fig.add_trace(go.Scatter(x=x_pred, y=y_pred,\n",
    "                         mode = 'lines',\n",
    "                         name = 'Test - Prediction'))\n",
    "# Ajustes varios sobre la grafica\n",
    "fig.update_traces(line=dict(width=0.9))\n",
    "fig.update_layout(title=f'Prophet: Pronóstico de las primeras {interval} horas de Demanda',\n",
    "                  xaxis_title='Date & Time (yyyy/mm/dd hh:MM)',\n",
    "                  yaxis_title='Energy Demand [MW]')\n",
    "fig.show()\n",
    "\n",
    "# Eficacia \n",
    "print(f'MAPE para el intervalo en las primeras {interval} horas: {mape(y_true, y_pred)}')"
   ]
  },
  {
   "cell_type": "markdown",
   "id": "42f5d7f3-f822-4bad-9187-e9e697d1b495",
   "metadata": {},
   "source": [
    "<b><i>Error menor en 0.01% respecto al proyecto</i></b>"
   ]
  },
  {
   "cell_type": "code",
   "execution_count": null,
   "id": "740404bd-6ce7-4e24-b361-0aa27ca092b9",
   "metadata": {},
   "outputs": [],
   "source": [
    "# Longitud de intervalo\n",
    "interval = -24*7\n",
    "\n",
    "# Necesitamos adaptar al intervalo las variables a usarse, \n",
    "# dado que la predicción se hizo por intervalos de 24*365\n",
    "x_true, y_true = test_prophet.iloc[interval:].ds, test_prophet.iloc[interval:].y\n",
    "x_pred, y_pred = forecast[:-12407].iloc[interval:].ds, forecast[:-12407].iloc[interval:].yhat\n",
    "\n",
    "# Grafica\n",
    "fig = go.Figure()\n",
    "fig.add_trace(go.Scatter(x=x_true, y=y_true,\n",
    "                         mode = 'lines',\n",
    "                         name = 'Test - Ground Truth'))\n",
    "fig.add_trace(go.Scatter(x=x_pred, y=y_pred,\n",
    "                         mode = 'lines',\n",
    "                         name = 'Test - Prediction'))\n",
    "# Ajustes varios sobre la grafica\n",
    "fig.update_traces(line=dict(width=0.9))\n",
    "fig.update_layout(title=f'Prophet: Pronóstico de las últimas {abs(interval)} horas de Demanda',\n",
    "                  xaxis_title='Date & Time (yyyy/mm/dd hh:MM)',\n",
    "                  yaxis_title='Energy Demand [MW]')\n",
    "fig.show()\n",
    "\n",
    "# Eficacia \n",
    "print(f'MAPE para el intervalo en las primeras {abs(interval)} horas: {mape(y_true, y_pred)}')"
   ]
  },
  {
   "cell_type": "markdown",
   "id": "ad670e29-f270-489b-a78b-344e4f7a3eba",
   "metadata": {},
   "source": [
    "<b><i>Error menor en 0.02% respecto al proyecto</i></b>"
   ]
  }
 ],
 "metadata": {
  "kernelspec": {
   "display_name": "Python 3 (ipykernel)",
   "language": "python",
   "name": "python3"
  },
  "language_info": {
   "codemirror_mode": {
    "name": "ipython",
    "version": 3
   },
   "file_extension": ".py",
   "mimetype": "text/x-python",
   "name": "python",
   "nbconvert_exporter": "python",
   "pygments_lexer": "ipython3",
   "version": "3.7.13"
  }
 },
 "nbformat": 4,
 "nbformat_minor": 5
}
