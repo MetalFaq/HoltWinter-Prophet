{
 "cells": [
  {
   "cell_type": "code",
   "execution_count": null,
   "id": "bdcce2ca-af65-41de-8732-1e41beacb53b",
   "metadata": {},
   "outputs": [],
   "source": [
    "import numpy as np\n",
    "\n",
    "# Para tratamiento y e/s de datos\n",
    "import pandas as pd\n",
    "\n",
    "# Gráficos de datos\n",
    "import matplotlib.pyplot as plt\n",
    "import plotly.express as px\n",
    "import plotly.graph_objects as go\n",
    "\n",
    "#filtrado para suavizar los datos\n",
    "from scipy.signal import savgol_filter"
   ]
  },
  {
   "cell_type": "code",
   "execution_count": null,
   "id": "59a620f0-c390-4e01-8463-4bb63718591c",
   "metadata": {},
   "outputs": [],
   "source": [
    "from fbprophet.plot import add_changepoints_to_plot\n",
    "from fbprophet.diagnostics import cross_validation\n",
    "from fbprophet.diagnostics import performance_metrics\n",
    "from fbprophet.plot import plot_cross_validation_metric"
   ]
  },
  {
   "cell_type": "markdown",
   "id": "4ed91adf-dd0e-44bc-a7c7-25df0bc458fb",
   "metadata": {},
   "source": [
    "# Forecasting Demanda Energía (Prophet)"
   ]
  },
  {
   "cell_type": "code",
   "execution_count": null,
   "id": "44ba8e0d-bf9e-4345-a603-c3bfecb956e2",
   "metadata": {},
   "outputs": [],
   "source": [
    "# Importo el archivos de datos de consumo de energia activa.\n",
    "demand = pd.read_csv(r'DIRECCIÓN  + NOMBRE.csv')\n",
    "demand.drop(columns = 'terminal', inplace = True)\n",
    "demand.rename(columns = {'fechahora' : 'datetime', 'demanda_activa' : 'y[kW]' }, inplace = True)"
   ]
  },
  {
   "cell_type": "code",
   "execution_count": null,
   "id": "4cb6e752-cfd5-4284-ba5f-42bb5ae78beb",
   "metadata": {},
   "outputs": [],
   "source": [
    "#Convierto a tipo DateTimeIndex la columna \"Datetime\"\n",
    "demand['datetime'] = pd.to_datetime(demand['datetime'])\n",
    "demand.sort_values(by=['datetime'], axis = 0, ascending = True, inplace = True)\n",
    "demand.reset_index(inplace = True, drop = True)"
   ]
  },
  {
   "cell_type": "code",
   "execution_count": null,
   "id": "4aabd552-df90-475e-b169-4d45152dfc8d",
   "metadata": {},
   "outputs": [],
   "source": [
    "if demand.index[0] == 0:\n",
    "    demand = demand.drop(labels=0, axis=0)"
   ]
  },
  {
   "cell_type": "code",
   "execution_count": null,
   "id": "914d57a8-12e7-4a0c-a492-dc5623a409d9",
   "metadata": {},
   "outputs": [],
   "source": [
    "# De datos duplicados, solo se mantiene la medición más reciente. \n",
    "demand.drop_duplicates(subset = 'datetime', keep = 'last', inplace = True)"
   ]
  },
  {
   "cell_type": "code",
   "execution_count": null,
   "id": "8c2e9f58-969d-466d-91aa-a3cf45ba2f91",
   "metadata": {},
   "outputs": [],
   "source": [
    "# Datos sin filtrar\n",
    "fig = go.Figure()\n",
    "fig.add_trace(go.Scatter(x=demand['datetime'], y=demand['y[kW]'],\n",
    "                         mode='lines',\n",
    "                         name='Energía'))\n",
    "\n",
    "# adjust layout\n",
    "fig.update_traces(line=dict(width=0.5))\n",
    "fig.show()"
   ]
  },
  {
   "cell_type": "code",
   "execution_count": null,
   "id": "9504639f-9069-4400-b1f9-22ba5e907400",
   "metadata": {},
   "outputs": [],
   "source": [
    "print(demand.info())\n",
    "print('\\n')\n",
    "print(demand['datetime'].min())\n",
    "print(demand['datetime'].max())"
   ]
  },
  {
   "cell_type": "markdown",
   "id": "c681988d-d606-4817-99f2-eec1da8d7bfd",
   "metadata": {},
   "source": [
    "## Limpieza de datos"
   ]
  },
  {
   "cell_type": "markdown",
   "id": "a60953ec-9821-4fc9-bd78-f5a3df89eef1",
   "metadata": {},
   "source": [
    "### Tratamiento de espacios vacios para un grupo de datos continuos"
   ]
  },
  {
   "cell_type": "code",
   "execution_count": null,
   "id": "e1ceb1ff-349f-45dd-90d4-46c2c353ff15",
   "metadata": {},
   "outputs": [],
   "source": [
    "demand.set_index('datetime', inplace = True)\n",
    "print(f'df.index.freq is set to: {demand.index.freq}')"
   ]
  },
  {
   "cell_type": "markdown",
   "id": "8d6b8395-0628-4623-95f6-dce47beeaf80",
   "metadata": {},
   "source": [
    "<i>\n",
    "Tener un dataset con frecuencia en \"None\" indica \n",
    "que existen datos que perdidos (missing). <br>\n",
    "Para verificar lo dicho, podemos comparar con un rango de datos\n",
    "custom e ininterrumpido\n",
    "</i>"
   ]
  },
  {
   "cell_type": "code",
   "execution_count": null,
   "id": "3c5aca0f-6439-4501-a4f2-a59daa56fdde",
   "metadata": {},
   "outputs": [],
   "source": [
    "# Custom range\n",
    "data_range = pd.date_range(start = min(demand.index),\n",
    "                          end = max(demand.index),\n",
    "                          freq = '15min') \n",
    "#freq = '15min' indica frecuencia por hora.\n",
    "#Explicación: genero un dataframe con una frecuencia horaria desde el valor minimo del index (datetime)\n",
    "#del dataframe original, y con el valor máximo del index. Con esto lo que obtengo es TODO EL CALENDARIO\n",
    "#sin datos perdidos. \n",
    "#Al hacer mas adelante la diferencia entre ambos dataframe, voy a obtener los \"días perdidos\" del dataframe original. \n",
    "# https://pandas.pydata.org/docs/user_guide/timeseries.html#timeseries-offset-aliases\n",
    "data_range"
   ]
  },
  {
   "cell_type": "code",
   "execution_count": null,
   "id": "47873831-ecd2-421b-8408-ff8a9a17278e",
   "metadata": {},
   "outputs": [],
   "source": [
    "print(f'La diferencia de longitud entre el rango customizado de datos y nuestro dataset es {(len(data_range)-len(demand))}')"
   ]
  },
  {
   "cell_type": "code",
   "execution_count": null,
   "id": "647a5b33-7afc-4808-a840-426cddb3711f",
   "metadata": {},
   "outputs": [],
   "source": [
    "#la diferencia entre ambos df indica la cantidad de valores perdidos en el df_original\n",
    "print(data_range.difference(demand.index))"
   ]
  },
  {
   "cell_type": "code",
   "execution_count": null,
   "id": "8526cd25-8217-43e9-b047-6151f8c49da4",
   "metadata": {},
   "outputs": [],
   "source": [
    "# El siguiente comando adjunta los datos \"datetime\" perdidos (missing) al dataset original\n",
    "# pero va a generar valores NaN para la variable Target (y[kW])\n",
    "demand = demand.reindex(data_range)\n",
    "print(f'La frecuencia de los datos es: {demand.index.freq}')"
   ]
  },
  {
   "cell_type": "code",
   "execution_count": null,
   "id": "5901cadc-41ab-4383-b214-710985e010af",
   "metadata": {},
   "outputs": [],
   "source": [
    "print(f'Datos nulos: {demand.isnull().sum()}')"
   ]
  },
  {
   "cell_type": "code",
   "execution_count": null,
   "id": "aa4b6a2e-7b71-4e6c-9cd3-cd7d1661c084",
   "metadata": {},
   "outputs": [],
   "source": [
    "# Llenamos estos valores blancos con valores que se encuentran en una curva lineal entre puntos de datos existentes\n",
    "demand['y[kW]'].interpolate(method='linear', inplace=True)\n",
    "print(f'Datos nulos: {demand.isnull().sum()}')"
   ]
  },
  {
   "cell_type": "markdown",
   "id": "3536e061-5a65-4be0-a6b3-9ffe407c0e79",
   "metadata": {},
   "source": [
    "## Filtro savgol_filter"
   ]
  },
  {
   "cell_type": "code",
   "execution_count": null,
   "id": "4bcc6d4d-cabf-4953-8d78-059a1514d55d",
   "metadata": {},
   "outputs": [],
   "source": [
    "y_filtered = demand[[\"y[kW]\"]].apply(savgol_filter,  window_length=5, polyorder=3)"
   ]
  },
  {
   "cell_type": "code",
   "execution_count": null,
   "id": "07757842-1d44-4439-a275-0cfa24e50924",
   "metadata": {},
   "outputs": [],
   "source": [
    "# create figure\n",
    "fig = go.Figure()\n",
    "fig.add_trace(go.Scatter(x=demand.index,y=demand['y[kW]'],\n",
    "                         mode='lines',\n",
    "                         name='No Filtrada'))\n",
    "fig.add_trace(go.Scatter(x=y_filtered.index, y=y_filtered['y[kW]'],\n",
    "                         mode='lines', \n",
    "                         name='Filtrada'))\n",
    "\n",
    "# adjust layout\n",
    "fig.update_traces(line=dict(width=0.5))\n",
    "fig.show()"
   ]
  },
  {
   "cell_type": "markdown",
   "id": "0cb740df-87b5-4c24-a0f9-975505708bfb",
   "metadata": {
    "tags": []
   },
   "source": [
    "## EDA"
   ]
  },
  {
   "cell_type": "code",
   "execution_count": null,
   "id": "5140690a-c482-459b-91db-3317b1fc6df9",
   "metadata": {},
   "outputs": [],
   "source": [
    "df_eda = y_filtered.copy()"
   ]
  },
  {
   "cell_type": "markdown",
   "id": "425db2a7-6530-4a96-aaba-752939d022c6",
   "metadata": {
    "tags": []
   },
   "source": [
    "### Extraemos características de la variable Tiempo"
   ]
  },
  {
   "cell_type": "code",
   "execution_count": null,
   "id": "3bb53a95-aa87-4329-912f-60f63fcfce33",
   "metadata": {},
   "outputs": [],
   "source": [
    "df_eda['dow'] = df_eda.index.day_of_week\n",
    "df_eda['doy'] = df_eda.index.day_of_year\n",
    "df_eda['year'] = df_eda.index.year\n",
    "df_eda['month'] = df_eda.index.month\n",
    "df_eda['quarter'] = df_eda.index.quarter\n",
    "df_eda['hour'] = df_eda.index.hour\n",
    "df_eda['weekday'] = df_eda.index.day_name()\n",
    "df_eda['woy'] = df_eda.index.isocalendar().week #week of year\n",
    "df_eda['dom'] = df_eda.index.day # Day of Month\n",
    "df_eda['date'] = df_eda.index.date \n",
    "df_eda['season'] = df_eda['month'].apply(lambda month_number: (month_number%12 + 3)//3) # número de estación del año\n",
    "# el operador aritmético // solo devuelve a parte entera de la división.\n",
    "df_eda['date_and_time'] = df_eda.index "
   ]
  },
  {
   "cell_type": "markdown",
   "id": "dd5a8675-133c-41fc-abf5-82e1bbb57d59",
   "metadata": {
    "tags": []
   },
   "source": [
    "### Graficando el consumo de energía a lo largo del tiempo"
   ]
  },
  {
   "cell_type": "code",
   "execution_count": null,
   "id": "214cd085-8109-48b0-ba6c-cf5b5e51e9a9",
   "metadata": {},
   "outputs": [],
   "source": [
    "#Plotting\n",
    "fig = px.line(df_eda, x=['date_and_time'], y='y[kW]', title=f'Demanda kW por tiempo [{min(df_eda.year)} - {max(df_eda.year)}]')\n",
    "fig.update_traces(line=dict(width=0.3))\n",
    "fig.update_layout(xaxis_title='Date & Time', yaxis_title='Demanda Energía [kW]')\n",
    "fig.show()"
   ]
  },
  {
   "cell_type": "code",
   "execution_count": null,
   "id": "cc034f45-8a0e-4867-8c2f-c4a8de471ba3",
   "metadata": {},
   "outputs": [],
   "source": [
    "# Estudiando la gráfica se observa un comportamiento con patron en temporadas (estación del año). "
   ]
  },
  {
   "cell_type": "code",
   "execution_count": null,
   "id": "f4601973-766e-495e-9752-ab8bc50f2441",
   "metadata": {},
   "outputs": [],
   "source": [
    "#Se puede y debe comparar con la gráfica expuesta en Mr.Dims para verificar. "
   ]
  },
  {
   "cell_type": "markdown",
   "id": "63921db0-63bb-4885-9c88-bc0c05e37874",
   "metadata": {},
   "source": [
    "### Patrones de demanda"
   ]
  },
  {
   "cell_type": "code",
   "execution_count": null,
   "id": "e5c1c657-f9ea-4b4c-8fd0-f08b6a2d18d7",
   "metadata": {},
   "outputs": [],
   "source": [
    "#Podemos usar nuestras funciones de fecha y hora extraídas previamente \n",
    "#para ver si surgen patrones recurrentes de los datos agregados. \n",
    "#Tomemos, por ejemplo, la demanda de energía a lo largo del día para cada día de la semana:"
   ]
  },
  {
   "cell_type": "code",
   "execution_count": null,
   "id": "dc46568a-d56f-40cc-88bf-391188be2980",
   "metadata": {},
   "outputs": [],
   "source": [
    "##### Gráfica de consumo anual\n",
    "\n",
    "#grupo de datos por años\n",
    "groups = df_eda['y[kW]'].groupby(pd.Grouper(freq='A'))\n",
    "\n",
    "#Configuración de los ejes\n",
    "fig, axs = plt.subplots(len(groups), 1, figsize=(15,15))\n",
    "\n",
    "\n",
    "for ax, (name, group) in zip(axs, groups):\n",
    "    \n",
    "    #grafica\n",
    "    ax.plot(pd.Series(group.values))\n",
    "\n",
    "    ax.set_xlabel('Hora del año')\n",
    "    ax.set_ylabel('Consumo total')\n",
    "    ax.set_title(name.year)\n",
    "    plt.subplots_adjust(hspace=0.5)"
   ]
  },
  {
   "cell_type": "code",
   "execution_count": null,
   "id": "7fb2e28f-9a2e-4aa3-8bfe-ab4887a2e56d",
   "metadata": {},
   "outputs": [],
   "source": [
    "### plot the monthly demand variability. Looking for seasonal effects\n",
    "\n",
    "fig, axs = plt.subplots(1, 2, figsize=(30,10))\n",
    "\n",
    "for ax, col in zip(axs, df_eda.columns):\n",
    "    \n",
    "    groups = df_eda[col].groupby(pd.Grouper(freq='M'))\n",
    "    \n",
    "    df = pd.DataFrame()\n",
    "    \n",
    "    for name, group in groups:\n",
    "        df[name.month] = pd.Series(group.values)\n",
    "\n",
    "    df.boxplot(ax=ax)\n",
    "    ax.set_xlabel('Month Year')\n",
    "    ax.set_ylabel('Energy Demanded MWh')\n",
    "    ax.set_title(col)\n",
    "    plt.subplots_adjust(hspace=1)\n",
    "    \n",
    "    \n",
    "plt.show()"
   ]
  },
  {
   "cell_type": "code",
   "execution_count": null,
   "id": "7cdf48a1-6c75-460d-9cfd-3bbbd38e7c46",
   "metadata": {},
   "outputs": [],
   "source": [
    "# Dataframe definido para reflejar el consumo por hora en la semana, usando la mediana de energia. \n",
    "patron_1 = df_eda.groupby(['hour', 'weekday'], as_index=False).agg({'y[kW]':'median'})\n",
    "# patron_1"
   ]
  },
  {
   "cell_type": "code",
   "execution_count": null,
   "id": "7fc53784-c5bf-4b83-aedc-fb4ec7f658a6",
   "metadata": {},
   "outputs": [],
   "source": [
    "fig = px.line(patron_1, \n",
    "              x = 'hour',\n",
    "              y = 'y[kW]', \n",
    "              color='weekday', \n",
    "              title='Mediana de consumo de energia por hs por día de semana ')\n",
    "\n",
    "fig.update_layout(xaxis_title='Hour', yaxis_title='Energy Demand[kW]')\n",
    "\n",
    "fig.show()"
   ]
  },
  {
   "cell_type": "code",
   "execution_count": null,
   "id": "af72f13b-1c27-4111-bf7e-6f5d40bcc875",
   "metadata": {},
   "outputs": [],
   "source": [
    "# Dataframe definido para graficar el consumo horario por temporada del año. Mediana de la energía. \n",
    "patron_2 = df_eda.groupby(['hour', 'season'], as_index=False).agg({'y[kW]':'median'})\n",
    "# patron_2"
   ]
  },
  {
   "cell_type": "code",
   "execution_count": null,
   "id": "87461452-44b3-4042-bf07-8923d5991eea",
   "metadata": {},
   "outputs": [],
   "source": [
    "fig_2 = px.line(patron_2, \n",
    "                x = 'hour',\n",
    "                y = 'y[kW]', \n",
    "                color='season', \n",
    "                title='Mediana de consumo de energia por hs por estación')\n",
    "\n",
    "fig_2.update_layout(xaxis_title='Hour', yaxis_title='Energy Demand[kW]')\n",
    "\n",
    "fig_2.show()"
   ]
  },
  {
   "cell_type": "code",
   "execution_count": null,
   "id": "890cc6da-f1e3-4487-bfd5-02451b4ea062",
   "metadata": {},
   "outputs": [],
   "source": [
    "# Durante el verano le dan duro al aire acondicionado. "
   ]
  },
  {
   "cell_type": "markdown",
   "id": "ec32e191-6dca-4f2a-9d9b-90fa6283c17a",
   "metadata": {},
   "source": [
    "## Partición de la serie de tiempo"
   ]
  },
  {
   "cell_type": "code",
   "execution_count": null,
   "id": "1e0e535a-83a7-4c34-b56d-d5ed836ac72e",
   "metadata": {},
   "outputs": [],
   "source": [
    "# Los puntos que representan datos a lo largo de una serie de tiempo pueden ser interesantes \n",
    "# en cuanto sus patrones se complementes con tendencias de subida/bajada y/o estacionalidad. \n",
    "# Según la info adquirida en el EDA esto parece ser así."
   ]
  },
  {
   "cell_type": "code",
   "execution_count": null,
   "id": "fd132761-de2f-43e1-b90a-11e553bd3c3a",
   "metadata": {},
   "outputs": [],
   "source": [
    "print(f'El primer punto de medicion fecha/hs es: {min(y_filtered.index)}')\n",
    "print(f'El último punto de medicion fecha/hs es: {max(y_filtered.index)}')"
   ]
  },
  {
   "cell_type": "code",
   "execution_count": null,
   "id": "190527aa-f13c-42cf-8ce3-803179e26a2d",
   "metadata": {},
   "outputs": [],
   "source": [
    "df_prueba = y_filtered.copy().reset_index()\n",
    "df_prueba = df_prueba.rename(columns = {'index': 'ds', 'y[kW]': 'y'})"
   ]
  },
  {
   "cell_type": "markdown",
   "id": "1c2e6c3f-724f-42ca-875d-6ba14d6e955f",
   "metadata": {},
   "source": [
    "### Opcion uno"
   ]
  },
  {
   "cell_type": "code",
   "execution_count": null,
   "id": "eb2dc102-a59b-41fe-922a-1b87fc943084",
   "metadata": {},
   "outputs": [],
   "source": [
    "# 1 año = 35.040 muestras: (1 dia)24HS ---> 96 muestras\n",
    "if (len(df_prueba)/35040 >= 3):\n",
    "    train = df_prueba.loc[:len(df_prueba)-35040].reset_index(drop = True)\n",
    "    test = df_prueba.loc[(len(df_prueba)-35040)+1:].reset_index(drop= True) \n",
    "    print('Train')\n",
    "    print(min(train['ds']))\n",
    "    print(max(train['ds']))\n",
    "    print('Test')\n",
    "    print(min(test['ds']))\n",
    "    print(max(test['ds']))    \n",
    "else:\n",
    "    print('no ok')"
   ]
  },
  {
   "cell_type": "code",
   "execution_count": null,
   "id": "a7500b27-cfb6-4f96-80ce-5e99d73670eb",
   "metadata": {},
   "outputs": [],
   "source": [
    "#Se permite recortar varias fechas porque:\n",
    "#1- El comportamiento es constante en el tiempo.\n",
    "#2- Alivia la carga de procesamiento en la PC.\n",
    "print(f'Información set-train: {train.shape}\\nInformación set-test: {test.shape}\\n')\n",
    "print(f'Proporción del test-total: {((len(test)*100)/len(df_prueba)):.2f}%\\n') "
   ]
  },
  {
   "cell_type": "markdown",
   "id": "33016b85-3015-49be-a6db-d8b9b16f449c",
   "metadata": {},
   "source": [
    "### Opcion dos"
   ]
  },
  {
   "cell_type": "code",
   "execution_count": null,
   "id": "b23b6316-2220-41ec-93d6-e8bb3e884c0c",
   "metadata": {},
   "outputs": [],
   "source": []
  },
  {
   "cell_type": "code",
   "execution_count": null,
   "id": "f9ff7fc1-1582-42c9-a9b5-8ac5f7989e8a",
   "metadata": {},
   "outputs": [],
   "source": []
  },
  {
   "cell_type": "code",
   "execution_count": null,
   "id": "e7f55b87-2f3a-483e-a449-ec97ce525c17",
   "metadata": {},
   "outputs": [],
   "source": []
  },
  {
   "cell_type": "code",
   "execution_count": null,
   "id": "8e23b493-a1d6-4095-a95a-ad2cca5f52df",
   "metadata": {},
   "outputs": [],
   "source": []
  },
  {
   "cell_type": "markdown",
   "id": "40474b92-44cb-4cf2-b123-eb254b958393",
   "metadata": {},
   "source": [
    "### Opcion tres"
   ]
  },
  {
   "cell_type": "code",
   "execution_count": null,
   "id": "cb8cf5d2-d9d7-4d00-8e06-95fb6115c9cd",
   "metadata": {},
   "outputs": [],
   "source": [
    "futuro = make_future_dataframe(modelo_tuneado, periods = 35.040, freq = \"15 min\", include_history = False)"
   ]
  },
  {
   "cell_type": "code",
   "execution_count": null,
   "id": "ae4a2c8a-64b4-4a16-b9a1-799dc1a589af",
   "metadata": {},
   "outputs": [],
   "source": []
  },
  {
   "cell_type": "code",
   "execution_count": null,
   "id": "a274e908-43a0-48b4-8597-8a0ba4d77a7b",
   "metadata": {},
   "outputs": [],
   "source": []
  },
  {
   "cell_type": "code",
   "execution_count": null,
   "id": "2a840d7a-79e2-4fb8-a117-e19482712f03",
   "metadata": {},
   "outputs": [],
   "source": []
  },
  {
   "cell_type": "code",
   "execution_count": null,
   "id": "6d2f0b94-3efd-4812-850d-8b58783c04ec",
   "metadata": {},
   "outputs": [],
   "source": []
  },
  {
   "cell_type": "markdown",
   "id": "69d6a118-e453-4d46-9e9d-567196522834",
   "metadata": {},
   "source": [
    "# Prophet\n",
    "\n",
    "Es un modelo de pronóstico de series de tiempo, diseñado para manejar las características comunes\n",
    "en las series de tiempo implementadas hoy en día. <br>\n",
    "La idea del modelo Prophet es ser accesible y ajustable sin necesitar tener conocimientos de lo que pasa\n",
    "detrás del telón respecto al funcionamiento matemático de la serie de tiempo. <br>\n",
    "Tecnicamente hablando, es una serie de tiempo descompuesta en tres términos:\n",
    "<i>y(t) = g(t)+s(t)+h(t)+et</i>\n",
    "<ul>\n",
    "<li>g(t): trend\n",
    "    <blockquote> \n",
    "        Función de tendencia que modela cambios no-periodicos en los valores de la serie de tiempo.\n",
    "    </blockquote>\n",
    "    </li> \n",
    "<li>s(t): seasonality\n",
    "    <blockquote>   \n",
    "        Función que representa cambios periodicos. \n",
    "    </blockquote>\n",
    "    </li> \n",
    "<li>h(t): holidays\n",
    "    <blockquote>  \n",
    "        Función que representa los efectos de los días de vacaciones/feriados/findes.\n",
    "    </blockquote>\n",
    "    </li>\n",
    "<li>et: Término de error. \n",
    "    <blockquote>  \n",
    "        Representa cualquier cambio idiosincracico (herencia). Se supone normalmente distribuido. \n",
    "    </blockquote>\n",
    "    </li>\n",
    "</ul>"
   ]
  },
  {
   "cell_type": "markdown",
   "id": "1bce5800-7680-4ed7-92d9-3ade71e4cf11",
   "metadata": {},
   "source": [
    "Docs Oficiales (muy utiles): __[PROPHET_DOCS](https://facebook.github.io/prophet/docs/quick_start.html)__<BR>\n",
    "Teoría: __[Forecasting at Scale(pdf)](https://www.kaggle.com/robinteuwens/forecasting-energy-demand/notebook)__ <br>\n",
    "Practica: __[Forecasting con Prophet](https://nextjournal.com/eric-brown/forecasting-with-prophet)__ "
   ]
  },
  {
   "cell_type": "code",
   "execution_count": null,
   "id": "33fda356-03cb-48a3-8dc2-70a9bf35b341",
   "metadata": {},
   "outputs": [],
   "source": [
    "print(train.head())\n",
    "print('\\n')\n",
    "print(test.head())"
   ]
  },
  {
   "cell_type": "code",
   "execution_count": null,
   "id": "aecd1f95-738a-4314-b6fb-ba9dd66fab30",
   "metadata": {},
   "outputs": [],
   "source": [
    "f, ax = plt.subplots(figsize=(14,5))\n",
    "train.plot(kind='line', x='ds', y='y', color='blue', label='Train', ax=ax)\n",
    "test.plot(kind='line', x='ds', y='y', color='red', label='Test', ax=ax)\n",
    "plt.title('Energía demandada: Traning and Test data')\n",
    "plt.show()"
   ]
  },
  {
   "cell_type": "markdown",
   "id": "d5a9715d-123c-4148-80a4-827beb6dbb6d",
   "metadata": {},
   "source": [
    "## Conditional Seasonalities"
   ]
  },
  {
   "cell_type": "markdown",
   "id": "30fcbf01-d595-4741-a402-5f0bd5b42120",
   "metadata": {},
   "source": [
    "__Teoría (fundamentos): ['How does Prophet work?'](https://medium.com/analytics-vidhya/how-does-prophet-work-part-2-c47a6ceac511)__"
   ]
  },
  {
   "cell_type": "markdown",
   "id": "06a680a6-a487-4522-a95f-995b7a09c50d",
   "metadata": {},
   "source": [
    "<blockquote>\n",
    "In some instances the seasonality may depend on other factors, such as a weekly seasonal pattern that is different during the summer than it is during the rest of the year, or a daily seasonal pattern that is different on weekends vs. on weekdays. These types of seasonalities can be modeled using conditional seasonalities.\n",
    "</blockquote>"
   ]
  },
  {
   "cell_type": "code",
   "execution_count": null,
   "id": "8fabbfa3-16fa-4dff-8093-6302f7686a9d",
   "metadata": {},
   "outputs": [],
   "source": [
    "# Del EDA podemos observar que la variación diaria en estaciones es mayor en Verano e Invierno (obviamente). \n",
    "# Destripemos los patrones de los datos para tener en cuenta la interdependencia de estas variables."
   ]
  },
  {
   "cell_type": "code",
   "execution_count": null,
   "id": "448a5b2e-3641-4160-ba7f-c049f144814a",
   "metadata": {},
   "outputs": [],
   "source": [
    "# Condiciones\n",
    "def is_spring(ds): \n",
    "    date = pd.to_datetime(ds)    \n",
    "    return (date.month >= 3) & (date.month <=5)\n",
    "\n",
    "def is_summer(ds): \n",
    "    date = pd.to_datetime(ds)\n",
    "    return (date.month >= 6) & (date.month <=8)\n",
    "\n",
    "def is_autumn(ds): \n",
    "    date = pd.to_datetime(ds)\n",
    "    return (date.month >= 9) & (date.month <=11)\n",
    "\n",
    "# La lógica fallaba, tuve que corregir. \n",
    "def is_winter(ds): \n",
    "    date = pd.to_datetime(ds)\n",
    "    return (date.month == 12) | (date.month <=2)\n",
    "\n",
    "# A esta función la hice de una forma distinta para que ande bien.\n",
    "def is_weekend(ds):     \n",
    "    return ds.dayofweek in (5, 6)"
   ]
  },
  {
   "cell_type": "code",
   "execution_count": null,
   "id": "afc053ae-09ff-4758-b413-0f0c29e100cc",
   "metadata": {},
   "outputs": [],
   "source": [
    "# agregamos al set de entrenamiento\n",
    "train['is_spring'] = train['ds'].apply(is_spring)\n",
    "train['is_summer'] = train['ds'].apply(is_summer)\n",
    "train['is_autumn'] = train['ds'].apply(is_autumn)\n",
    "train['is_winter'] = train['ds'].apply(is_winter)\n",
    "train['is_weekend'] = train['ds'].apply(is_weekend)\n",
    "train['is_weekday'] = ~train['ds'].apply(is_weekend) "
   ]
  },
  {
   "cell_type": "code",
   "execution_count": null,
   "id": "a5e53c73-e90b-4f8b-b837-5730ba670753",
   "metadata": {},
   "outputs": [],
   "source": [
    "# agregamos al set de testeo\n",
    "test['is_spring'] = test['ds'].apply(is_spring)\n",
    "test['is_summer'] = test['ds'].apply(is_summer)\n",
    "test['is_autumn'] = test['ds'].apply(is_autumn)\n",
    "test['is_winter'] = test['ds'].apply(is_winter)\n",
    "test['is_weekend'] = test['ds'].apply(is_weekend)\n",
    "test['is_weekday'] = ~test['ds'].apply(is_weekend)\n",
    "\n",
    "# test_prophet.shape\n",
    "# test_prophet[test_prophet[\"is_weekend\"]][0:100]"
   ]
  },
  {
   "cell_type": "markdown",
   "id": "df92ac00-7564-4cbd-a27b-7d859d8828b4",
   "metadata": {},
   "source": [
    "## Definimos función MAPE: error de porcentaje absoluto medio"
   ]
  },
  {
   "cell_type": "code",
   "execution_count": null,
   "id": "fd888c54-50d2-44a4-b204-4ff8aaefa762",
   "metadata": {},
   "outputs": [],
   "source": [
    "def mape(y_true, y_pred):\n",
    "    \"\"\"Error de porcentaje absoluto medio\"\"\"\n",
    "    \n",
    "    # conversión a vectores numpy\n",
    "    y_true, y_pred = np.array(y_true), np.array(y_pred)\n",
    "    \n",
    "    # Porcentaje de error\n",
    "    pe = (y_true - y_pred) / y_true\n",
    "    \n",
    "    # valor absolutos\n",
    "    ape = np.abs(pe)\n",
    "    \n",
    "    # Cuantificación del rendimiento en un solo nº\n",
    "    mape = np.mean(ape)\n",
    "    \n",
    "    return f'{mape*100:.2f}%'"
   ]
  },
  {
   "cell_type": "markdown",
   "id": "4b79adf1-a58a-4fe5-9e66-13b0e9183737",
   "metadata": {},
   "source": [
    "## Ajustando Hiper-Parámetros del modelo"
   ]
  },
  {
   "cell_type": "markdown",
   "id": "b1db10df-9c41-410a-b017-bb6517cb4d43",
   "metadata": {},
   "source": [
    "__Time-Serie & Hyperparameter: ['Tuning'](https://www.kaggle.com/manovirat/timeseries-using-prophet-hyperparameter-tuning/notebook#HyperParameter-Tuning-using-ParameterGrid)__"
   ]
  },
  {
   "cell_type": "markdown",
   "id": "5526a850-2dfb-4c8f-8576-dc821898aba2",
   "metadata": {},
   "source": [
    "<i>El siguiente bloque de código es para guardar 150 combinaciones posibles:</i><br>\n",
    "\n",
    "```\n",
    "    from sklearn.model_selection import ParameterGrid\n",
    "    params_grid = {'seasonality_mode':('multiplicative','additive'),\n",
    "                   'changepoint_prior_scale':[0.1,0.2,0.3,0.4,0.5],\n",
    "                   'holidays_prior_scale':[0.1,0.2,0.3,0.4,0.5],\n",
    "                   'n_changepoints' : [100,150,200]}\n",
    "\n",
    "    grid = ParameterGrid(params_grid)\n",
    "    print(type(grid))\n",
    "\n",
    "    cnt = 0\n",
    "    for p in grid:\n",
    "        cnt = cnt+1\n",
    "\n",
    "    print('Total de posibles modelos',cnt)\n",
    "```"
   ]
  },
  {
   "cell_type": "code",
   "execution_count": null,
   "id": "e19910ff-f77f-472b-8ba3-633021539627",
   "metadata": {},
   "outputs": [],
   "source": [
    "## AJUSTA LOS VALORES ANTES DE CORRER \n",
    "'''\n",
    "modelo_tuneado = Prophet(growth= 'linear',   \n",
    "                         n_changepoints = 200, \n",
    "                         changepoint_range=0.95, \n",
    "                         yearly_seasonality = False,\n",
    "                         weekly_seasonality=False,\n",
    "                         daily_seasonality = False,                                                 \n",
    "                         seasonality_mode = 'additive',\n",
    "                         seasonality_prior_scale=10.0,     #rango recomendado: 0.01 to 10 \n",
    "                         changepoint_prior_scale = 0.005,  #rango recomendado: 0.001 to 0.5                      \n",
    "                         interval_width=0.8)\n",
    "                         \n",
    "Yearly F: 100 / Weakly F: 15 / Daily F: 7\n",
    "13.52%\n",
    "'''\n",
    "\n",
    "modelo_tuneado = Prophet(n_changepoints = 200, \n",
    "                         changepoint_range=0.98, \n",
    "                         yearly_seasonality = False,\n",
    "                         weekly_seasonality=False,\n",
    "                         daily_seasonality = False,                                                 \n",
    "                         seasonality_mode = 'additive',\n",
    "                         seasonality_prior_scale=0.01,\n",
    "                         changepoint_prior_scale = 0.3)\n",
    "\n",
    "modelo_tuneado.add_seasonality(name='yearly', period=365.25, fourier_order = 15)\n",
    "\n",
    "modelo_tuneado.add_seasonality(name='weekly_spring', \n",
    "                        period=7,\n",
    "                        fourier_order = 5,\n",
    "                        condition_name='is_spring')\n",
    "\n",
    "modelo_tuneado.add_seasonality(name='weekly_summer', \n",
    "                        period=7,\n",
    "                        fourier_order=5,\n",
    "                        condition_name='is_summer')\n",
    "\n",
    "modelo_tuneado.add_seasonality(name='weekly_autumn', \n",
    "                        period=7,\n",
    "                        fourier_order=5,\n",
    "                        condition_name='is_autumn')\n",
    "\n",
    "modelo_tuneado.add_seasonality(name='weekly_winter', \n",
    "                        period=7,\n",
    "                        fourier_order=5,\n",
    "                        condition_name='is_winter')\n",
    "\n",
    "modelo_tuneado.add_seasonality(name='daily_spring',  \n",
    "                        period=1,\n",
    "                        fourier_order=3, \n",
    "                        condition_name='is_spring')\n",
    "\n",
    "modelo_tuneado.add_seasonality(name='daily_summer',  \n",
    "                        period=1,\n",
    "                        fourier_order=3,\n",
    "                        condition_name='is_summer')\n",
    "\n",
    "modelo_tuneado.add_seasonality(name='daily_autumn',  \n",
    "                        period=1,\n",
    "                        fourier_order=3,\n",
    "                        condition_name='is_autumn')\n",
    "\n",
    "modelo_tuneado.add_seasonality(name='daily_winter',  \n",
    "                        period=1,\n",
    "                        fourier_order=3,\n",
    "                        condition_name='is_winter')\n",
    "\n",
    "modelo_tuneado.add_seasonality(name='daily_weekend',  \n",
    "                        period=1,\n",
    "                        fourier_order=3,\n",
    "                        condition_name='is_weekend')\n",
    "\n",
    "modelo_tuneado.add_seasonality(name='daily_weekday',  \n",
    "                        period=1,\n",
    "                        fourier_order=3,\n",
    "                        condition_name='is_weekday')\n",
    "                        \n",
    "# Feriados/días festivos\n",
    "# modelo.add_country_holidays(country_name = 'AR')"
   ]
  },
  {
   "cell_type": "markdown",
   "id": "f56a96bc-ee4d-41df-81b0-e69324dea38d",
   "metadata": {},
   "source": [
    "## Nueva predicción y gráficos"
   ]
  },
  {
   "cell_type": "code",
   "execution_count": null,
   "id": "b08c254d-5e72-492f-a837-a2344aa06e15",
   "metadata": {},
   "outputs": [],
   "source": [
    "# fitting el modelo\n",
    "modelo_tuneado.fit(train)"
   ]
  },
  {
   "cell_type": "code",
   "execution_count": null,
   "id": "1fa11879-99ff-410d-9fc5-1907752d7142",
   "metadata": {},
   "outputs": [],
   "source": [
    "#parte del dataframe en el que queremos hacer la prediccion\n",
    "future = test.drop(['y'], axis=1)\n",
    "# Prediciendo valores\n",
    "tunning_forecast = modelo_tuneado.predict(future)"
   ]
  },
  {
   "cell_type": "code",
   "execution_count": null,
   "id": "ece8b3b4-5f06-42ce-9f4e-4489cfbaabdb",
   "metadata": {},
   "outputs": [],
   "source": [
    "# Gráfica para visualizar los puntos de cambios y la tendencia de la predicción\n",
    "fig = modelo_tuneado.plot(tunning_forecast)\n",
    "a = add_changepoints_to_plot(fig.gca(), modelo_tuneado, tunning_forecast)"
   ]
  },
  {
   "cell_type": "code",
   "execution_count": null,
   "id": "c67067db-918b-406a-b4eb-1a6a20d7696a",
   "metadata": {},
   "outputs": [],
   "source": [
    "#graficando los componentes de Prophet.predict()\n",
    "pd.plotting.register_matplotlib_converters()\n",
    "_ = modelo_tuneado.plot_components(tunning_forecast)"
   ]
  },
  {
   "cell_type": "code",
   "execution_count": null,
   "id": "a7333b68-71e9-4cb8-8837-adf430a56f13",
   "metadata": {},
   "outputs": [],
   "source": [
    "final_df = pd.concat((tunning_forecast['yhat'], test), axis = 1)\n",
    "final_df = final_df[['ds', 'y', 'yhat']]\n",
    "final_df"
   ]
  },
  {
   "cell_type": "markdown",
   "id": "6929d468-001c-4048-9d05-1b910b9b499f",
   "metadata": {},
   "source": [
    "## Cross-Validation"
   ]
  },
  {
   "cell_type": "code",
   "execution_count": null,
   "id": "7eec70c8-8f3b-48db-b42b-281f4910efe8",
   "metadata": {},
   "outputs": [],
   "source": [
    "df_cv_t = cross_validation (modelo_tuneado, horizon = '180 days', period='90 days', initial='365 days')"
   ]
  },
  {
   "cell_type": "code",
   "execution_count": null,
   "id": "7c5e3eb3-cda0-466c-bc10-a40055f4ffec",
   "metadata": {},
   "outputs": [],
   "source": [
    "df_pm_t = performance_metrics(df_cv_t)"
   ]
  },
  {
   "cell_type": "code",
   "execution_count": null,
   "id": "37649e93-c08b-4c5e-831b-8df414f3156a",
   "metadata": {},
   "outputs": [],
   "source": [
    "fig_cv_t = plot_cross_validation_metric(df_cv_t, metric='mape')"
   ]
  },
  {
   "cell_type": "markdown",
   "id": "8cbe793e-b32a-428f-8320-db6a83373b1c",
   "metadata": {},
   "source": [
    "## Graficamos los nuevos resultados obtenidos: Curva de test y de valores predecidos"
   ]
  },
  {
   "cell_type": "code",
   "execution_count": null,
   "id": "401ce0fe-d97c-40ee-a7e2-21f7957c00b2",
   "metadata": {},
   "outputs": [],
   "source": [
    "# create figure\n",
    "fig = go.Figure()\n",
    "fig.add_trace(go.Scatter(x=final_df.ds, y=final_df.y,\n",
    "                         mode='lines',\n",
    "                         name='Test - Ground Truth'))\n",
    "fig.add_trace(go.Scatter(x=final_df.ds, y=final_df.yhat,\n",
    "                         mode='lines', \n",
    "                         name='Test - Prediction'))\n",
    "\n",
    "# adjust layout\n",
    "fig.update_traces(line=dict(width=0.5))\n",
    "fig.update_layout(title='Prophet Forecast of Hourly Energy Demand',\n",
    "                  xaxis_title='Date & Time (yyyy/mm/dd hh:MM)',\n",
    "                  yaxis_title='Energy Demand [MW]')\n",
    "fig.show()\n",
    "\n",
    "# quantify accuracy\n",
    "print(f'MAPE for Prophet\\'s predictions: {mape(final_df.y, final_df.yhat)}')"
   ]
  },
  {
   "cell_type": "markdown",
   "id": "83ce17fd-3f1b-463d-a899-1bd737df74ef",
   "metadata": {},
   "source": [
    "## Visualización de la primer y última semana (test vs previsión)"
   ]
  },
  {
   "cell_type": "code",
   "execution_count": null,
   "id": "9d486221-9af9-4f00-b335-d725a30f57ee",
   "metadata": {},
   "outputs": [],
   "source": [
    "# Longitud de intervalo\n",
    "interval = 672\n",
    "\n",
    "# Necesitamos adaptar al intervalo las variables a usarse, \n",
    "# dado que la predicción se hizo por intervalos de 24*365\n",
    "x_true, y_true = test_prophet.iloc[:interval].ds, test_prophet.iloc[:interval].y\n",
    "x_pred, y_pred = tunning_forecast.iloc[:interval].ds, tunning_forecast.iloc[:interval].yhat\n",
    "\n",
    "# Grafica\n",
    "fig = go.Figure()\n",
    "fig.add_trace(go.Scatter(x=x_true, y=y_true,\n",
    "                         mode = 'lines',\n",
    "                         name = 'Test - Ground Truth'))\n",
    "fig.add_trace(go.Scatter(x=x_pred, y=y_pred,\n",
    "                         mode = 'lines',\n",
    "                         name = 'Test - Prediction'))\n",
    "# Ajustes varios sobre la grafica\n",
    "fig.update_traces(line=dict(width=0.9))\n",
    "fig.update_layout(title='Prophet: Pronóstico de las primeras 168 horas de Demanda',\n",
    "                  xaxis_title='Date & Time (yyyy/mm/dd hh:MM)',\n",
    "                  yaxis_title='Energy Demand [MW]')\n",
    "fig.show()\n",
    "\n",
    "# Eficacia \n",
    "print(f'MAPE para el intervalo en las primeras 168 horas: {mape(y_true, y_pred)}')"
   ]
  },
  {
   "cell_type": "code",
   "execution_count": null,
   "id": "86135821-aa56-46d1-8309-ad31f464ee98",
   "metadata": {},
   "outputs": [],
   "source": [
    "# Longitud de intervalo\n",
    "interval = -672\n",
    "\n",
    "# Necesitamos adaptar al intervalo las variables a usarse, \n",
    "# dado que la predicción se hizo por intervalos de 24*365\n",
    "x_true, y_true = test_prophet.iloc[interval:].ds, test_prophet.iloc[interval:].y\n",
    "x_pred, y_pred = tunning_forecast.iloc[interval:].ds, tunning_forecast.iloc[interval:].yhat\n",
    "\n",
    "# Grafica\n",
    "fig = go.Figure()\n",
    "fig.add_trace(go.Scatter(x=x_true, y=y_true,\n",
    "                         mode = 'lines',\n",
    "                         name = 'Test - Ground Truth'))\n",
    "fig.add_trace(go.Scatter(x=x_pred, y=y_pred,\n",
    "                         mode = 'lines',\n",
    "                         name = 'Test - Prediction'))\n",
    "# Ajustes varios sobre la grafica\n",
    "fig.update_traces(line=dict(width=0.9))\n",
    "fig.update_layout(title='Prophet: Pronóstico de las últimas 168 horas de Demanda',\n",
    "                  xaxis_title='Date & Time (yyyy/mm/dd hh:MM)',\n",
    "                  yaxis_title='Energy Demand [MW]')\n",
    "fig.show()\n",
    "\n",
    "# Eficacia \n",
    "print(f'MAPE para el intervalo en las últimas 168 horas: {mape(y_true, y_pred)}')"
   ]
  },
  {
   "cell_type": "markdown",
   "id": "6e952dff-d06e-4022-95b1-4079826f16ba",
   "metadata": {},
   "source": [
    "## Guardo los datos obtenidos en un archivo .csv"
   ]
  },
  {
   "cell_type": "code",
   "execution_count": null,
   "id": "77a2f12d-e6b1-4b9f-a603-7210c94fecea",
   "metadata": {},
   "outputs": [],
   "source": [
    "# df_y = pd.DataFrame(forecast)\n",
    "# df_y.rename(columns={'ds':'DateTime', 'y':'Demanda en [MW]', 'yhat': 'Demanda pronosticada en [MW]'}, inplace = True)\n",
    "# df_y.set_index('DateTime')"
   ]
  },
  {
   "cell_type": "code",
   "execution_count": null,
   "id": "04b03fcc-be36-435a-8e4e-964db263e25e",
   "metadata": {},
   "outputs": [],
   "source": [
    "# df_y.to_csv('forecasting_prophet.csv', columns=['Demanda pronosticada en [MW]'], encoding='utf-8')"
   ]
  },
  {
   "cell_type": "markdown",
   "id": "b5602829-4edd-443e-8061-0764f7e19dfc",
   "metadata": {},
   "source": [
    "## Pasos a seguir"
   ]
  },
  {
   "cell_type": "code",
   "execution_count": null,
   "id": "fd8957be-eb48-4fde-bafb-2a77003c4aee",
   "metadata": {},
   "outputs": [],
   "source": [
    "# Probar con extensión de tiempo"
   ]
  },
  {
   "cell_type": "code",
   "execution_count": null,
   "id": "2ae90b0c-2732-411c-abb6-78c3a383c307",
   "metadata": {},
   "outputs": [],
   "source": [
    "# Mejorar el seguimiento de la curva de pronostico con la de test para reducir el MAPE. "
   ]
  },
  {
   "cell_type": "code",
   "execution_count": null,
   "id": "1c69a2be-f8fe-46a3-8d56-05dc6649bb51",
   "metadata": {},
   "outputs": [],
   "source": [
    "# Aplicar el modelo a los 4 medidores restantes"
   ]
  }
 ],
 "metadata": {
  "kernelspec": {
   "display_name": "Python 3 (ipykernel)",
   "language": "python",
   "name": "python3"
  },
  "language_info": {
   "codemirror_mode": {
    "name": "ipython",
    "version": 3
   },
   "file_extension": ".py",
   "mimetype": "text/x-python",
   "name": "python",
   "nbconvert_exporter": "python",
   "pygments_lexer": "ipython3",
   "version": "3.7.13"
  },
  "toc-autonumbering": false
 },
 "nbformat": 4,
 "nbformat_minor": 5
}
