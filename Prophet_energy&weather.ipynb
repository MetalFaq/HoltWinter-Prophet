{
 "cells": [
  {
   "cell_type": "markdown",
   "id": "f248c540-0f3b-45f9-bd93-484fb38dd5c3",
   "metadata": {},
   "source": [
    "## Librerias "
   ]
  },
  {
   "cell_type": "code",
   "execution_count": null,
   "id": "bdcce2ca-af65-41de-8732-1e41beacb53b",
   "metadata": {},
   "outputs": [],
   "source": [
    "import numpy as np\n",
    "\n",
    "# Para tratamiento y e/s de datos\n",
    "import pandas as pd\n",
    "\n",
    "# Gráficos de datos\n",
    "import matplotlib.pyplot as plt\n",
    "import plotly.express as px\n",
    "import plotly.graph_objects as go\n",
    "\n",
    "#filtrado para suavizar los datos\n",
    "from scipy.signal import savgol_filter\n",
    "\n",
    "import time"
   ]
  },
  {
   "cell_type": "code",
   "execution_count": null,
   "id": "59a620f0-c390-4e01-8463-4bb63718591c",
   "metadata": {},
   "outputs": [],
   "source": [
    "from fbprophet import Prophet\n",
    "from fbprophet.plot import add_changepoints_to_plot\n",
    "from fbprophet.diagnostics import performance_metrics"
   ]
  },
  {
   "cell_type": "markdown",
   "id": "4ed91adf-dd0e-44bc-a7c7-25df0bc458fb",
   "metadata": {},
   "source": [
    "## Forecasting: Demanda (Prophet) con Clima"
   ]
  },
  {
   "cell_type": "code",
   "execution_count": null,
   "id": "44ba8e0d-bf9e-4345-a603-c3bfecb956e2",
   "metadata": {},
   "outputs": [],
   "source": [
    "# Automatización: Importar los archivos generados por comb_e&w.\n",
    "df = pd.read_csv(r'---INSERTAR ARCHIVO .CSV DE DATOS COMBINADOS---')"
   ]
  },
  {
   "cell_type": "code",
   "execution_count": null,
   "id": "b745272a-67b6-47a6-80ac-67258c9f7bb1",
   "metadata": {},
   "outputs": [],
   "source": [
    "#Convierto a tipo DateTimeIndex la columna \"Datetime\"\n",
    "df['datetime'] = pd.to_datetime(df['datetime'])\n",
    "df.sort_values(by=['datetime'], axis = 0, ascending = True, inplace = True)\n",
    "df.reset_index(inplace = True, drop = True)"
   ]
  },
  {
   "cell_type": "code",
   "execution_count": null,
   "id": "f535c5ae-ff0c-450a-82fa-c91fb64cbacb",
   "metadata": {},
   "outputs": [],
   "source": [
    "print('\\t\\t\\t\\t\\t\\tINFORMACIÓN GENERAL \\n')\n",
    "print(f'{df.info()}\\n')\n",
    "print(\"Variable objetivo: y[kW]\\n\")"
   ]
  },
  {
   "cell_type": "markdown",
   "id": "c0cc6ebb-cf8b-46ae-b9d2-ddb492d1f51e",
   "metadata": {
    "tags": []
   },
   "source": [
    "## Filtron de señal para suavizar puntos de cambios bruscos (vale la pena?)"
   ]
  },
  {
   "cell_type": "code",
   "execution_count": null,
   "id": "30f50d03-8425-4a73-8762-82ea056d0e98",
   "metadata": {},
   "outputs": [],
   "source": [
    "y_filtered = df[['y[kW]']].apply(savgol_filter,  window_length=5, polyorder=3)\n",
    "y_filtered['temp'] = df['temp']\n",
    "y_filtered['datetime'] = df['datetime']\n",
    "y_filtered['datetime'] = pd.to_datetime(y_filtered['datetime'])\n",
    "y_filtered.sort_values(by=['datetime'], axis = 0, ascending = True, inplace = True)\n",
    "y_filtered.reset_index(inplace = True, drop = True)"
   ]
  },
  {
   "cell_type": "code",
   "execution_count": null,
   "id": "7bd87e2d-a34d-4f8d-a688-791a7dce91e4",
   "metadata": {},
   "outputs": [],
   "source": [
    "# create figure\n",
    "fig = go.Figure()\n",
    "fig.add_trace(go.Scatter(x=df.index,y=df['y[kW]'],\n",
    "                         mode='lines',\n",
    "                         name='No Filtrada'))\n",
    "fig.add_trace(go.Scatter(x=y_filtered.index, y=y_filtered['y[kW]'],\n",
    "                         mode='lines', \n",
    "                         name='Filtrada'))\n",
    "\n",
    "# adjust layout\n",
    "fig.update_traces(line=dict(width=0.5))\n",
    "fig.show()"
   ]
  },
  {
   "cell_type": "markdown",
   "id": "c49f91fe-1fbe-4517-82fe-5a3829062c44",
   "metadata": {
    "tags": []
   },
   "source": [
    "## Extraemos características de la variable Tiempo"
   ]
  },
  {
   "cell_type": "markdown",
   "id": "52c97e40-9976-453c-983b-110022723b28",
   "metadata": {},
   "source": [
    "<i>\n",
    "Podemos dividir la columna de Datetime en sus diferentes componentes. <br>\n",
    "Esto nos permite encontrar patrones para diferentes grupos.\n",
    "</i>"
   ]
  },
  {
   "cell_type": "code",
   "execution_count": null,
   "id": "1ac65dd4-2a1a-45db-b8d1-0b2781bc3a2e",
   "metadata": {},
   "outputs": [],
   "source": [
    "df_eda = df.copy()"
   ]
  },
  {
   "cell_type": "code",
   "execution_count": null,
   "id": "e1306235-5ff2-4476-bae7-0122bef4bd40",
   "metadata": {},
   "outputs": [],
   "source": [
    "print(df_eda.head())\n",
    "print('\\n')\n",
    "print(df_eda.info())"
   ]
  },
  {
   "cell_type": "code",
   "execution_count": null,
   "id": "74af7878-c577-49fb-b84d-97c6991b2d13",
   "metadata": {},
   "outputs": [],
   "source": [
    "df_eda['dow'] = df_eda['datetime'].dt.day_of_week\n",
    "df_eda['doy'] = df_eda['datetime'].dt.day_of_year\n",
    "df_eda['year'] = df_eda['datetime'].dt.year\n",
    "df_eda['month'] = df_eda['datetime'].dt.month\n",
    "df_eda['quarter'] = df_eda['datetime'].dt.quarter\n",
    "df_eda['hour'] = df_eda['datetime'].dt.hour\n",
    "df_eda['weekday'] = df_eda['datetime'].dt.day_name()\n",
    "df_eda['woy'] = df_eda['datetime'].dt.isocalendar().week #week of year\n",
    "df_eda['dom'] = df_eda['datetime'].dt.day # Day of Month\n",
    "df_eda['date'] = df_eda['datetime'].dt.date \n",
    "\n",
    "# número de estación del año. El operador aritmético // solo devuelve a parte entera de la división.\n",
    "df_eda['season'] = df_eda['month'].apply(lambda month_number: (month_number%12 + 3)//3) \n",
    "\n",
    "#Plotyle no permite acceso directo a los index del df. ?????\n",
    "df_eda['date_and_time'] = df_eda.index "
   ]
  },
  {
   "cell_type": "code",
   "execution_count": null,
   "id": "c47ec475-d2c1-4957-acb4-8c041b7b2da4",
   "metadata": {},
   "outputs": [],
   "source": [
    "df_eda.head()"
   ]
  },
  {
   "cell_type": "markdown",
   "id": "0cb740df-87b5-4c24-a0f9-975505708bfb",
   "metadata": {
    "tags": []
   },
   "source": [
    "## EDA"
   ]
  },
  {
   "cell_type": "markdown",
   "id": "dd5a8675-133c-41fc-abf5-82e1bbb57d59",
   "metadata": {
    "tags": []
   },
   "source": [
    "### Graficando el consumo de energía a lo largo del tiempo"
   ]
  },
  {
   "cell_type": "code",
   "execution_count": null,
   "id": "214cd085-8109-48b0-ba6c-cf5b5e51e9a9",
   "metadata": {},
   "outputs": [],
   "source": [
    "# create figure\n",
    "fig = go.Figure()\n",
    "fig.add_trace(go.Scatter(x=df_eda.datetime,y=df_eda['y[kW]'],\n",
    "                         mode='lines',\n",
    "                         name='Energia'))\n",
    "\n",
    "# adjust layout\n",
    "fig.update_traces(line=dict(width=1.5))\n",
    "fig.show()"
   ]
  },
  {
   "cell_type": "code",
   "execution_count": null,
   "id": "ba074970-e427-41bc-9674-f4d9052621e8",
   "metadata": {},
   "outputs": [],
   "source": [
    "# create figure\n",
    "fig = go.Figure()\n",
    "fig.add_trace(go.Scatter(x=df_eda.datetime, y=df_eda['temp'],\n",
    "                         mode='lines', \n",
    "                         name='Clima'))\n",
    "\n",
    "# adjust layout\n",
    "fig.update_traces(line=dict(width=1.5))\n",
    "fig.show()"
   ]
  },
  {
   "cell_type": "markdown",
   "id": "63921db0-63bb-4885-9c88-bc0c05e37874",
   "metadata": {
    "tags": []
   },
   "source": [
    "### Patrones de demanda"
   ]
  },
  {
   "cell_type": "code",
   "execution_count": null,
   "id": "e5c1c657-f9ea-4b4c-8fd0-f08b6a2d18d7",
   "metadata": {},
   "outputs": [],
   "source": [
    "#Podemos usar nuestras funciones de fecha y hora extraídas previamente \n",
    "#para ver si surgen patrones recurrentes de los datos agregados. \n",
    "#Tomemos, por ejemplo, la demanda de energía a lo largo del día para cada día de la semana:"
   ]
  },
  {
   "cell_type": "code",
   "execution_count": null,
   "id": "7cdf48a1-6c75-460d-9cfd-3bbbd38e7c46",
   "metadata": {},
   "outputs": [],
   "source": [
    "# Dataframe definido para reflejar el consumo por hora en la semana, usando la mediana de energia. \n",
    "patron_1 = df_eda.groupby(['hour', 'weekday'], as_index=False).agg({'y[kW]':'median'})"
   ]
  },
  {
   "cell_type": "code",
   "execution_count": null,
   "id": "b1cba35c-4163-4245-a6de-e01299c5b11f",
   "metadata": {},
   "outputs": [],
   "source": [
    "# Dataframe definido para reflejar el consumo por hora en la semana, usando la mediana de energia. \n",
    "patron_2 = df_eda.groupby(['hour', 'weekday'], as_index=False).agg({'temp':'median'})"
   ]
  },
  {
   "cell_type": "code",
   "execution_count": null,
   "id": "8e7be76a-59af-4725-90c2-58eed9a267f8",
   "metadata": {},
   "outputs": [],
   "source": [
    "# Dataframe definido para reflejar el consumo por hora en la semana, usando la mediana de energia. \n",
    "patron_3 = df_eda.groupby(['hour', 'season'], as_index=False).agg({'y[kW]':'median'})"
   ]
  },
  {
   "cell_type": "code",
   "execution_count": null,
   "id": "585e0f6a-7893-41eb-ab54-a1e850e6afba",
   "metadata": {},
   "outputs": [],
   "source": [
    "# Dataframe definido para reflejar el consumo por hora en la semana, usando la mediana de energia. \n",
    "patron_4 = df_eda.groupby(['hour', 'season'], as_index=False).agg({'temp':'median'})"
   ]
  },
  {
   "cell_type": "code",
   "execution_count": null,
   "id": "7fc53784-c5bf-4b83-aedc-fb4ec7f658a6",
   "metadata": {},
   "outputs": [],
   "source": [
    "fig = px.line(patron_1, \n",
    "              x = 'hour',\n",
    "              y = 'y[kW]', \n",
    "              color='weekday', \n",
    "              title='Mediana de demanda por hs por día de semana ')\n",
    "\n",
    "fig.update_layout(xaxis_title='hs', yaxis_title='Demanda[kW]')\n",
    "\n",
    "fig.show()"
   ]
  },
  {
   "cell_type": "code",
   "execution_count": null,
   "id": "87461452-44b3-4042-bf07-8923d5991eea",
   "metadata": {},
   "outputs": [],
   "source": [
    "fig_2 = px.line(patron_2, \n",
    "                x = 'hour',\n",
    "                y = 'temp', \n",
    "                color='weekday', \n",
    "                title='Mediana de temperatura por hs por día de semana')\n",
    "\n",
    "fig_2.update_layout(xaxis_title='hs', yaxis_title='T[ªC]')\n",
    "\n",
    "fig_2.show()"
   ]
  },
  {
   "cell_type": "code",
   "execution_count": null,
   "id": "5b437564-d19b-4184-bb9f-71aa763e97a4",
   "metadata": {},
   "outputs": [],
   "source": [
    "fig_3 = px.line(patron_3, \n",
    "                x = 'hour',\n",
    "                y = 'y[kW]', \n",
    "                color='season', \n",
    "                title='Mediana de consumo de energia por hs por estación')\n",
    "\n",
    "fig_3.update_layout(xaxis_title='hs', yaxis_title='Demanda[kW]')\n",
    "\n",
    "fig_3.show()"
   ]
  },
  {
   "cell_type": "code",
   "execution_count": null,
   "id": "eb0f73fa-b5a1-4737-96d7-4e164488623a",
   "metadata": {},
   "outputs": [],
   "source": [
    "fig_4 = px.line(patron_4, \n",
    "                x = 'hour',\n",
    "                y = 'temp', \n",
    "                color='season', \n",
    "                title='Mediana de temperatura por hs por estación')\n",
    "\n",
    "fig_4.update_layout(xaxis_title='hs', yaxis_title='T[ªC]')\n",
    "\n",
    "fig_4.show()"
   ]
  },
  {
   "cell_type": "code",
   "execution_count": null,
   "id": "2cac43a5-2153-4261-809e-8a3000a888f2",
   "metadata": {},
   "outputs": [],
   "source": [
    "df_eda[['month', 'temp']].groupby('month').agg({'temp':{'max', 'min', 'mean'}})"
   ]
  },
  {
   "cell_type": "code",
   "execution_count": null,
   "id": "d3c94826-991a-433a-a90c-cb6d1fc7d418",
   "metadata": {},
   "outputs": [],
   "source": [
    "df_eda[['y[kW]', 'temp']].corr()"
   ]
  },
  {
   "cell_type": "code",
   "execution_count": null,
   "id": "31be755e-1913-4851-b504-656955c191f9",
   "metadata": {},
   "outputs": [],
   "source": [
    "#Correlación del 68%. Bastante alta. "
   ]
  },
  {
   "cell_type": "markdown",
   "id": "ec32e191-6dca-4f2a-9d9b-90fa6283c17a",
   "metadata": {
    "tags": []
   },
   "source": [
    "## Partición de la serie de tiempo"
   ]
  },
  {
   "cell_type": "markdown",
   "id": "87c3f09c-1983-4bd4-b211-fb6e1e7bdaa4",
   "metadata": {
    "tags": []
   },
   "source": [
    "### Opción 1º"
   ]
  },
  {
   "cell_type": "code",
   "execution_count": null,
   "id": "fd132761-de2f-43e1-b90a-11e553bd3c3a",
   "metadata": {},
   "outputs": [],
   "source": [
    "print(f'El primer punto de medicion fecha/hs es: {min(y_filtered.datetime)}')\n",
    "print(f'El último punto de medicion fecha/hs es: {max(y_filtered.datetime)}')"
   ]
  },
  {
   "cell_type": "code",
   "execution_count": null,
   "id": "36c5a26a-75da-41dc-bbbb-df9d95e430d9",
   "metadata": {},
   "outputs": [],
   "source": [
    "train = y_filtered.copy()\n",
    "train.rename({'datetime':'ds','y[kW]':'y'},axis='columns',inplace = True)"
   ]
  },
  {
   "cell_type": "code",
   "execution_count": null,
   "id": "2cf373b5-4fa8-4b61-a507-1bfbcb88b4e1",
   "metadata": {},
   "outputs": [],
   "source": [
    "test = y_filtered.copy()\n",
    "test.drop(['y[kW]'], axis=1, inplace = True)\n",
    "test.rename({'datetime' :'ds'}, axis='columns', inplace = True)"
   ]
  },
  {
   "cell_type": "code",
   "execution_count": null,
   "id": "b6075852-829e-470a-bd46-c5d34aaa8622",
   "metadata": {},
   "outputs": [],
   "source": [
    "print(train.info())\n",
    "print('\\n')\n",
    "print(test.info())"
   ]
  },
  {
   "cell_type": "markdown",
   "id": "8669b43d-8671-4d9d-9c5a-81587b3a670d",
   "metadata": {
    "tags": []
   },
   "source": [
    "### Opcion alternativa para Re-Fitting: Divido los datos en un tiempo siempre constante para generar un pre-ajuste de datos a usar siempre"
   ]
  },
  {
   "cell_type": "code",
   "execution_count": null,
   "id": "a88e70aa-e226-46cd-ba78-9268d7101966",
   "metadata": {},
   "outputs": [],
   "source": [
    "train = y_filtered.copy()\n",
    "train.rename({'datetime':'ds','y[kW]':'y'},axis='columns',inplace = True)"
   ]
  },
  {
   "cell_type": "code",
   "execution_count": null,
   "id": "4b1f871f-416d-4aa8-b657-256529b7a688",
   "metadata": {},
   "outputs": [],
   "source": [
    "recorte = y_filtered['datetime'][35040] #un año\n",
    "first_year = y_filtered[y_filtered['datetime']<=recorte].copy()\n",
    "first_year.rename({'datetime':'ds','y[kW]':'y'},axis='columns',inplace = True)"
   ]
  },
  {
   "cell_type": "code",
   "execution_count": null,
   "id": "561a871b-bf49-4ec7-adfc-0308af42bde9",
   "metadata": {},
   "outputs": [],
   "source": [
    "test = train.copy()\n",
    "test.drop(['y'], axis=1, inplace = True)"
   ]
  },
  {
   "cell_type": "code",
   "execution_count": null,
   "id": "c0908fbd-cec2-4e93-8223-b52d5b6e0f2e",
   "metadata": {},
   "outputs": [],
   "source": [
    "print(train.info())\n",
    "print('\\n')\n",
    "print(test.info())\n",
    "print('\\n')\n",
    "print(first_year.info())"
   ]
  },
  {
   "cell_type": "markdown",
   "id": "69d6a118-e453-4d46-9e9d-567196522834",
   "metadata": {},
   "source": [
    "# Prophet\n",
    "\n",
    "Es un modelo de pronóstico de series de tiempo, diseñado para manejar las características comunes\n",
    "en las series de tiempo implementadas hoy en día. <br>\n",
    "La idea del modelo Prophet es ser accesible y ajustable sin necesitar tener conocimientos de lo que pasa\n",
    "detrás del telón respecto al funcionamiento matemático de la serie de tiempo. <br>\n",
    "Tecnicamente hablando, es una serie de tiempo descompuesta en tres términos:\n",
    "<i>y(t) = g(t)+s(t)+h(t)+et</i>\n",
    "<ul>\n",
    "<li>g(t): trend\n",
    "    <blockquote> \n",
    "        Función de tendencia que modela cambios no-periodicos en los valores de la serie de tiempo.\n",
    "    </blockquote>\n",
    "    </li> \n",
    "<li>s(t): seasonality\n",
    "    <blockquote>   \n",
    "        Función que representa cambios periodicos. \n",
    "    </blockquote>\n",
    "    </li> \n",
    "<li>h(t): holidays\n",
    "    <blockquote>  \n",
    "        Función que representa los efectos de los días de vacaciones/feriados/findes.\n",
    "    </blockquote>\n",
    "    </li>\n",
    "<li>et: Término de error. \n",
    "    <blockquote>  \n",
    "        Representa cualquier cambio idiosincracico (herencia). Se supone normalmente distribuido. \n",
    "    </blockquote>\n",
    "    </li>\n",
    "</ul>"
   ]
  },
  {
   "cell_type": "markdown",
   "id": "1bce5800-7680-4ed7-92d9-3ade71e4cf11",
   "metadata": {},
   "source": [
    "Docs Oficiales (muy utiles): __[PROPHET_DOCS](https://facebook.github.io/prophet/docs/quick_start.html)__<BR>\n",
    "Teoría: __[Forecasting at Scale(pdf)](https://www.kaggle.com/robinteuwens/forecasting-energy-demand/notebook)__ <br>\n",
    "Practica: __[Forecasting con Prophet](https://nextjournal.com/eric-brown/forecasting-with-prophet)__ "
   ]
  },
  {
   "cell_type": "markdown",
   "id": "d5a9715d-123c-4148-80a4-827beb6dbb6d",
   "metadata": {},
   "source": [
    "## Conditional Seasonalities"
   ]
  },
  {
   "cell_type": "markdown",
   "id": "30fcbf01-d595-4741-a402-5f0bd5b42120",
   "metadata": {},
   "source": [
    "__Teoría (fundamentos): ['How does Prophet work?'](https://medium.com/analytics-vidhya/how-does-prophet-work-part-2-c47a6ceac511)__"
   ]
  },
  {
   "cell_type": "markdown",
   "id": "06a680a6-a487-4522-a95f-995b7a09c50d",
   "metadata": {},
   "source": [
    "<blockquote>\n",
    "In some instances the seasonality may depend on other factors, such as a weekly seasonal pattern that is different during the summer than it is during the rest of the year, or a daily seasonal pattern that is different on weekends vs. on weekdays. These types of seasonalities can be modeled using conditional seasonalities.\n",
    "</blockquote>"
   ]
  },
  {
   "cell_type": "markdown",
   "id": "74d667f2-0866-44f4-9608-262eeb354fbb",
   "metadata": {},
   "source": [
    "Del EDA podemos observar que la variación diaria en estaciones es mayor en Verano e Invierno (obviamente). \n",
    "Los patrones de datos tienen dependencia del clima. "
   ]
  },
  {
   "cell_type": "code",
   "execution_count": null,
   "id": "448a5b2e-3641-4160-ba7f-c049f144814a",
   "metadata": {},
   "outputs": [],
   "source": [
    "# Condiciones\n",
    "def is_spring(ds): \n",
    "    date = pd.to_datetime(ds)    \n",
    "    return (date.month >= 3) & (date.month <=5)\n",
    "\n",
    "def is_summer(ds): \n",
    "    date = pd.to_datetime(ds)\n",
    "    return (date.month >= 6) & (date.month <=8)\n",
    "\n",
    "def is_autumn(ds): \n",
    "    date = pd.to_datetime(ds)\n",
    "    return (date.month >= 9) & (date.month <=11)\n",
    "\n",
    "# La lógica fallaba, tuve que corregir. \n",
    "def is_winter(ds): \n",
    "    date = pd.to_datetime(ds)\n",
    "    return (date.month == 12) | (date.month <=2)\n",
    "\n",
    "# A esta función la hice de una forma distinta para que ande bien.\n",
    "def is_weekend(ds):     \n",
    "    return ds.dayofweek in (5, 6)"
   ]
  },
  {
   "cell_type": "code",
   "execution_count": null,
   "id": "afc053ae-09ff-4758-b413-0f0c29e100cc",
   "metadata": {},
   "outputs": [],
   "source": [
    "# agregamos al set de entrenamiento\n",
    "train['is_spring'] = train['ds'].apply(is_spring)\n",
    "train['is_summer'] = train['ds'].apply(is_summer)\n",
    "train['is_autumn'] = train['ds'].apply(is_autumn)\n",
    "train['is_winter'] = train['ds'].apply(is_winter)\n",
    "train['is_weekend'] = train['ds'].apply(is_weekend)\n",
    "train['is_weekday'] = ~train['ds'].apply(is_weekend) "
   ]
  },
  {
   "cell_type": "code",
   "execution_count": null,
   "id": "23b6fd17-a327-4a40-baad-a608dee5e26e",
   "metadata": {},
   "outputs": [],
   "source": [
    "# agregamos al set de entrenamiento\n",
    "test['is_spring'] = test['ds'].apply(is_spring)\n",
    "test['is_summer'] = test['ds'].apply(is_summer)\n",
    "test['is_autumn'] = test['ds'].apply(is_autumn)\n",
    "test['is_winter'] = test['ds'].apply(is_winter)\n",
    "test['is_weekend'] = test['ds'].apply(is_weekend)\n",
    "test['is_weekday'] = ~test['ds'].apply(is_weekend) "
   ]
  },
  {
   "cell_type": "code",
   "execution_count": null,
   "id": "1d3b098b-f1b9-413d-9ec5-15eab447a3d9",
   "metadata": {},
   "outputs": [],
   "source": [
    "# agregamos al set de entrenamiento\n",
    "first_year['is_spring'] = first_year['ds'].apply(is_spring)\n",
    "first_year['is_summer'] = first_year['ds'].apply(is_summer)\n",
    "first_year['is_autumn'] = first_year['ds'].apply(is_autumn)\n",
    "first_year['is_winter'] = first_year['ds'].apply(is_winter)\n",
    "first_year['is_weekend'] = first_year['ds'].apply(is_weekend)\n",
    "first_year['is_weekday'] = ~first_year['ds'].apply(is_weekend) "
   ]
  },
  {
   "cell_type": "markdown",
   "id": "df92ac00-7564-4cbd-a27b-7d859d8828b4",
   "metadata": {
    "tags": []
   },
   "source": [
    "## Definimos función MAPE: error de porcentaje absoluto medio"
   ]
  },
  {
   "cell_type": "code",
   "execution_count": null,
   "id": "fd888c54-50d2-44a4-b204-4ff8aaefa762",
   "metadata": {},
   "outputs": [],
   "source": [
    "def mape(y_true, y_pred):\n",
    "    \"\"\"Error de porcentaje absoluto medio\"\"\"\n",
    "    \n",
    "    # conversión a vectores numpy\n",
    "    y_true, y_pred = np.array(y_true), np.array(y_pred)\n",
    "    \n",
    "    # Porcentaje de error\n",
    "    pe = (y_true - y_pred) / y_true\n",
    "    \n",
    "    # valor absolutos\n",
    "    ape = np.abs(pe)\n",
    "    \n",
    "    # Cuantificación del rendimiento en un solo nº\n",
    "    mape = np.mean(ape)\n",
    "    \n",
    "    return f'{mape*100:.2f}%'"
   ]
  },
  {
   "cell_type": "code",
   "execution_count": null,
   "id": "25818459-20d3-4df8-b223-b4c22476b0b8",
   "metadata": {},
   "outputs": [],
   "source": [
    "modelo = Prophet(\n",
    "                 daily_seasonality = False,\n",
    "                 weekly_seasonality = False,\n",
    "                 yearly_seasonality = False,\n",
    "             \n",
    ")\n",
    "\n",
    "modelo.add_seasonality(name='yearly', period=365.25, fourier_order = 15) #15\n",
    "\n",
    "modelo.add_seasonality(name='weekly_spring', \n",
    "                        period=7,\n",
    "                        fourier_order = 5, #5\n",
    "                        condition_name='is_spring')\n",
    "modelo.add_seasonality(name='weekly_summer', \n",
    "                        period=7,\n",
    "                        fourier_order=5, \n",
    "                        condition_name='is_summer')\n",
    "modelo.add_seasonality(name='weekly_autumn', \n",
    "                        period=7,\n",
    "                        fourier_order=5, \n",
    "                        condition_name='is_autumn')\n",
    "modelo.add_seasonality(name='weekly_winter', \n",
    "                        period=7,\n",
    "                        fourier_order=5, \n",
    "                        condition_name='is_winter')\n",
    "\n",
    "modelo.add_seasonality(name='daily_spring',  \n",
    "                        period=1,\n",
    "                        fourier_order=3, \n",
    "                        condition_name='is_spring')\n",
    "modelo.add_seasonality(name='daily_summer',  \n",
    "                        period=1,\n",
    "                        fourier_order=3, \n",
    "                        condition_name='is_summer')\n",
    "modelo.add_seasonality(name='daily_autumn',  \n",
    "                        period=1,\n",
    "                        fourier_order=3, \n",
    "                        condition_name='is_autumn')\n",
    "modelo.add_seasonality(name='daily_winter',  \n",
    "                        period=1,\n",
    "                        fourier_order=3, \n",
    "                        condition_name='is_winter')\n",
    "modelo.add_seasonality(name='daily_weekend',  \n",
    "                        period=1,\n",
    "                        fourier_order=3, \n",
    "                        condition_name='is_weekend')\n",
    "modelo.add_seasonality(name='daily_weekday',  \n",
    "                        period=1,\n",
    "                        fourier_order=3, \n",
    "                        condition_name='is_weekday')\n",
    "\n",
    "modelo.add_regressor(name = 'temp', standardize = False)\n",
    "                        \n",
    "# Feriados/días festivos\n",
    "# modelo.add_country_holidays(country_name = 'AR')"
   ]
  },
  {
   "cell_type": "code",
   "execution_count": null,
   "id": "7f4b90d7-3c2b-4f39-9128-0a76cb543272",
   "metadata": {},
   "outputs": [],
   "source": [
    "# fitting el modelo\n",
    "modelo.fit(train)"
   ]
  },
  {
   "cell_type": "code",
   "execution_count": null,
   "id": "d2c1282a-f9e0-4951-ab59-d645aef6e79b",
   "metadata": {},
   "outputs": [],
   "source": [
    "# Prediciendo valores\n",
    "forecast = modelo.predict(test)"
   ]
  },
  {
   "cell_type": "code",
   "execution_count": null,
   "id": "5378df01-e647-436b-a773-b29285d4055f",
   "metadata": {},
   "outputs": [],
   "source": [
    "# Gráfica para visualizar los puntos de cambios y la tendencia de la predicción\n",
    "fig = modelo.plot(forecast)\n",
    "a = add_changepoints_to_plot(fig.gca(), modelo, forecast)"
   ]
  },
  {
   "cell_type": "code",
   "execution_count": null,
   "id": "46a88880-2b40-4c4f-b49b-904369312d56",
   "metadata": {},
   "outputs": [],
   "source": [
    "#graficando los componentes de Prophet.predict\n",
    "pd.plotting.register_matplotlib_converters()\n",
    "_ = modelo.plot_components(forecast)"
   ]
  },
  {
   "cell_type": "code",
   "execution_count": null,
   "id": "020a456d-72bb-4bf4-b106-1ce319b547ad",
   "metadata": {},
   "outputs": [],
   "source": [
    "# Concateno los datos pronosticados a futuro con todo los datos ya medidos. \n",
    "test_prophet = y_filtered.copy()\n",
    "final_df = pd.concat((forecast['yhat'], test_prophet), axis = 1)\n",
    "final_df = final_df[['datetime', 'temp', 'y[kW]', 'yhat']]\n",
    "final_df"
   ]
  },
  {
   "cell_type": "code",
   "execution_count": null,
   "id": "3e18856b-2475-4e41-9e45-a00e7e49edbd",
   "metadata": {},
   "outputs": [],
   "source": [
    "# create figure of the complete dataframe\n",
    "fig = go.Figure()\n",
    "fig.add_trace(go.Scatter(x=final_df.ds, y=final_df.y,\n",
    "                         mode='lines',\n",
    "                         name='Test - Ground Truth'))\n",
    "fig.add_trace(go.Scatter(x=final_df.ds, y=final_df.yhat,\n",
    "                         mode='lines', \n",
    "                         name='Test - Prediction'))\n",
    "\n",
    "# adjust layout\n",
    "fig.update_traces(line=dict(width=0.5))\n",
    "fig.update_layout(title='Prophet Forecast of Hourly Energy Demand',\n",
    "                  xaxis_title='Date & Time (yyyy/mm/dd hh:MM)',\n",
    "                  yaxis_title='Energy Demand [MW]')\n",
    "fig.show()\n",
    "\n",
    "# quantify accuracy\n",
    "print(f'MAPE for Prophet\\'s predictions: {mape(final_df.y, final_df.yhat)}')"
   ]
  },
  {
   "cell_type": "markdown",
   "id": "4b79adf1-a58a-4fe5-9e66-13b0e9183737",
   "metadata": {
    "tags": []
   },
   "source": [
    "## Ajustando Hiper-Parámetros del modelo"
   ]
  },
  {
   "cell_type": "markdown",
   "id": "b1db10df-9c41-410a-b017-bb6517cb4d43",
   "metadata": {},
   "source": [
    "__Time-Serie & Hyperparameter: ['Tuning'](https://www.kaggle.com/manovirat/timeseries-using-prophet-hyperparameter-tuning/notebook#HyperParameter-Tuning-using-ParameterGrid)__"
   ]
  },
  {
   "cell_type": "markdown",
   "id": "4c67b2cd-9703-45cc-91b0-356deb44626b",
   "metadata": {
    "tags": []
   },
   "source": [
    "### ParameterGrid"
   ]
  },
  {
   "cell_type": "code",
   "execution_count": null,
   "id": "8ff5cac2-6449-4cd8-8af5-d81852847d40",
   "metadata": {},
   "outputs": [],
   "source": [
    "from sklearn.model_selection import ParameterGrid\n",
    "\n",
    "#ajustar los valores de cada parámetro\n",
    "param_grid = {\n",
    "'holidays_prior_scale' : [0.5, 2, 5, 10],\n",
    "'changepoint_prior_scale': [0.01, 0.1, 0.2, 0.35, 0.5], #[0.005, 0.01, 0.1, 0.2, 0.35, 0.5],\n",
    "'seasonality_prior_scale': [0.005, 0.01, 0.1, 1.0, 3.0, 5.0, 10.0], #[0.005, 0.01, 0.1, 1.0, 3.0, 5.0, 10.0]\n",
    "}\n",
    "\n",
    "all_comb = ParameterGrid(param_grid)\n",
    "rmses = []\n",
    "sum = 0 \n",
    "for p in all_comb:\n",
    "    sum = sum + 1 \n",
    "\n",
    "print(sum)"
   ]
  },
  {
   "cell_type": "code",
   "execution_count": null,
   "id": "485b1d0e-d2c9-464c-89e2-24520190a924",
   "metadata": {},
   "outputs": [],
   "source": [
    "# El siguiente bloque va a durar MUUUUUCHO TIEMPO haciendo ajustes de un modelo por cada combinación posible según se haya configurado la grilla del bloque anterior\n",
    "model_parameters = pd.DataFrame(columns = ['MAPE','Parameters'])\n",
    "for p in all_comb:\n",
    "    # random.seed(0)\n",
    "    comb_model = Prophet(changepoint_prior_scale = p['changepoint_prior_scale'],\n",
    "                         holidays_prior_scale = p['holidays_prior_scale'],\n",
    "                         seasonality_prior_scale = p['seasonality_prior_scale'],\n",
    "                         n_changepoints = 75,\n",
    "                         changepoint_range = 0.99,\n",
    "                         seasonality_mode = 'multiplicative',\n",
    "                         weekly_seasonality=False,\n",
    "                         daily_seasonality = False,\n",
    "                         yearly_seasonality = False,\n",
    "                         growth = 'linear',\n",
    "                         interval_width=0.95)\n",
    "    comb_model.add_seasonality(name='yearly', period=365.25, fourier_order = 15)\n",
    "    comb_model.add_seasonality(name='weekly_spring', \n",
    "                            period=7,\n",
    "                            fourier_order = 5,\n",
    "                            condition_name='is_spring')\n",
    "    comb_model.add_seasonality(name='weekly_summer', \n",
    "                            period=7,\n",
    "                            fourier_order=5,\n",
    "                            condition_name='is_summer')\n",
    "    comb_model.add_seasonality(name='weekly_autumn', \n",
    "                            period=7,\n",
    "                            fourier_order=5,\n",
    "                            condition_name='is_autumn')\n",
    "    comb_model.add_seasonality(name='weekly_winter', \n",
    "                            period=7,\n",
    "                            fourier_order=5,\n",
    "                            condition_name='is_winter')\n",
    "    comb_model.add_seasonality(name='daily_spring',  \n",
    "                            period=1,\n",
    "                            fourier_order=3, \n",
    "                            condition_name='is_spring')\n",
    "    comb_model.add_seasonality(name='daily_summer',  \n",
    "                            period=1,\n",
    "                            fourier_order=3,\n",
    "                            condition_name='is_summer')\n",
    "    comb_model.add_seasonality(name='daily_autumn',  \n",
    "                            period=1,\n",
    "                            fourier_order=5,\n",
    "                            condition_name='is_autumn')\n",
    "    comb_model.add_seasonality(name='daily_winter',  \n",
    "                            period=1,\n",
    "                            fourier_order=3,\n",
    "                            condition_name='is_winter')\n",
    "    comb_model.add_seasonality(name='daily_weekend',  \n",
    "                            period=1,\n",
    "                            fourier_order=3,\n",
    "                            condition_name='is_weekend')\n",
    "    comb_model.add_seasonality(name='daily_weekday',  \n",
    "                            period=1,\n",
    "                            fourier_order=3,\n",
    "                            condition_name='is_weekday')\n",
    "    comb_model.add_regressor(name = 'temp', \n",
    "                                 prior_scale=5,\n",
    "                                 standardize = 'auto')\n",
    "    comb_model.add_country_holidays(country_name='AR')\n",
    "    \n",
    "    comb_model.fit(train)    \n",
    "\n",
    "    forecast = comb_model.predict(test)\n",
    "    forecast_cut = forecast[['ds','yhat']]   \n",
    "   \n",
    "    MAPE = mape(y_filtered['y[kW]'],forecast_cut['yhat'])  \n",
    "    model_parameters = model_parameters.append({'MAPE':MAPE,'Parameters':p},ignore_index=True)  \n",
    "    print(f'Mean Absolute Percentage Error(MAPE)------------------------------------{MAPE}')\n",
    "    print(p)"
   ]
  },
  {
   "cell_type": "code",
   "execution_count": null,
   "id": "15945bdd-c5be-4984-ae05-442b869502f6",
   "metadata": {},
   "outputs": [],
   "source": [
    "# Imprimo el resultado de todas las combinaciones para seleccionar la mejor. Ordenadas por error MAPE\n",
    "# pd.set_option(\"display.max_rows\", None, \"display.max_columns\", None,'display.max_colwidth', -1)\n",
    "parameters = model_parameters.sort_values(by=['MAPE'])\n",
    "parameters = parameters.reset_index(drop=True)\n",
    "parameters.head()"
   ]
  },
  {
   "cell_type": "markdown",
   "id": "bb10662e-f474-4393-9f64-26bd30807fd3",
   "metadata": {},
   "source": [
    "### .fit() con los mejores valores"
   ]
  },
  {
   "cell_type": "code",
   "execution_count": null,
   "id": "e19910ff-f77f-472b-8ba3-633021539627",
   "metadata": {},
   "outputs": [],
   "source": [
    "## AJUSTA LOS VALORES ANTES DE CORRER \n",
    "'''\n",
    "comb_model = Prophet(changepoint_prior_scale = p['changepoint_prior_scale'],\n",
    "                     holidays_prior_scale = p['holidays_prior_scale'],\n",
    "                     seasonality_prior_scale = p['seasonality_prior_scale'],\n",
    "                     n_changepoints = 75,\n",
    "                     changepoint_range = 0.99,\n",
    "                     seasonality_mode = 'multiplicative',\n",
    "                     weekly_seasonality=False,\n",
    "                     daily_seasonality = False,\n",
    "                     yearly_seasonality = False,\n",
    "                     growth = 'linear',\n",
    "                     interval_width=0.95)\n",
    "\n",
    "MAPE\tParameters\n",
    "0\t13.16%\t{'changepoint_prior_scale': 0.35, 'holidays_prior_scale': 5, 'seasonality_prior_scale': 0.01} --- The One!\n",
    "1\t13.16%\t{'changepoint_prior_scale': 0.2, 'holidays_prior_scale': 5, 'seasonality_prior_scale': 0.01}\n",
    "2\t13.16%\t{'changepoint_prior_scale': 0.5, 'holidays_prior_scale': 5, 'seasonality_prior_scale': 0.01}\n",
    "3\t13.20%\t{'changepoint_prior_scale': 0.35, 'holidays_prior_scale': 0.5, 'seasonality_prior_scale': 0.01}\n",
    "4\t13.24%\t{'changepoint_prior_scale': 0.5, 'holidays_prior_scale': 0.5, 'seasonality_prior_scale': 0.01}\n",
    "\n",
    "'''\n",
    "\n",
    "'''\n",
    "modelo_tuneado = Prophet(growth= 'linear',   \n",
    "                         n_changepoints = 75, \n",
    "                         changepoint_range=0.90, \n",
    "                         yearly_seasonality = False,\n",
    "                         weekly_seasonality=False,\n",
    "                         daily_seasonality = False,                                                 \n",
    "                         seasonality_mode = 'multiplicative',\n",
    "                         seasonality_prior_scale=0.01,     #rango recomendado: 0.01 to 10 \n",
    "                         holidays_prior_scale=5,           #rango recomendado: * to 10\n",
    "                         changepoint_prior_scale = 0.35,    #rango recomendado: 0.001 to 0.5                      \n",
    "                         )\n",
    "                         \n",
    "Yearly F: 15 / Weakly F: 5 / Daily F: 3\n",
    "9.91%  \n",
    "'''\n",
    "modelo_inicial = Prophet(growth= 'linear',   \n",
    "                         n_changepoints = 75, \n",
    "                         changepoint_range=0.90, \n",
    "                         yearly_seasonality = True,\n",
    "                         weekly_seasonality=False,\n",
    "                         daily_seasonality = False,                                                 \n",
    "                         seasonality_mode = 'multiplicative',\n",
    "                         seasonality_prior_scale=0.01,     #rango recomendado: 0.01 to 10 \n",
    "                         holidays_prior_scale=5,           #rango recomendado: * to 10\n",
    "                         changepoint_prior_scale = 0.35,    #rango recomendado: 0.001 to 0.5                      \n",
    "                         )\n",
    "\n",
    "# modelo_tuneado.add_seasonality(name='yearly', period=365.25, fourier_order = 15)\n",
    "\n",
    "modelo_inicial.add_seasonality(name='weekly_spring', \n",
    "                        period=7,\n",
    "                        fourier_order = 5,\n",
    "                        condition_name='is_spring')\n",
    "modelo_inicial.add_seasonality(name='weekly_summer', \n",
    "                        period=7,\n",
    "                        fourier_order=5,\n",
    "                        condition_name='is_summer')\n",
    "modelo_inicial.add_seasonality(name='weekly_autumn', \n",
    "                        period=7,\n",
    "                        fourier_order=5,\n",
    "                        condition_name='is_autumn')\n",
    "modelo_inicial.add_seasonality(name='weekly_winter', \n",
    "                        period=7,\n",
    "                        fourier_order=5,\n",
    "                        condition_name='is_winter')\n",
    "\n",
    "modelo_inicial.add_seasonality(name='daily_spring',  \n",
    "                        period=1,\n",
    "                        fourier_order=3, \n",
    "                        condition_name='is_spring')\n",
    "modelo_inicial.add_seasonality(name='daily_summer',  \n",
    "                        period=1,\n",
    "                        fourier_order=3,\n",
    "                        condition_name='is_summer')\n",
    "modelo_inicial.add_seasonality(name='daily_autumn',  \n",
    "                        period=1,\n",
    "                        fourier_order=5,\n",
    "                        condition_name='is_autumn')\n",
    "modelo_inicial.add_seasonality(name='daily_winter',  \n",
    "                        period=1,\n",
    "                        fourier_order=3,\n",
    "                        condition_name='is_winter')\n",
    "modelo_inicial.add_seasonality(name='daily_weekend',  \n",
    "                        period=1,\n",
    "                        fourier_order=3,\n",
    "                        condition_name='is_weekend')\n",
    "modelo_inicial.add_seasonality(name='daily_weekday',  \n",
    "                        period=1,\n",
    "                        fourier_order=3,\n",
    "                        condition_name='is_weekday')\n",
    "                        \n",
    "modelo_inicial.add_regressor(name = 'temp', \n",
    "                             prior_scale=5,\n",
    "                             standardize = 'auto')\n",
    "\n",
    "# Feriados/días festivos\n",
    "modelo_inicial.add_country_holidays(country_name = 'AR')"
   ]
  },
  {
   "cell_type": "code",
   "execution_count": null,
   "id": "a10759c7-68de-4d8f-8c50-aacbf252f663",
   "metadata": {},
   "outputs": [],
   "source": [
    "'''\n",
    "NO EJECUTAR\n",
    "'''\n",
    "print(modelo_inicial.seasonalities.values())\n",
    "print('\\n')\n",
    "for props in modelo_inicial.seasonalities.values():\n",
    "    print(props['condition_name'])"
   ]
  },
  {
   "cell_type": "code",
   "execution_count": null,
   "id": "b08c254d-5e72-492f-a837-a2344aa06e15",
   "metadata": {},
   "outputs": [],
   "source": [
    "# fitting el modelo\n",
    "start_1 = time.time()\n",
    "modelo_inicial.fit(first_year)\n",
    "end_1 = time.time() - start_1"
   ]
  },
  {
   "cell_type": "code",
   "execution_count": null,
   "id": "0bb024bc-37f3-4fdb-9a26-d6da24dee818",
   "metadata": {},
   "outputs": [],
   "source": [
    "print(end_1)"
   ]
  },
  {
   "cell_type": "code",
   "execution_count": null,
   "id": "c67067db-918b-406a-b4eb-1a6a20d7696a",
   "metadata": {},
   "outputs": [],
   "source": [
    "'''\n",
    "NO EJECUTAR\n",
    "'''\n",
    "#graficando los componentes de Prophet.predict()\n",
    "pd.plotting.register_matplotlib_converters()\n",
    "_ = modelo_inicial.plot_components(forecast)"
   ]
  },
  {
   "cell_type": "markdown",
   "id": "6c978af7-9a0d-42ad-8ea3-2c693d725535",
   "metadata": {},
   "source": [
    "### Re-fitting"
   ]
  },
  {
   "cell_type": "code",
   "execution_count": null,
   "id": "5831633f-b30e-4032-886d-007581c8fa4c",
   "metadata": {},
   "outputs": [],
   "source": [
    "De los datos bajados desde la API, debo:\n",
    "    * dividirlos por año para un modelo \"m1\"\n",
    "    * usar todo el set de datos para el modelo \"m2\" usando los parametros de ajuste del modelo \"m1\""
   ]
  },
  {
   "cell_type": "code",
   "execution_count": null,
   "id": "47146a49-3c44-4391-bdb1-9dad41ed4b27",
   "metadata": {},
   "outputs": [],
   "source": [
    "res = {}\n",
    "for pname in ['k', 'm', 'sigma_obs']:\n",
    "    res[pname] = modelo_inicial.params[pname][0][0]\n",
    "for pname in ['delta', 'beta']:\n",
    "    res[pname] = modelo_inicial.params[pname][0]"
   ]
  },
  {
   "cell_type": "code",
   "execution_count": null,
   "id": "1dcacd0a-e12f-41ae-8246-18a2f698712b",
   "metadata": {},
   "outputs": [],
   "source": [
    "# '''\n",
    "# NO EJECUTAR!\n",
    "# '''\n",
    "mod_final = Prophet(growth= 'linear',   \n",
    "             n_changepoints = 75, \n",
    "             changepoint_range=0.90, \n",
    "             yearly_seasonality = True,\n",
    "             weekly_seasonality=False,\n",
    "             daily_seasonality = False,                                                 \n",
    "             seasonality_mode = 'multiplicative',\n",
    "             seasonality_prior_scale=0.005,     #rango recomendado: 0.01 to 10 \n",
    "             holidays_prior_scale=5,           #rango recomendado: * to 10\n",
    "             changepoint_prior_scale = 0.35,    #rango recomendado: 0.001 to 0.5                      \n",
    "             )\n",
    "\n",
    "# modelo_tuneado.add_seasonality(name='yearly', period=365.25, fourier_order = 15)\n",
    "\n",
    "mod_final.add_seasonality(name='weekly_spring', \n",
    "                        period=7,\n",
    "                        fourier_order = 5,\n",
    "                        condition_name='is_spring')\n",
    "mod_final.add_seasonality(name='weekly_summer', \n",
    "                        period=7,\n",
    "                        fourier_order=5,\n",
    "                        condition_name='is_summer')\n",
    "mod_final.add_seasonality(name='weekly_autumn', \n",
    "                        period=7,\n",
    "                        fourier_order=5,\n",
    "                        condition_name='is_autumn')\n",
    "mod_final.add_seasonality(name='weekly_winter', \n",
    "                        period=7,\n",
    "                        fourier_order=5,\n",
    "                        condition_name='is_winter')\n",
    "\n",
    "mod_final.add_seasonality(name='daily_spring',  \n",
    "                        period=1,\n",
    "                        fourier_order=3, \n",
    "                        condition_name='is_spring')\n",
    "mod_final.add_seasonality(name='daily_summer',  \n",
    "                        period=1,\n",
    "                        fourier_order=3,\n",
    "                        condition_name='is_summer')\n",
    "mod_final.add_seasonality(name='daily_autumn',  \n",
    "                        period=1,\n",
    "                        fourier_order=5,\n",
    "                        condition_name='is_autumn')\n",
    "mod_final.add_seasonality(name='daily_winter',  \n",
    "                        period=1,\n",
    "                        fourier_order=3,\n",
    "                        condition_name='is_winter')\n",
    "mod_final.add_seasonality(name='daily_weekend',  \n",
    "                        period=1,\n",
    "                        fourier_order=3,\n",
    "                        condition_name='is_weekend')\n",
    "mod_final.add_seasonality(name='daily_weekday',  \n",
    "                        period=1,\n",
    "                        fourier_order=3,\n",
    "                        condition_name='is_weekday')\n",
    "                        \n",
    "mod_final.add_regressor(name = 'temp', \n",
    "                         prior_scale=5,\n",
    "                         standardize = 'auto')\n",
    "\n",
    "# Feriados/días festivos\n",
    "mod_final.add_country_holidays(country_name = 'AR')"
   ]
  },
  {
   "cell_type": "code",
   "execution_count": null,
   "id": "3900dce4-bf0c-4a02-b6f2-93c2e15c41e2",
   "metadata": {},
   "outputs": [],
   "source": [
    "start_2 = time.time()\n",
    "mod_final.fit(train, init=res) # Adding the new data, warm-starting from modelo_tuneado\n",
    "end_2 = time.time() - start_2"
   ]
  },
  {
   "cell_type": "code",
   "execution_count": null,
   "id": "9fe36212-6ac4-4e9c-94c0-4df5060b1779",
   "metadata": {},
   "outputs": [],
   "source": [
    "print(end_2)"
   ]
  },
  {
   "cell_type": "code",
   "execution_count": null,
   "id": "ff7ac9b7-37be-4641-bc6a-9a387db55632",
   "metadata": {},
   "outputs": [],
   "source": [
    "# Prediciendo valores\n",
    "forecast = mod_final.predict(test)"
   ]
  },
  {
   "cell_type": "code",
   "execution_count": null,
   "id": "ece8b3b4-5f06-42ce-9f4e-4489cfbaabdb",
   "metadata": {},
   "outputs": [],
   "source": [
    "# Gráfica para visualizar los puntos de cambios y la tendencia de la predicción\n",
    "fig = mod_final.plot(forecast)\n",
    "a = add_changepoints_to_plot(fig.gca(), mod_final, forecast)"
   ]
  },
  {
   "cell_type": "markdown",
   "id": "f9e12092-23b7-4eeb-afa7-2dfcb1713d31",
   "metadata": {},
   "source": [
    "### Set de datos final"
   ]
  },
  {
   "cell_type": "code",
   "execution_count": null,
   "id": "494b0f37-02c6-438f-9450-fdf3720b1d23",
   "metadata": {},
   "outputs": [],
   "source": [
    "test_prophet = y_filtered.copy()\n",
    "final_df = pd.concat((forecast['yhat'], test_prophet), axis = 1)\n",
    "final_df = final_df[['datetime', 'temp', 'y[kW]', 'yhat']]"
   ]
  },
  {
   "cell_type": "code",
   "execution_count": null,
   "id": "6428e393-aa14-4e9c-a28d-f7008158330d",
   "metadata": {},
   "outputs": [],
   "source": [
    "'''\n",
    "NO EJECUTAR \n",
    "'''\n",
    "# test_prophet = y_filtered[y_filtered['datetime']>start].copy()\n",
    "# test_prophet.reset_index(inplace = True, drop = True)\n",
    "# final_df = pd.concat((forecast_tunning['yhat'], test_prophet), axis = 1)\n",
    "# final_df = final_df[['datetime', 'temp', 'y[kW]', 'yhat']]"
   ]
  },
  {
   "cell_type": "markdown",
   "id": "8cbe793e-b32a-428f-8320-db6a83373b1c",
   "metadata": {},
   "source": [
    "## Graficamos los nuevos resultados obtenidos: Curva de test y de valores predecidos"
   ]
  },
  {
   "cell_type": "code",
   "execution_count": null,
   "id": "401ce0fe-d97c-40ee-a7e2-21f7957c00b2",
   "metadata": {},
   "outputs": [],
   "source": [
    "# create figure\n",
    "fig = go.Figure()\n",
    "fig.add_trace(go.Scatter(x=final_df.datetime, y=final_df['y[kW]'],\n",
    "                         mode='lines',\n",
    "                         name='Test - Ground Truth'))\n",
    "fig.add_trace(go.Scatter(x=final_df.datetime, y=final_df.yhat,\n",
    "                         mode='lines', \n",
    "                         name='Test - Prediction'))\n",
    "\n",
    "# adjust layout\n",
    "fig.update_traces(line=dict(width=0.5))\n",
    "fig.update_layout(title='Prophet Forecast of Hourly Energy Demand',\n",
    "                  xaxis_title='Date & Time',\n",
    "                  yaxis_title='Demand [MW]')\n",
    "fig.show()"
   ]
  },
  {
   "cell_type": "code",
   "execution_count": null,
   "id": "adc86819-ce64-48b4-b60f-9ddcfe240bf5",
   "metadata": {},
   "outputs": [],
   "source": [
    "# quantify accuracy\n",
    "x = final_df['y[kW]']\n",
    "y = final_df['yhat']\n",
    "print(f'MAPE for Prophet\\'s predictions: {mape(x,y)}')"
   ]
  },
  {
   "cell_type": "markdown",
   "id": "13914623-5fc5-423d-9ccc-045a01105321",
   "metadata": {},
   "source": [
    "## Guardo los datos obtenidos en un archivo .csv"
   ]
  },
  {
   "cell_type": "code",
   "execution_count": null,
   "id": "77a2f12d-e6b1-4b9f-a603-7210c94fecea",
   "metadata": {},
   "outputs": [],
   "source": [
    "df_y = pd.DataFrame(final_df)\n",
    "df_y.rename(columns={'ds':'datetime', 'y':'Demanda en [kW]', 'yhat': 'Demanda proyectada'}, inplace = True)\n",
    "df_y.to_csv('---ARCHIVO FINAL .CSV CON DATOS PRONOSTICADOS---', index = False, encoding='utf-8')"
   ]
  },
  {
   "cell_type": "code",
   "execution_count": null,
   "id": "b735fb80-2c3b-4825-bef9-c027451a2b5a",
   "metadata": {},
   "outputs": [],
   "source": []
  }
 ],
 "metadata": {
  "kernelspec": {
   "display_name": "Python 3 (ipykernel)",
   "language": "python",
   "name": "python3"
  },
  "language_info": {
   "codemirror_mode": {
    "name": "ipython",
    "version": 3
   },
   "file_extension": ".py",
   "mimetype": "text/x-python",
   "name": "python",
   "nbconvert_exporter": "python",
   "pygments_lexer": "ipython3",
   "version": "3.7.13"
  },
  "toc-autonumbering": false
 },
 "nbformat": 4,
 "nbformat_minor": 5
}
