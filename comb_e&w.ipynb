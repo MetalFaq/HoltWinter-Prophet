{
 "cells": [
  {
   "cell_type": "markdown",
   "id": "5ec35d84-a47c-4156-b48d-ae227d4f4575",
   "metadata": {},
   "source": [
    "# Combinación Demanda y Clima"
   ]
  },
  {
   "cell_type": "code",
   "execution_count": null,
   "id": "9c268d76-c1d9-46fd-bb6d-98ed05d4adaf",
   "metadata": {},
   "outputs": [],
   "source": [
    "import pandas as pd\n",
    "import numpy as np\n",
    "from datetime import datetime, timedelta\n",
    "\n",
    "# Gráficos de datos\n",
    "import matplotlib.pyplot as plt\n",
    "import plotly.express as px\n",
    "import plotly.graph_objects as go"
   ]
  },
  {
   "cell_type": "markdown",
   "id": "3eb75dc7-5be1-4d6b-beda-82dd95c6c9c2",
   "metadata": {},
   "source": [
    "## Lectura y configuración del clima"
   ]
  },
  {
   "cell_type": "code",
   "execution_count": null,
   "id": "251bc90d-c005-468b-88fd-7d4236604583",
   "metadata": {},
   "outputs": [],
   "source": [
    "# Automatización: el usuario ingresa la dirección del archivo con los datos de la temperatura\n",
    "weather = pd.read_csv(r'---INSERTAR .CSV DE LOS DATOS DE CLIMA DE UN MEDIDOR---', parse_dates = True)\n",
    "print(f'Cantidad de datos: {weather.shape[0]}')\n",
    "print('\\n')\n",
    "print(weather.head(10))"
   ]
  },
  {
   "cell_type": "code",
   "execution_count": null,
   "id": "d3a89e04-01e6-4920-bfbc-2325c72a3560",
   "metadata": {},
   "outputs": [],
   "source": [
    "weather.rename(columns = {'horaLocalidad':'datetime'}, inplace = True)\n",
    "# La columna 'datetima' es configurada como objeto de tiempo y sus segundos llevados a cero\n",
    "weather['datetime'] = pd.to_datetime(weather['datetime'])\n",
    "weather['datetime'] = weather['datetime'].dt.round('min')\n",
    "weather.sort_values(by=['datetime'], axis = 0, ascending = True, inplace = True)\n",
    "weather.reset_index(inplace = True, drop = True)"
   ]
  },
  {
   "cell_type": "code",
   "execution_count": null,
   "id": "997982b3-bf40-4879-b7bf-5fb2131d86b0",
   "metadata": {},
   "outputs": [],
   "source": [
    "# Función para redondear los minutos a multiplos de 15\n",
    "def round_minutes(dt, resolution):\n",
    "    new_minute = (dt.minute // resolution + 1) * resolution\n",
    "    return dt + timedelta(minutes=new_minute - dt.minute)"
   ]
  },
  {
   "cell_type": "code",
   "execution_count": null,
   "id": "515c07b1-eb3f-408f-a037-ed9684b87df9",
   "metadata": {},
   "outputs": [],
   "source": [
    "lista = []\n",
    "\n",
    "for date in weather['datetime']:    \n",
    "    resolusion = round_minutes(date , 15)\n",
    "    # date = date.replace(resolusion)\n",
    "    lista.append(resolusion)\n",
    "    # print(f'{fecha} con una resolusión de 15min es redondeada a: {resolusion}')\n",
    "    \n",
    "# print(len(lista))\n",
    "weather['new_datetime'] = lista\n",
    "weather.drop(columns='datetime', inplace=True)\n",
    "# De datos duplicados, solo se mantiene la medición más reciente. \n",
    "weather.drop_duplicates(subset = 'new_datetime', keep = 'last', inplace = True)\n",
    "weather.rename(columns = {'new_datetime':'datetime'}, inplace = True)\n",
    "weather = weather.set_index('datetime')"
   ]
  },
  {
   "cell_type": "code",
   "execution_count": null,
   "id": "28739e60-dd9f-487a-b8e2-e56bdd0768d8",
   "metadata": {},
   "outputs": [],
   "source": [
    "print(weather.info())\n",
    "print('\\n')\n",
    "print(weather.index.min())\n",
    "print(weather.index.max())"
   ]
  },
  {
   "cell_type": "code",
   "execution_count": null,
   "id": "9eefdcae-29b4-4c90-986e-6723b5812fa1",
   "metadata": {},
   "outputs": [],
   "source": [
    "# Datos sin filtrar\n",
    "fig = go.Figure()\n",
    "fig.add_trace(go.Scatter(x=weather_data.index, y=weather_data['temp'],\n",
    "                         mode='lines',\n",
    "                         name='Clima'))\n",
    "\n",
    "# adjust layout\n",
    "fig.update_traces(line=dict(width=0.75))\n",
    "fig.show()"
   ]
  },
  {
   "cell_type": "markdown",
   "id": "748b5a28-dc1d-4b56-8ce1-3f3258bf6e19",
   "metadata": {},
   "source": [
    "## Lectura y configuración de la demanda"
   ]
  },
  {
   "cell_type": "code",
   "execution_count": null,
   "id": "196b5d0a-c15e-4a70-8581-07f406a903a4",
   "metadata": {},
   "outputs": [],
   "source": [
    "# Automatizacion: El usuario inserta la dirección del archivo con los datos de demanda\n",
    "demand = pd.read_csv(r'---INSERTAR .CSV DE LOS DATOS DE DEMANDA DE UN MEDIDOR---')\n",
    "print(f'Cantidad de datos: {demand.shape[0]}')\n",
    "print('\\n')\n",
    "print(demand.head(10))"
   ]
  },
  {
   "cell_type": "code",
   "execution_count": null,
   "id": "5259c2d1-acbb-41a6-8bf8-b5492a154bca",
   "metadata": {},
   "outputs": [],
   "source": [
    "demand.drop(columns = 'terminal', inplace = True)\n",
    "demand.rename(columns = {'fechahora' : 'datetime', 'demanda_activa' : 'y[kW]' }, inplace = True)"
   ]
  },
  {
   "cell_type": "code",
   "execution_count": null,
   "id": "067528fc-670f-42e8-adbc-162ffb1126d4",
   "metadata": {},
   "outputs": [],
   "source": [
    "#Convierto a tipo DateTimeIndex la columna \"Datetime\"\n",
    "demand['datetime'] = pd.to_datetime(demand['datetime'])\n",
    "demand.sort_values(by=['datetime'], axis = 0, ascending = True, inplace = True)\n",
    "demand.reset_index(inplace = True, drop = True)"
   ]
  },
  {
   "cell_type": "code",
   "execution_count": null,
   "id": "86cb6659-99c1-4909-b1ed-a3cf1a410bad",
   "metadata": {},
   "outputs": [],
   "source": [
    "# De datos duplicados, solo se mantiene la medición más reciente. \n",
    "demand.drop_duplicates(subset = 'datetime', keep = 'last', inplace = True)\n",
    "demand.set_index('datetime', inplace = True)"
   ]
  },
  {
   "cell_type": "code",
   "execution_count": null,
   "id": "2288b917-e894-4a4a-a5d3-d0c34b3ba529",
   "metadata": {},
   "outputs": [],
   "source": [
    "# Fecha de inicio coincidente con la del clima (recorte de datos en demanda)\n",
    "demand = demand.loc['2021-04-12 08:45:00':]"
   ]
  },
  {
   "cell_type": "code",
   "execution_count": null,
   "id": "68ec2d44-abfd-4e44-b4f1-1e68c447f350",
   "metadata": {},
   "outputs": [],
   "source": [
    "print(demand.info())\n",
    "print('\\n')\n",
    "print(min(demand.index))\n",
    "print(max(demand.index))"
   ]
  },
  {
   "cell_type": "code",
   "execution_count": null,
   "id": "07075941-0be8-4a55-89b4-ba10cc63d354",
   "metadata": {},
   "outputs": [],
   "source": [
    "# Datos sin filtrar\n",
    "fig = go.Figure()\n",
    "fig.add_trace(go.Scatter(x=demand.index, y=demand['y[kW]'],\n",
    "                         mode='lines',\n",
    "                         name='Energía'))\n",
    "\n",
    "# adjust layout\n",
    "fig.update_traces(line=dict(width=0.5))\n",
    "fig.show()"
   ]
  },
  {
   "cell_type": "markdown",
   "id": "20138599-5086-4b02-bd40-b709515ef70a",
   "metadata": {},
   "source": [
    "## Combinando ambos datos"
   ]
  },
  {
   "cell_type": "code",
   "execution_count": null,
   "id": "70e88e99-9ef5-4462-963e-60864f110075",
   "metadata": {},
   "outputs": [],
   "source": [
    "comb = weather.copy()\n",
    "# Combino los datos agregando la columna de temperatura a 'data_comb'\n",
    "comb['y[kW]'] = demand['y[kW]']\n",
    "comb = comb[['y[kW]', 'temp']]"
   ]
  },
  {
   "cell_type": "code",
   "execution_count": null,
   "id": "bfadac17-ef58-406d-afa2-44b904957672",
   "metadata": {},
   "outputs": [],
   "source": [
    "comb.head()"
   ]
  },
  {
   "cell_type": "code",
   "execution_count": null,
   "id": "50036d4d-28be-4959-a624-6a66cdd36998",
   "metadata": {},
   "outputs": [],
   "source": [
    "# Debido a la unión, muy probablemente existan datos NaN en alguna (o ambas) de las columnas. \n",
    "print(comb['temp'].isna().sum())\n",
    "print(comb['y[kW]'].isna().sum())"
   ]
  },
  {
   "cell_type": "code",
   "execution_count": null,
   "id": "7ca2b51a-51e8-4d88-9943-fbf7e773d0e6",
   "metadata": {},
   "outputs": [],
   "source": [
    "print(f'Verificación de la frecuencia de los datos: {comb.index.freq}')\n",
    "print('En caso de no tener frecuencia, se establece la de 15MIN')"
   ]
  },
  {
   "cell_type": "code",
   "execution_count": null,
   "id": "0e0c382b-1c71-4ca5-b2b2-8b19d8279e3d",
   "metadata": {},
   "outputs": [],
   "source": [
    "# Custom range\n",
    "data_range = pd.date_range(start = min(comb.index),\n",
    "                          end = max(comb.index),\n",
    "                          freq = '15min') \n",
    "data_range\n",
    "#freq = '15min' indica frecuencia por hora.\n",
    "#Explicación: genero un dataframe con una frecuencia horaria desde el valor minimo al máximo del index (tipo datetime)\n",
    "#del dataframe original. \n",
    "#Con esto lo que obtengo es una serie de fechas completa. \n",
    "#Al hacer mas adelante la diferencia entre ambos dataframe, voy a obtener los \"días perdidos\" del dataframe original. \n",
    "# https://pandas.pydata.org/docs/user_guide/timeseries.html#timeseries-offset-aliases"
   ]
  },
  {
   "cell_type": "code",
   "execution_count": null,
   "id": "142c7c38-b28f-45e9-9b59-483f2fe0bfae",
   "metadata": {},
   "outputs": [],
   "source": [
    "#la diferencia entre ambos df indica la cantidad de valores perdidos en el df_original\n",
    "print(f'La diferencia de longitud entre el rango customizado de datos y nuestro dataset es {(len(data_range)-len(comb))}')"
   ]
  },
  {
   "cell_type": "code",
   "execution_count": null,
   "id": "c6cbd47b-bdc7-46e4-a591-836ecff63b15",
   "metadata": {},
   "outputs": [],
   "source": [
    "#Imprimo las fechas que faltan\n",
    "print(data_range.difference(comb.index))"
   ]
  },
  {
   "cell_type": "code",
   "execution_count": null,
   "id": "413299b8-c54d-4d3f-b0d1-a2ec30002361",
   "metadata": {},
   "outputs": [],
   "source": [
    "# El siguiente comando adjunta los datos \"datetime\" perdidos (missing) al dataset original\n",
    "# pero va a generar valores NaN para la variable Target (y[kW])\n",
    "comb = comb.reindex(data_range)\n",
    "\n",
    "print(f'La frecuencia de los datos es: {comb.index.freq}')"
   ]
  },
  {
   "cell_type": "code",
   "execution_count": null,
   "id": "66db5cde-d54b-420d-b294-ce20bb2c0104",
   "metadata": {},
   "outputs": [],
   "source": [
    "print(f'{comb.info()}\\n')\n",
    "print(comb.isnull().sum())\n",
    "# df1 = full_comb[full_comb.isna().any(axis=1)]\n",
    "# print (df1)"
   ]
  },
  {
   "cell_type": "code",
   "execution_count": null,
   "id": "c24273e7-e5f1-4786-916b-571797e27856",
   "metadata": {},
   "outputs": [],
   "source": [
    "# create figure\n",
    "fig = go.Figure()\n",
    "fig.add_trace(go.Scatter(x=comb.index, y=comb['temp'],\n",
    "                         mode='lines', \n",
    "                         name='Clima'))\n",
    "\n",
    "# adjust layout\n",
    "fig.update_traces(line=dict(width=1.5))\n",
    "fig.show()"
   ]
  },
  {
   "cell_type": "code",
   "execution_count": null,
   "id": "30a82343-1674-46b5-8a3d-668c75368a35",
   "metadata": {},
   "outputs": [],
   "source": [
    "# create figure\n",
    "fig = go.Figure()\n",
    "fig.add_trace(go.Scatter(x=comb.index,y=comb['y[kW]'],\n",
    "                         mode='lines',\n",
    "                         name='Energia'))\n",
    "\n",
    "# adjust layout\n",
    "fig.update_traces(line=dict(width=1.5))\n",
    "fig.show()"
   ]
  },
  {
   "cell_type": "markdown",
   "id": "f0618aa3-0b61-4fb4-b32e-c7e80d45db5e",
   "metadata": {},
   "source": [
    "## Interpolación"
   ]
  },
  {
   "cell_type": "code",
   "execution_count": null,
   "id": "3e293833-db8e-4818-b39d-3ee11861b24f",
   "metadata": {},
   "outputs": [],
   "source": [
    "# Llenamos estos valores blancos con valores que se encuentran en una curva lineal entre puntos de datos existentes\n",
    "comb['temp'].interpolate(method='linear', inplace=True)"
   ]
  },
  {
   "cell_type": "code",
   "execution_count": null,
   "id": "8ea4c422-654c-4b14-a538-d9816e429c95",
   "metadata": {},
   "outputs": [],
   "source": [
    "# Verifico datos nulos luego de interpolar valores para la temperatura\n",
    "print(comb['temp'].isnull().sum())"
   ]
  },
  {
   "cell_type": "code",
   "execution_count": null,
   "id": "815e78bf-9a22-4f10-a8f5-e40291026a73",
   "metadata": {},
   "outputs": [],
   "source": [
    "# create figure\n",
    "fig = go.Figure()\n",
    "fig.add_trace(go.Scatter(x=comb.index, y=comb['temp'],\n",
    "                         mode='lines', \n",
    "                         name='Clima'))\n",
    "\n",
    "# adjust layout\n",
    "fig.update_traces(line=dict(width=1.5))\n",
    "fig.show()"
   ]
  },
  {
   "cell_type": "code",
   "execution_count": null,
   "id": "1b19c2ac-4ffe-4d05-8bf9-a937f61715db",
   "metadata": {},
   "outputs": [],
   "source": [
    "# Llenamos estos valores blancos con valores que se encuentran en una curva lineal entre puntos de datos existentes\n",
    "comb['y[kW]'].interpolate(method='linear', inplace=True)"
   ]
  },
  {
   "cell_type": "code",
   "execution_count": null,
   "id": "c2c69868-1483-420b-a939-5020bcfc759d",
   "metadata": {},
   "outputs": [],
   "source": [
    "# Verifico datos nulos luego de interpolar valores para la energía\n",
    "print(comb['y[kW]'].isnull().sum())"
   ]
  },
  {
   "cell_type": "code",
   "execution_count": null,
   "id": "fe908ffe-a2f3-4df4-9d3f-a66f2cf3071d",
   "metadata": {},
   "outputs": [],
   "source": [
    "# create figure\n",
    "fig = go.Figure()\n",
    "fig.add_trace(go.Scatter(x=comb.index,y=comb['y[kW]'],\n",
    "                         mode='lines',\n",
    "                         name='Energia'))\n",
    "\n",
    "# adjust layout\n",
    "fig.update_traces(line=dict(width=1.5))\n",
    "fig.show()"
   ]
  },
  {
   "cell_type": "code",
   "execution_count": null,
   "id": "195d890d-4d39-4edd-a1eb-22d0f56b60c7",
   "metadata": {},
   "outputs": [],
   "source": [
    "# Verifico que la longitud de datos en ambas columnas sea igual\n",
    "comb.info()"
   ]
  },
  {
   "cell_type": "markdown",
   "id": "aa5a2bb3-4b32-41f6-82b3-f34ef66bca25",
   "metadata": {},
   "source": [
    "## Correlación demanda y clima"
   ]
  },
  {
   "cell_type": "code",
   "execution_count": null,
   "id": "d7fe56f0-7542-4567-a5e2-9ae33bec00c5",
   "metadata": {},
   "outputs": [],
   "source": [
    "actual_load_correlations = comb.corr()['y[kW]']\n",
    "actual_load_correlations.sort_values(ascending=False)"
   ]
  },
  {
   "cell_type": "markdown",
   "id": "6a07f598-85c7-4566-aae4-b7228d5f584f",
   "metadata": {},
   "source": [
    "# CSV"
   ]
  },
  {
   "cell_type": "code",
   "execution_count": null,
   "id": "95c6736d-246e-4a90-9d70-b11782f28622",
   "metadata": {},
   "outputs": [],
   "source": [
    "comb['datetime'] = comb.index\n",
    "comb.to_csv('datos_comb.csv', index = False, encoding='utf-8')"
   ]
  },
  {
   "cell_type": "code",
   "execution_count": null,
   "id": "be4f19ec-43f1-42f9-a29e-9283dcee45e5",
   "metadata": {},
   "outputs": [],
   "source": []
  }
 ],
 "metadata": {
  "kernelspec": {
   "display_name": "Python 3 (ipykernel)",
   "language": "python",
   "name": "python3"
  },
  "language_info": {
   "codemirror_mode": {
    "name": "ipython",
    "version": 3
   },
   "file_extension": ".py",
   "mimetype": "text/x-python",
   "name": "python",
   "nbconvert_exporter": "python",
   "pygments_lexer": "ipython3",
   "version": "3.7.13"
  },
  "toc-autonumbering": true,
  "toc-showmarkdowntxt": true
 },
 "nbformat": 4,
 "nbformat_minor": 5
}
